{
 "cells": [
  {
   "cell_type": "markdown",
   "metadata": {},
   "source": [
    "# Microsoft Movie Needs Analysis\n",
    "\n",
    "**Authors:** Kyle Dufrane, Brian Matsiko, Ryan Reilly\n",
    "***"
   ]
  },
  {
   "cell_type": "markdown",
   "metadata": {},
   "source": [
    "![title](images/logo.jpeg)"
   ]
  },
  {
   "cell_type": "markdown",
   "metadata": {},
   "source": [
    "## Overview\n",
    "\n",
<<<<<<< HEAD
    "This project analyzes movie data from IMDB, The Numbers, and Box Office Mojo websites. The IMDB dataset includes data of over 38,000 movies. The Numbers includes budget and revenue data of over 5,000 movies and the Box Office Mojo Studio includes revenue data of over 3,000 movies. Descriptive analysis of movie data shows that it is important to be slelective about certain attributes of the movie you make. "
=======
    "This project analyzes movie data from IMDB, The Numbers, and Box Office Mojo websites.The IMDB dataset includes data of over 38,000 movies. The Numbers includes budget and revenue data of over 5,000 movies and the Box Office Mojo Studio revenue data of over 3,000 movies. Descriptive analysis of movie data shows.....\n",
    "\n",
    "Microsoft can use this analysis to chose which movie to make..."
>>>>>>> 0a162eaf96ebe7e6f3951266d3748f20647f3a5c
   ]
  },
  {
   "cell_type": "markdown",
   "metadata": {},
   "source": [
    "## Business Problem\n",
    "\n",
    "Microsoft is looking to develop an internal film department and needs clarity on how to be the most successful in the movie industry. Microsoft has never created a movie before. Choosing the first movie to make in this department is critical to their success in the movie industry. Through our analysis of various sources, we took at look at movies that were released in the last 10 years to get an idea of how recent movies have performed. Given that, we are going to provide recommendations based on the following: \n",
    "\n",
    "- Which studio Microsoft should chose to distribute the movie\n",
    "- Which director to chose \n",
    "- When to release the movie\n",
    "- How much money to budget for the movie\n",
    "- How long to make the movie\n"
   ]
  },
  {
   "cell_type": "markdown",
   "metadata": {},
   "source": [
    "## Data Understanding\n",
    "\n",
<<<<<<< HEAD
    "IMDB is the most popular dataset about movie information. Each row in this dataset represents a unique movie and surrounding information about the movie. The Numbers dataset includes each unique movie along with budget and revenue numbers. The Box Office Mojo dataset includes domestic and forign revenue for each movie but also includes the studio that distributed the move. Below are links to the sites that we pulled our data from:"
   ]
  },
  {
   "cell_type": "markdown",
   "metadata": {},
   "source": [
    "[IMDB](https://www.imdb.com/interfaces/)\n",
    "\n",
    "[The Numbers](https://www.the-numbers.com/)\n",
    "\n",
    "[Box Office Mojo](https://www.boxofficemojo.com/)"
   ]
  },
  {
   "cell_type": "markdown",
   "metadata": {},
   "source": [
    "#### Importing packages and loading the datasets"
=======
    "IMDB is the most popular dataset about movie information. Each row in this dataset represents a unique movie and surrounding information about the movie. The Numbers dataset includes each unique movie along with budget and revenue numbers. The Box Office Mojo dataset has a dataset that includes unique domestic and foriegn revenue for each movie. The data analysis will show when the best time to release the data is, top personel to pick for a movie. "
>>>>>>> 0a162eaf96ebe7e6f3951266d3748f20647f3a5c
   ]
  },
  {
   "cell_type": "code",
<<<<<<< HEAD
   "execution_count": 152,
=======
   "execution_count": 1,
>>>>>>> 0a162eaf96ebe7e6f3951266d3748f20647f3a5c
   "metadata": {},
   "outputs": [],
   "source": [
    "# Import standard packages\n",
    "\n",
    "import pandas as pd\n",
    "import numpy as np\n",
    "import matplotlib as mpl\n",
    "import matplotlib.pyplot as plt\n",
    "%matplotlib inline\n",
    "\n",
    "import warnings\n",
    "warnings.filterwarnings('ignore')"
   ]
  },
  {
   "cell_type": "code",
<<<<<<< HEAD
   "execution_count": 153,
=======
   "execution_count": 2,
>>>>>>> 0a162eaf96ebe7e6f3951266d3748f20647f3a5c
   "metadata": {},
   "outputs": [],
   "source": [
    "# Import data from sources\n",
    "\n",
    "#Import The Numbers dataset\n",
    "budgets = pd.read_csv('data/zippeddata/tn.movie_budgets.csv')\n",
    "\n",
    "#Import the Box Office Mojo Data set\n",
    "gross_df  = pd.read_csv('data/zippedData/bom.movie_gross.csv')\n",
    "\n",
    "#Import the IMDB datasets\n",
    "name_basics = pd.read_csv('data/zippedData/imdb.name.basics.csv')\n",
    "title_akas = pd.read_csv('data/zippedData/imdb.title.akas.csv')\n",
    "title_basics = pd.read_csv('data/zippedData/imdb.title.basics.csv')\n",
    "title_crew = pd.read_csv('data/zippedData/imdb.title.crew.csv')\n",
    "title_principals = pd.read_csv('data/zippedData/imdb.title.principals.csv')\n",
    "title_ratings = pd.read_csv('data/zippedData/imdb.title.ratings.csv')"
   ]
  },
  {
<<<<<<< HEAD
   "cell_type": "markdown",
=======
   "cell_type": "code",
   "execution_count": 3,
>>>>>>> 0a162eaf96ebe7e6f3951266d3748f20647f3a5c
   "metadata": {},
   "source": [
    "#### Get an understanding of each table"
   ]
  },
  {
   "cell_type": "code",
   "execution_count": 154,
   "metadata": {
    "scrolled": true
   },
   "outputs": [
    {
     "name": "stdout",
     "output_type": "stream",
     "text": [
      "<class 'pandas.core.frame.DataFrame'>\n",
      "RangeIndex: 5782 entries, 0 to 5781\n",
      "Data columns (total 6 columns):\n",
      " #   Column             Non-Null Count  Dtype \n",
      "---  ------             --------------  ----- \n",
      " 0   id                 5782 non-null   int64 \n",
      " 1   release_date       5782 non-null   object\n",
      " 2   movie              5782 non-null   object\n",
      " 3   production_budget  5782 non-null   object\n",
      " 4   domestic_gross     5782 non-null   object\n",
      " 5   worldwide_gross    5782 non-null   object\n",
      "dtypes: int64(1), object(5)\n",
      "memory usage: 271.2+ KB\n"
     ]
    }
   ],
   "source": [
    "budgets.info()"
   ]
  },
  {
<<<<<<< HEAD
   "cell_type": "markdown",
=======
   "cell_type": "code",
   "execution_count": 4,
>>>>>>> 0a162eaf96ebe7e6f3951266d3748f20647f3a5c
   "metadata": {},
   "source": [
    "Release date will need to be changed to a datetime and broken up into multiple date columns to dive deeper into when a movie was released."
   ]
  },
  {
   "cell_type": "code",
   "execution_count": 155,
   "metadata": {
    "scrolled": true
   },
   "outputs": [
    {
     "name": "stdout",
     "output_type": "stream",
     "text": [
      "<class 'pandas.core.frame.DataFrame'>\n",
      "RangeIndex: 3387 entries, 0 to 3386\n",
      "Data columns (total 5 columns):\n",
      " #   Column          Non-Null Count  Dtype  \n",
      "---  ------          --------------  -----  \n",
      " 0   title           3387 non-null   object \n",
      " 1   studio          3382 non-null   object \n",
      " 2   domestic_gross  3359 non-null   float64\n",
      " 3   foreign_gross   2037 non-null   object \n",
      " 4   year            3387 non-null   int64  \n",
      "dtypes: float64(1), int64(1), object(3)\n",
      "memory usage: 132.4+ KB\n"
     ]
    }
   ],
   "source": [
    "gross_df.info()"
   ]
  },
  {
<<<<<<< HEAD
   "cell_type": "markdown",
   "metadata": {},
   "source": [
    "Foreign gross needs to be changed to a float. Studio names look to be abbreviated, so we will need to change them into the full studio name. "
   ]
  },
  {
   "cell_type": "markdown",
=======
   "cell_type": "code",
   "execution_count": 5,
>>>>>>> 0a162eaf96ebe7e6f3951266d3748f20647f3a5c
   "metadata": {},
   "source": [
    "#### For the IMDB tables below, nconst and tconst will be used as the primary and foriegn keys to join the tables into a final merged table."
   ]
  },
  {
   "cell_type": "code",
   "execution_count": 156,
   "metadata": {
    "scrolled": false
   },
   "outputs": [
    {
     "name": "stdout",
     "output_type": "stream",
     "text": [
      "<class 'pandas.core.frame.DataFrame'>\n",
      "RangeIndex: 606648 entries, 0 to 606647\n",
      "Data columns (total 6 columns):\n",
      " #   Column              Non-Null Count   Dtype  \n",
      "---  ------              --------------   -----  \n",
      " 0   nconst              606648 non-null  object \n",
      " 1   primary_name        606648 non-null  object \n",
      " 2   birth_year          82736 non-null   float64\n",
      " 3   death_year          6783 non-null    float64\n",
      " 4   primary_profession  555308 non-null  object \n",
      " 5   known_for_titles    576444 non-null  object \n",
      "dtypes: float64(2), object(4)\n",
      "memory usage: 27.8+ MB\n"
     ]
    }
   ],
   "source": [
    "name_basics.info()"
   ]
  },
  {
   "cell_type": "markdown",
   "metadata": {},
   "source": [
    "We used all the missing values in the death year. If there was a value in the death year, we dropped it from this table. "
   ]
  },
  {
   "cell_type": "code",
<<<<<<< HEAD
   "execution_count": 157,
=======
   "execution_count": 6,
>>>>>>> 0a162eaf96ebe7e6f3951266d3748f20647f3a5c
   "metadata": {},
   "outputs": [
    {
     "name": "stdout",
     "output_type": "stream",
     "text": [
      "<class 'pandas.core.frame.DataFrame'>\n",
      "RangeIndex: 331703 entries, 0 to 331702\n",
      "Data columns (total 8 columns):\n",
      " #   Column             Non-Null Count   Dtype  \n",
      "---  ------             --------------   -----  \n",
      " 0   title_id           331703 non-null  object \n",
      " 1   ordering           331703 non-null  int64  \n",
      " 2   title              331703 non-null  object \n",
      " 3   region             278410 non-null  object \n",
      " 4   language           41715 non-null   object \n",
      " 5   types              168447 non-null  object \n",
      " 6   attributes         14925 non-null   object \n",
      " 7   is_original_title  331678 non-null  float64\n",
      "dtypes: float64(1), int64(1), object(6)\n",
      "memory usage: 20.2+ MB\n"
     ]
    }
   ],
   "source": [
    "title_akas.info()"
   ]
  },
  {
   "cell_type": "code",
<<<<<<< HEAD
   "execution_count": 158,
   "metadata": {
    "scrolled": true
   },
=======
   "execution_count": 7,
   "metadata": {},
>>>>>>> 0a162eaf96ebe7e6f3951266d3748f20647f3a5c
   "outputs": [
    {
     "name": "stdout",
     "output_type": "stream",
     "text": [
      "<class 'pandas.core.frame.DataFrame'>\n",
      "RangeIndex: 146144 entries, 0 to 146143\n",
      "Data columns (total 6 columns):\n",
      " #   Column           Non-Null Count   Dtype  \n",
      "---  ------           --------------   -----  \n",
      " 0   tconst           146144 non-null  object \n",
      " 1   primary_title    146144 non-null  object \n",
      " 2   original_title   146123 non-null  object \n",
      " 3   start_year       146144 non-null  int64  \n",
      " 4   runtime_minutes  114405 non-null  float64\n",
      " 5   genres           140736 non-null  object \n",
      "dtypes: float64(1), int64(1), object(4)\n",
      "memory usage: 6.7+ MB\n"
     ]
    }
   ],
   "source": [
    "title_basics.info()"
   ]
  },
  {
   "cell_type": "markdown",
   "metadata": {},
   "source": [
    "We are missing roughly 20 percent of the values in the runtime_minutes column. We decided to use the mean for any further analysis on this column."
   ]
  },
  {
   "cell_type": "code",
<<<<<<< HEAD
   "execution_count": 159,
=======
   "execution_count": 8,
>>>>>>> 0a162eaf96ebe7e6f3951266d3748f20647f3a5c
   "metadata": {},
   "outputs": [
    {
     "name": "stdout",
     "output_type": "stream",
     "text": [
      "<class 'pandas.core.frame.DataFrame'>\n",
      "RangeIndex: 146144 entries, 0 to 146143\n",
      "Data columns (total 3 columns):\n",
      " #   Column     Non-Null Count   Dtype \n",
      "---  ------     --------------   ----- \n",
      " 0   tconst     146144 non-null  object\n",
      " 1   directors  140417 non-null  object\n",
      " 2   writers    110261 non-null  object\n",
      "dtypes: object(3)\n",
      "memory usage: 3.3+ MB\n"
     ]
    }
   ],
   "source": [
    "title_crew.info()"
   ]
  },
  {
   "cell_type": "code",
<<<<<<< HEAD
   "execution_count": 160,
=======
   "execution_count": 9,
>>>>>>> 0a162eaf96ebe7e6f3951266d3748f20647f3a5c
   "metadata": {},
   "outputs": [
    {
     "name": "stdout",
     "output_type": "stream",
     "text": [
      "<class 'pandas.core.frame.DataFrame'>\n",
      "RangeIndex: 1028186 entries, 0 to 1028185\n",
      "Data columns (total 6 columns):\n",
      " #   Column      Non-Null Count    Dtype \n",
      "---  ------      --------------    ----- \n",
      " 0   tconst      1028186 non-null  object\n",
      " 1   ordering    1028186 non-null  int64 \n",
      " 2   nconst      1028186 non-null  object\n",
      " 3   category    1028186 non-null  object\n",
      " 4   job         177684 non-null   object\n",
      " 5   characters  393360 non-null   object\n",
      "dtypes: int64(1), object(5)\n",
      "memory usage: 47.1+ MB\n"
     ]
    }
   ],
   "source": [
    "title_principals.info()"
   ]
  },
  {
   "cell_type": "code",
<<<<<<< HEAD
   "execution_count": 161,
=======
   "execution_count": 10,
>>>>>>> 0a162eaf96ebe7e6f3951266d3748f20647f3a5c
   "metadata": {},
   "outputs": [
    {
     "name": "stdout",
     "output_type": "stream",
     "text": [
      "<class 'pandas.core.frame.DataFrame'>\n",
      "RangeIndex: 73856 entries, 0 to 73855\n",
      "Data columns (total 3 columns):\n",
      " #   Column         Non-Null Count  Dtype  \n",
      "---  ------         --------------  -----  \n",
      " 0   tconst         73856 non-null  object \n",
      " 1   averagerating  73856 non-null  float64\n",
      " 2   numvotes       73856 non-null  int64  \n",
      "dtypes: float64(1), int64(1), object(1)\n",
      "memory usage: 1.7+ MB\n"
     ]
    }
   ],
   "source": [
    "title_ratings.info()"
   ]
  },
  {
   "cell_type": "markdown",
   "metadata": {},
   "source": [
    "## Data Preparation"
   ]
  },
  {
   "cell_type": "markdown",
   "metadata": {},
   "source": [
    "### Budgets Data"
   ]
  },
  {
   "cell_type": "code",
<<<<<<< HEAD
   "execution_count": 162,
=======
   "execution_count": 11,
>>>>>>> 0a162eaf96ebe7e6f3951266d3748f20647f3a5c
   "metadata": {},
   "outputs": [
    {
     "data": {
      "text/html": [
       "<div>\n",
       "<style scoped>\n",
       "    .dataframe tbody tr th:only-of-type {\n",
       "        vertical-align: middle;\n",
       "    }\n",
       "\n",
       "    .dataframe tbody tr th {\n",
       "        vertical-align: top;\n",
       "    }\n",
       "\n",
       "    .dataframe thead th {\n",
       "        text-align: right;\n",
       "    }\n",
       "</style>\n",
       "<table border=\"1\" class=\"dataframe\">\n",
       "  <thead>\n",
       "    <tr style=\"text-align: right;\">\n",
       "      <th></th>\n",
       "      <th>id</th>\n",
       "      <th>release_date</th>\n",
       "      <th>movie</th>\n",
       "      <th>production_budget</th>\n",
       "      <th>domestic_gross</th>\n",
       "      <th>worldwide_gross</th>\n",
       "    </tr>\n",
       "  </thead>\n",
       "  <tbody>\n",
       "    <tr>\n",
       "      <th>0</th>\n",
       "      <td>1</td>\n",
       "      <td>Dec 18, 2009</td>\n",
       "      <td>Avatar</td>\n",
       "      <td>$425,000,000</td>\n",
       "      <td>$760,507,625</td>\n",
       "      <td>$2,776,345,279</td>\n",
       "    </tr>\n",
       "    <tr>\n",
       "      <th>1</th>\n",
       "      <td>2</td>\n",
       "      <td>May 20, 2011</td>\n",
       "      <td>Pirates of the Caribbean: On Stranger Tides</td>\n",
       "      <td>$410,600,000</td>\n",
       "      <td>$241,063,875</td>\n",
       "      <td>$1,045,663,875</td>\n",
       "    </tr>\n",
       "    <tr>\n",
       "      <th>2</th>\n",
       "      <td>3</td>\n",
       "      <td>Jun 7, 2019</td>\n",
       "      <td>Dark Phoenix</td>\n",
       "      <td>$350,000,000</td>\n",
       "      <td>$42,762,350</td>\n",
       "      <td>$149,762,350</td>\n",
       "    </tr>\n",
       "    <tr>\n",
       "      <th>3</th>\n",
       "      <td>4</td>\n",
       "      <td>May 1, 2015</td>\n",
       "      <td>Avengers: Age of Ultron</td>\n",
       "      <td>$330,600,000</td>\n",
       "      <td>$459,005,868</td>\n",
       "      <td>$1,403,013,963</td>\n",
       "    </tr>\n",
       "    <tr>\n",
       "      <th>4</th>\n",
       "      <td>5</td>\n",
       "      <td>Dec 15, 2017</td>\n",
       "      <td>Star Wars Ep. VIII: The Last Jedi</td>\n",
       "      <td>$317,000,000</td>\n",
       "      <td>$620,181,382</td>\n",
       "      <td>$1,316,721,747</td>\n",
       "    </tr>\n",
       "  </tbody>\n",
       "</table>\n",
       "</div>"
      ],
      "text/plain": [
       "   id  release_date                                        movie  \\\n",
       "0   1  Dec 18, 2009                                       Avatar   \n",
       "1   2  May 20, 2011  Pirates of the Caribbean: On Stranger Tides   \n",
       "2   3   Jun 7, 2019                                 Dark Phoenix   \n",
       "3   4   May 1, 2015                      Avengers: Age of Ultron   \n",
       "4   5  Dec 15, 2017            Star Wars Ep. VIII: The Last Jedi   \n",
       "\n",
       "  production_budget domestic_gross worldwide_gross  \n",
       "0      $425,000,000   $760,507,625  $2,776,345,279  \n",
       "1      $410,600,000   $241,063,875  $1,045,663,875  \n",
       "2      $350,000,000    $42,762,350    $149,762,350  \n",
       "3      $330,600,000   $459,005,868  $1,403,013,963  \n",
       "4      $317,000,000   $620,181,382  $1,316,721,747  "
      ]
     },
<<<<<<< HEAD
     "execution_count": 162,
=======
     "execution_count": 11,
>>>>>>> 0a162eaf96ebe7e6f3951266d3748f20647f3a5c
     "metadata": {},
     "output_type": "execute_result"
    }
   ],
   "source": [
    "#View the first 5 rows\n",
    "budgets.head()"
   ]
  },
  {
   "cell_type": "code",
<<<<<<< HEAD
   "execution_count": 163,
=======
   "execution_count": 12,
>>>>>>> 0a162eaf96ebe7e6f3951266d3748f20647f3a5c
   "metadata": {},
   "outputs": [
    {
     "data": {
      "text/plain": [
       "id                   0\n",
       "release_date         0\n",
       "movie                0\n",
       "production_budget    0\n",
       "domestic_gross       0\n",
       "worldwide_gross      0\n",
       "dtype: int64"
      ]
     },
<<<<<<< HEAD
     "execution_count": 163,
=======
     "execution_count": 12,
>>>>>>> 0a162eaf96ebe7e6f3951266d3748f20647f3a5c
     "metadata": {},
     "output_type": "execute_result"
    }
   ],
   "source": [
    "#Checking for NAs\n",
    "budgets.isnull().sum()"
   ]
  },
  {
   "cell_type": "code",
<<<<<<< HEAD
   "execution_count": 164,
=======
   "execution_count": 13,
>>>>>>> 0a162eaf96ebe7e6f3951266d3748f20647f3a5c
   "metadata": {},
   "outputs": [
    {
     "data": {
      "text/plain": [
       "0"
      ]
     },
<<<<<<< HEAD
     "execution_count": 164,
=======
     "execution_count": 13,
>>>>>>> 0a162eaf96ebe7e6f3951266d3748f20647f3a5c
     "metadata": {},
     "output_type": "execute_result"
    }
   ],
   "source": [
    "#Checking for duplicates\n",
    "budgets.duplicated().sum()"
   ]
  },
  {
   "cell_type": "code",
<<<<<<< HEAD
   "execution_count": 165,
=======
   "execution_count": 14,
>>>>>>> 0a162eaf96ebe7e6f3951266d3748f20647f3a5c
   "metadata": {},
   "outputs": [],
   "source": [
    "#Change date column to DateTime\n",
    "budgets['release_date'] = pd.to_datetime(budgets['release_date'])\n",
    "\n",
    "#Change money columns to int\n",
    "budgets['production_budget'] = budgets['production_budget'].replace('[\\$,]', '', regex=True).astype(float)\n",
    "budgets['domestic_gross'] = budgets['domestic_gross'].replace('[\\$,]', '', regex=True).astype(float)\n",
    "budgets['worldwide_gross'] = budgets['worldwide_gross'].replace('[\\$,]', '', regex=True).astype(float)"
   ]
  },
  {
   "cell_type": "code",
<<<<<<< HEAD
   "execution_count": 166,
=======
   "execution_count": 15,
>>>>>>> 0a162eaf96ebe7e6f3951266d3748f20647f3a5c
   "metadata": {},
   "outputs": [
    {
     "data": {
      "text/html": [
       "<div>\n",
       "<style scoped>\n",
       "    .dataframe tbody tr th:only-of-type {\n",
       "        vertical-align: middle;\n",
       "    }\n",
       "\n",
       "    .dataframe tbody tr th {\n",
       "        vertical-align: top;\n",
       "    }\n",
       "\n",
       "    .dataframe thead th {\n",
       "        text-align: right;\n",
       "    }\n",
       "</style>\n",
       "<table border=\"1\" class=\"dataframe\">\n",
       "  <thead>\n",
       "    <tr style=\"text-align: right;\">\n",
       "      <th></th>\n",
       "      <th>id</th>\n",
       "      <th>production_budget</th>\n",
       "      <th>domestic_gross</th>\n",
       "      <th>worldwide_gross</th>\n",
       "    </tr>\n",
       "  </thead>\n",
       "  <tbody>\n",
       "    <tr>\n",
       "      <th>count</th>\n",
       "      <td>5782.000000</td>\n",
       "      <td>5.782000e+03</td>\n",
       "      <td>5.782000e+03</td>\n",
       "      <td>5.782000e+03</td>\n",
       "    </tr>\n",
       "    <tr>\n",
       "      <th>mean</th>\n",
       "      <td>50.372363</td>\n",
       "      <td>3.158776e+07</td>\n",
       "      <td>4.187333e+07</td>\n",
       "      <td>9.148746e+07</td>\n",
       "    </tr>\n",
       "    <tr>\n",
       "      <th>std</th>\n",
       "      <td>28.821076</td>\n",
       "      <td>4.181208e+07</td>\n",
       "      <td>6.824060e+07</td>\n",
       "      <td>1.747200e+08</td>\n",
       "    </tr>\n",
       "    <tr>\n",
       "      <th>min</th>\n",
       "      <td>1.000000</td>\n",
       "      <td>1.100000e+03</td>\n",
       "      <td>0.000000e+00</td>\n",
       "      <td>0.000000e+00</td>\n",
       "    </tr>\n",
       "    <tr>\n",
       "      <th>25%</th>\n",
       "      <td>25.000000</td>\n",
       "      <td>5.000000e+06</td>\n",
       "      <td>1.429534e+06</td>\n",
       "      <td>4.125415e+06</td>\n",
       "    </tr>\n",
       "    <tr>\n",
       "      <th>50%</th>\n",
       "      <td>50.000000</td>\n",
       "      <td>1.700000e+07</td>\n",
       "      <td>1.722594e+07</td>\n",
       "      <td>2.798445e+07</td>\n",
       "    </tr>\n",
       "    <tr>\n",
       "      <th>75%</th>\n",
       "      <td>75.000000</td>\n",
       "      <td>4.000000e+07</td>\n",
       "      <td>5.234866e+07</td>\n",
       "      <td>9.764584e+07</td>\n",
       "    </tr>\n",
       "    <tr>\n",
       "      <th>max</th>\n",
       "      <td>100.000000</td>\n",
       "      <td>4.250000e+08</td>\n",
       "      <td>9.366622e+08</td>\n",
       "      <td>2.776345e+09</td>\n",
       "    </tr>\n",
       "  </tbody>\n",
       "</table>\n",
       "</div>"
      ],
      "text/plain": [
       "                id  production_budget  domestic_gross  worldwide_gross\n",
       "count  5782.000000       5.782000e+03    5.782000e+03     5.782000e+03\n",
       "mean     50.372363       3.158776e+07    4.187333e+07     9.148746e+07\n",
       "std      28.821076       4.181208e+07    6.824060e+07     1.747200e+08\n",
       "min       1.000000       1.100000e+03    0.000000e+00     0.000000e+00\n",
       "25%      25.000000       5.000000e+06    1.429534e+06     4.125415e+06\n",
       "50%      50.000000       1.700000e+07    1.722594e+07     2.798445e+07\n",
       "75%      75.000000       4.000000e+07    5.234866e+07     9.764584e+07\n",
       "max     100.000000       4.250000e+08    9.366622e+08     2.776345e+09"
      ]
     },
<<<<<<< HEAD
     "execution_count": 166,
=======
     "execution_count": 15,
>>>>>>> 0a162eaf96ebe7e6f3951266d3748f20647f3a5c
     "metadata": {},
     "output_type": "execute_result"
    }
   ],
   "source": [
    "#View stats on the numeric columns\n",
    "budgets.describe()"
   ]
  },
  {
   "cell_type": "markdown",
   "metadata": {},
   "source": [
    "### Studio Data"
   ]
  },
  {
   "cell_type": "code",
<<<<<<< HEAD
   "execution_count": 167,
=======
   "execution_count": 16,
>>>>>>> 0a162eaf96ebe7e6f3951266d3748f20647f3a5c
   "metadata": {},
   "outputs": [
    {
     "data": {
      "text/html": [
       "<div>\n",
       "<style scoped>\n",
       "    .dataframe tbody tr th:only-of-type {\n",
       "        vertical-align: middle;\n",
       "    }\n",
       "\n",
       "    .dataframe tbody tr th {\n",
       "        vertical-align: top;\n",
       "    }\n",
       "\n",
       "    .dataframe thead th {\n",
       "        text-align: right;\n",
       "    }\n",
       "</style>\n",
       "<table border=\"1\" class=\"dataframe\">\n",
       "  <thead>\n",
       "    <tr style=\"text-align: right;\">\n",
       "      <th></th>\n",
       "      <th>title</th>\n",
       "      <th>studio</th>\n",
       "      <th>domestic_gross</th>\n",
       "      <th>foreign_gross</th>\n",
       "      <th>year</th>\n",
       "    </tr>\n",
       "  </thead>\n",
       "  <tbody>\n",
       "    <tr>\n",
       "      <th>0</th>\n",
       "      <td>Toy Story 3</td>\n",
       "      <td>BV</td>\n",
       "      <td>415000000.0</td>\n",
       "      <td>652000000</td>\n",
       "      <td>2010</td>\n",
       "    </tr>\n",
       "    <tr>\n",
       "      <th>1</th>\n",
       "      <td>Alice in Wonderland (2010)</td>\n",
       "      <td>BV</td>\n",
       "      <td>334200000.0</td>\n",
       "      <td>691300000</td>\n",
       "      <td>2010</td>\n",
       "    </tr>\n",
       "    <tr>\n",
       "      <th>2</th>\n",
       "      <td>Harry Potter and the Deathly Hallows Part 1</td>\n",
       "      <td>WB</td>\n",
       "      <td>296000000.0</td>\n",
       "      <td>664300000</td>\n",
       "      <td>2010</td>\n",
       "    </tr>\n",
       "    <tr>\n",
       "      <th>3</th>\n",
       "      <td>Inception</td>\n",
       "      <td>WB</td>\n",
       "      <td>292600000.0</td>\n",
       "      <td>535700000</td>\n",
       "      <td>2010</td>\n",
       "    </tr>\n",
       "    <tr>\n",
       "      <th>4</th>\n",
       "      <td>Shrek Forever After</td>\n",
       "      <td>P/DW</td>\n",
       "      <td>238700000.0</td>\n",
       "      <td>513900000</td>\n",
       "      <td>2010</td>\n",
       "    </tr>\n",
       "  </tbody>\n",
       "</table>\n",
       "</div>"
      ],
      "text/plain": [
       "                                         title studio  domestic_gross  \\\n",
       "0                                  Toy Story 3     BV     415000000.0   \n",
       "1                   Alice in Wonderland (2010)     BV     334200000.0   \n",
       "2  Harry Potter and the Deathly Hallows Part 1     WB     296000000.0   \n",
       "3                                    Inception     WB     292600000.0   \n",
       "4                          Shrek Forever After   P/DW     238700000.0   \n",
       "\n",
       "  foreign_gross  year  \n",
       "0     652000000  2010  \n",
       "1     691300000  2010  \n",
       "2     664300000  2010  \n",
       "3     535700000  2010  \n",
       "4     513900000  2010  "
      ]
     },
<<<<<<< HEAD
     "execution_count": 167,
=======
     "execution_count": 16,
>>>>>>> 0a162eaf96ebe7e6f3951266d3748f20647f3a5c
     "metadata": {},
     "output_type": "execute_result"
    }
   ],
   "source": [
    "#View the first 5 rows\n",
    "gross_df.head()"
   ]
  },
  {
   "cell_type": "code",
<<<<<<< HEAD
   "execution_count": 168,
=======
   "execution_count": 17,
>>>>>>> 0a162eaf96ebe7e6f3951266d3748f20647f3a5c
   "metadata": {},
   "outputs": [
    {
     "data": {
      "text/plain": [
       "title                0\n",
       "studio               5\n",
       "domestic_gross      28\n",
       "foreign_gross     1350\n",
       "year                 0\n",
       "dtype: int64"
      ]
     },
<<<<<<< HEAD
     "execution_count": 168,
=======
     "execution_count": 17,
>>>>>>> 0a162eaf96ebe7e6f3951266d3748f20647f3a5c
     "metadata": {},
     "output_type": "execute_result"
    }
   ],
   "source": [
    "#Checking for NAs\n",
    "gross_df.isna().sum()"
   ]
  },
  {
   "cell_type": "code",
<<<<<<< HEAD
   "execution_count": 169,
=======
   "execution_count": 18,
>>>>>>> 0a162eaf96ebe7e6f3951266d3748f20647f3a5c
   "metadata": {},
   "outputs": [
    {
     "data": {
      "text/plain": [
       "0"
      ]
     },
<<<<<<< HEAD
     "execution_count": 169,
=======
     "execution_count": 18,
>>>>>>> 0a162eaf96ebe7e6f3951266d3748f20647f3a5c
     "metadata": {},
     "output_type": "execute_result"
    }
   ],
   "source": [
    "#Checking for duplicates\n",
    "gross_df.duplicated().sum()"
   ]
  },
  {
   "cell_type": "code",
<<<<<<< HEAD
   "execution_count": 170,
=======
   "execution_count": 19,
>>>>>>> 0a162eaf96ebe7e6f3951266d3748f20647f3a5c
   "metadata": {},
   "outputs": [],
   "source": [
    "#Replacing the comma values in \"foreign-gross\"\n",
    "gross_df['foreign_gross'].replace(',','', regex=True, inplace=True)"
   ]
  },
  {
   "cell_type": "code",
<<<<<<< HEAD
   "execution_count": 171,
=======
   "execution_count": 20,
>>>>>>> 0a162eaf96ebe7e6f3951266d3748f20647f3a5c
   "metadata": {},
   "outputs": [],
   "source": [
    "#Convert foreign-gross to float\n",
    "gross_df[\"foreign_gross\"]= gross_df['foreign_gross'].astype(float)"
   ]
  },
  {
   "cell_type": "code",
   "execution_count": 172,
   "metadata": {},
   "outputs": [],
   "source": [
    "#renaming studios to easy readibility\n",
    "gross_df['studio'].replace({'BV':'Walt Disney Studios (BV)','WB':'Warner Bros.','P/DW':'Dream Works','Par.': 'Paramount', \n",
    "                           'Uni.': 'Universal Studios','LGF' :'Lionsgate', 'SPC':'Sony',\n",
    "                           'Magn.':'Magnolia', 'WB (NL)':'Warner Bros.', 'LG/S':'Lionsgate'}, inplace=True)"
   ]
  },
  {
   "cell_type": "code",
   "execution_count": 173,
   "metadata": {},
   "outputs": [
    {
     "data": {
      "text/html": [
       "<div>\n",
       "<style scoped>\n",
       "    .dataframe tbody tr th:only-of-type {\n",
       "        vertical-align: middle;\n",
       "    }\n",
       "\n",
       "    .dataframe tbody tr th {\n",
       "        vertical-align: top;\n",
       "    }\n",
       "\n",
       "    .dataframe thead th {\n",
       "        text-align: right;\n",
       "    }\n",
       "</style>\n",
       "<table border=\"1\" class=\"dataframe\">\n",
       "  <thead>\n",
       "    <tr style=\"text-align: right;\">\n",
       "      <th></th>\n",
       "      <th>domestic_gross</th>\n",
       "      <th>foreign_gross</th>\n",
       "      <th>year</th>\n",
       "    </tr>\n",
       "  </thead>\n",
       "  <tbody>\n",
       "    <tr>\n",
       "      <th>count</th>\n",
       "      <td>3.359000e+03</td>\n",
       "      <td>2.037000e+03</td>\n",
       "      <td>3387.000000</td>\n",
       "    </tr>\n",
       "    <tr>\n",
       "      <th>mean</th>\n",
       "      <td>2.874585e+07</td>\n",
       "      <td>7.487281e+07</td>\n",
       "      <td>2013.958075</td>\n",
       "    </tr>\n",
       "    <tr>\n",
       "      <th>std</th>\n",
       "      <td>6.698250e+07</td>\n",
       "      <td>1.374106e+08</td>\n",
       "      <td>2.478141</td>\n",
       "    </tr>\n",
       "    <tr>\n",
       "      <th>min</th>\n",
       "      <td>1.000000e+02</td>\n",
       "      <td>6.000000e+02</td>\n",
       "      <td>2010.000000</td>\n",
       "    </tr>\n",
       "    <tr>\n",
       "      <th>25%</th>\n",
       "      <td>1.200000e+05</td>\n",
       "      <td>3.700000e+06</td>\n",
       "      <td>2012.000000</td>\n",
       "    </tr>\n",
       "    <tr>\n",
       "      <th>50%</th>\n",
       "      <td>1.400000e+06</td>\n",
       "      <td>1.870000e+07</td>\n",
       "      <td>2014.000000</td>\n",
       "    </tr>\n",
       "    <tr>\n",
       "      <th>75%</th>\n",
       "      <td>2.790000e+07</td>\n",
       "      <td>7.490000e+07</td>\n",
       "      <td>2016.000000</td>\n",
       "    </tr>\n",
       "    <tr>\n",
       "      <th>max</th>\n",
       "      <td>9.367000e+08</td>\n",
       "      <td>9.605000e+08</td>\n",
       "      <td>2018.000000</td>\n",
       "    </tr>\n",
       "  </tbody>\n",
       "</table>\n",
       "</div>"
      ],
      "text/plain": [
       "       domestic_gross  foreign_gross         year\n",
       "count    3.359000e+03   2.037000e+03  3387.000000\n",
       "mean     2.874585e+07   7.487281e+07  2013.958075\n",
       "std      6.698250e+07   1.374106e+08     2.478141\n",
       "min      1.000000e+02   6.000000e+02  2010.000000\n",
       "25%      1.200000e+05   3.700000e+06  2012.000000\n",
       "50%      1.400000e+06   1.870000e+07  2014.000000\n",
       "75%      2.790000e+07   7.490000e+07  2016.000000\n",
       "max      9.367000e+08   9.605000e+08  2018.000000"
      ]
     },
     "execution_count": 173,
     "metadata": {},
     "output_type": "execute_result"
    }
   ],
   "source": [
    "#View stats on the numeric columns\n",
    "gross_df.describe()"
   ]
  },
  {
   "cell_type": "markdown",
   "metadata": {},
   "source": [
    "### IMDB Data"
   ]
  },
  {
   "cell_type": "markdown",
   "metadata": {},
   "source": [
    "View top 5 rows"
   ]
  },
  {
   "cell_type": "code",
<<<<<<< HEAD
   "execution_count": 174,
=======
   "execution_count": 21,
>>>>>>> 0a162eaf96ebe7e6f3951266d3748f20647f3a5c
   "metadata": {},
   "outputs": [
    {
     "data": {
      "text/html": [
       "<div>\n",
       "<style scoped>\n",
       "    .dataframe tbody tr th:only-of-type {\n",
       "        vertical-align: middle;\n",
       "    }\n",
       "\n",
       "    .dataframe tbody tr th {\n",
       "        vertical-align: top;\n",
       "    }\n",
       "\n",
       "    .dataframe thead th {\n",
       "        text-align: right;\n",
       "    }\n",
       "</style>\n",
       "<table border=\"1\" class=\"dataframe\">\n",
       "  <thead>\n",
       "    <tr style=\"text-align: right;\">\n",
       "      <th></th>\n",
       "      <th>nconst</th>\n",
       "      <th>primary_name</th>\n",
       "      <th>birth_year</th>\n",
       "      <th>death_year</th>\n",
       "      <th>primary_profession</th>\n",
       "      <th>known_for_titles</th>\n",
       "    </tr>\n",
       "  </thead>\n",
       "  <tbody>\n",
       "    <tr>\n",
       "      <th>0</th>\n",
       "      <td>nm0061671</td>\n",
       "      <td>Mary Ellen Bauder</td>\n",
       "      <td>NaN</td>\n",
       "      <td>NaN</td>\n",
       "      <td>miscellaneous,production_manager,producer</td>\n",
       "      <td>tt0837562,tt2398241,tt0844471,tt0118553</td>\n",
       "    </tr>\n",
       "    <tr>\n",
       "      <th>1</th>\n",
       "      <td>nm0061865</td>\n",
       "      <td>Joseph Bauer</td>\n",
       "      <td>NaN</td>\n",
       "      <td>NaN</td>\n",
       "      <td>composer,music_department,sound_department</td>\n",
       "      <td>tt0896534,tt6791238,tt0287072,tt1682940</td>\n",
       "    </tr>\n",
       "    <tr>\n",
       "      <th>2</th>\n",
       "      <td>nm0062070</td>\n",
       "      <td>Bruce Baum</td>\n",
       "      <td>NaN</td>\n",
       "      <td>NaN</td>\n",
       "      <td>miscellaneous,actor,writer</td>\n",
       "      <td>tt1470654,tt0363631,tt0104030,tt0102898</td>\n",
       "    </tr>\n",
       "    <tr>\n",
       "      <th>3</th>\n",
       "      <td>nm0062195</td>\n",
       "      <td>Axel Baumann</td>\n",
       "      <td>NaN</td>\n",
       "      <td>NaN</td>\n",
       "      <td>camera_department,cinematographer,art_department</td>\n",
       "      <td>tt0114371,tt2004304,tt1618448,tt1224387</td>\n",
       "    </tr>\n",
       "    <tr>\n",
       "      <th>4</th>\n",
       "      <td>nm0062798</td>\n",
       "      <td>Pete Baxter</td>\n",
       "      <td>NaN</td>\n",
       "      <td>NaN</td>\n",
       "      <td>production_designer,art_department,set_decorator</td>\n",
       "      <td>tt0452644,tt0452692,tt3458030,tt2178256</td>\n",
       "    </tr>\n",
       "  </tbody>\n",
       "</table>\n",
       "</div>"
      ],
      "text/plain": [
       "      nconst       primary_name  birth_year  death_year  \\\n",
       "0  nm0061671  Mary Ellen Bauder         NaN         NaN   \n",
       "1  nm0061865       Joseph Bauer         NaN         NaN   \n",
       "2  nm0062070         Bruce Baum         NaN         NaN   \n",
       "3  nm0062195       Axel Baumann         NaN         NaN   \n",
       "4  nm0062798        Pete Baxter         NaN         NaN   \n",
       "\n",
       "                                 primary_profession  \\\n",
       "0         miscellaneous,production_manager,producer   \n",
       "1        composer,music_department,sound_department   \n",
       "2                        miscellaneous,actor,writer   \n",
       "3  camera_department,cinematographer,art_department   \n",
       "4  production_designer,art_department,set_decorator   \n",
       "\n",
       "                          known_for_titles  \n",
       "0  tt0837562,tt2398241,tt0844471,tt0118553  \n",
       "1  tt0896534,tt6791238,tt0287072,tt1682940  \n",
       "2  tt1470654,tt0363631,tt0104030,tt0102898  \n",
       "3  tt0114371,tt2004304,tt1618448,tt1224387  \n",
       "4  tt0452644,tt0452692,tt3458030,tt2178256  "
      ]
     },
<<<<<<< HEAD
     "execution_count": 174,
=======
     "execution_count": 21,
>>>>>>> 0a162eaf96ebe7e6f3951266d3748f20647f3a5c
     "metadata": {},
     "output_type": "execute_result"
    }
   ],
   "source": [
    "name_basics.head()"
   ]
  },
  {
   "cell_type": "code",
<<<<<<< HEAD
   "execution_count": 175,
=======
   "execution_count": 22,
>>>>>>> 0a162eaf96ebe7e6f3951266d3748f20647f3a5c
   "metadata": {},
   "outputs": [
    {
     "data": {
      "text/html": [
       "<div>\n",
       "<style scoped>\n",
       "    .dataframe tbody tr th:only-of-type {\n",
       "        vertical-align: middle;\n",
       "    }\n",
       "\n",
       "    .dataframe tbody tr th {\n",
       "        vertical-align: top;\n",
       "    }\n",
       "\n",
       "    .dataframe thead th {\n",
       "        text-align: right;\n",
       "    }\n",
       "</style>\n",
       "<table border=\"1\" class=\"dataframe\">\n",
       "  <thead>\n",
       "    <tr style=\"text-align: right;\">\n",
       "      <th></th>\n",
       "      <th>title_id</th>\n",
       "      <th>ordering</th>\n",
       "      <th>title</th>\n",
       "      <th>region</th>\n",
       "      <th>language</th>\n",
       "      <th>types</th>\n",
       "      <th>attributes</th>\n",
       "      <th>is_original_title</th>\n",
       "    </tr>\n",
       "  </thead>\n",
       "  <tbody>\n",
       "    <tr>\n",
       "      <th>0</th>\n",
       "      <td>tt0369610</td>\n",
       "      <td>10</td>\n",
       "      <td>Джурасик свят</td>\n",
       "      <td>BG</td>\n",
       "      <td>bg</td>\n",
       "      <td>NaN</td>\n",
       "      <td>NaN</td>\n",
       "      <td>0.0</td>\n",
       "    </tr>\n",
       "    <tr>\n",
       "      <th>1</th>\n",
       "      <td>tt0369610</td>\n",
       "      <td>11</td>\n",
       "      <td>Jurashikku warudo</td>\n",
       "      <td>JP</td>\n",
       "      <td>NaN</td>\n",
       "      <td>imdbDisplay</td>\n",
       "      <td>NaN</td>\n",
       "      <td>0.0</td>\n",
       "    </tr>\n",
       "    <tr>\n",
       "      <th>2</th>\n",
       "      <td>tt0369610</td>\n",
       "      <td>12</td>\n",
       "      <td>Jurassic World: O Mundo dos Dinossauros</td>\n",
       "      <td>BR</td>\n",
       "      <td>NaN</td>\n",
       "      <td>imdbDisplay</td>\n",
       "      <td>NaN</td>\n",
       "      <td>0.0</td>\n",
       "    </tr>\n",
       "    <tr>\n",
       "      <th>3</th>\n",
       "      <td>tt0369610</td>\n",
       "      <td>13</td>\n",
       "      <td>O Mundo dos Dinossauros</td>\n",
       "      <td>BR</td>\n",
       "      <td>NaN</td>\n",
       "      <td>NaN</td>\n",
       "      <td>short title</td>\n",
       "      <td>0.0</td>\n",
       "    </tr>\n",
       "    <tr>\n",
       "      <th>4</th>\n",
       "      <td>tt0369610</td>\n",
       "      <td>14</td>\n",
       "      <td>Jurassic World</td>\n",
       "      <td>FR</td>\n",
       "      <td>NaN</td>\n",
       "      <td>imdbDisplay</td>\n",
       "      <td>NaN</td>\n",
       "      <td>0.0</td>\n",
       "    </tr>\n",
       "  </tbody>\n",
       "</table>\n",
       "</div>"
      ],
      "text/plain": [
       "    title_id  ordering                                    title region  \\\n",
       "0  tt0369610        10                            Джурасик свят     BG   \n",
       "1  tt0369610        11                        Jurashikku warudo     JP   \n",
       "2  tt0369610        12  Jurassic World: O Mundo dos Dinossauros     BR   \n",
       "3  tt0369610        13                  O Mundo dos Dinossauros     BR   \n",
       "4  tt0369610        14                           Jurassic World     FR   \n",
       "\n",
       "  language        types   attributes  is_original_title  \n",
       "0       bg          NaN          NaN                0.0  \n",
       "1      NaN  imdbDisplay          NaN                0.0  \n",
       "2      NaN  imdbDisplay          NaN                0.0  \n",
       "3      NaN          NaN  short title                0.0  \n",
       "4      NaN  imdbDisplay          NaN                0.0  "
      ]
     },
<<<<<<< HEAD
     "execution_count": 175,
=======
     "execution_count": 22,
>>>>>>> 0a162eaf96ebe7e6f3951266d3748f20647f3a5c
     "metadata": {},
     "output_type": "execute_result"
    }
   ],
   "source": [
    "title_akas.head()"
   ]
  },
  {
   "cell_type": "code",
<<<<<<< HEAD
   "execution_count": 176,
=======
   "execution_count": 23,
>>>>>>> 0a162eaf96ebe7e6f3951266d3748f20647f3a5c
   "metadata": {},
   "outputs": [
    {
     "data": {
      "text/html": [
       "<div>\n",
       "<style scoped>\n",
       "    .dataframe tbody tr th:only-of-type {\n",
       "        vertical-align: middle;\n",
       "    }\n",
       "\n",
       "    .dataframe tbody tr th {\n",
       "        vertical-align: top;\n",
       "    }\n",
       "\n",
       "    .dataframe thead th {\n",
       "        text-align: right;\n",
       "    }\n",
       "</style>\n",
       "<table border=\"1\" class=\"dataframe\">\n",
       "  <thead>\n",
       "    <tr style=\"text-align: right;\">\n",
       "      <th></th>\n",
       "      <th>tconst</th>\n",
       "      <th>primary_title</th>\n",
       "      <th>original_title</th>\n",
       "      <th>start_year</th>\n",
       "      <th>runtime_minutes</th>\n",
       "      <th>genres</th>\n",
       "    </tr>\n",
       "  </thead>\n",
       "  <tbody>\n",
       "    <tr>\n",
       "      <th>0</th>\n",
       "      <td>tt0063540</td>\n",
       "      <td>Sunghursh</td>\n",
       "      <td>Sunghursh</td>\n",
       "      <td>2013</td>\n",
       "      <td>175.0</td>\n",
       "      <td>Action,Crime,Drama</td>\n",
       "    </tr>\n",
       "    <tr>\n",
       "      <th>1</th>\n",
       "      <td>tt0066787</td>\n",
       "      <td>One Day Before the Rainy Season</td>\n",
       "      <td>Ashad Ka Ek Din</td>\n",
       "      <td>2019</td>\n",
       "      <td>114.0</td>\n",
       "      <td>Biography,Drama</td>\n",
       "    </tr>\n",
       "    <tr>\n",
       "      <th>2</th>\n",
       "      <td>tt0069049</td>\n",
       "      <td>The Other Side of the Wind</td>\n",
       "      <td>The Other Side of the Wind</td>\n",
       "      <td>2018</td>\n",
       "      <td>122.0</td>\n",
       "      <td>Drama</td>\n",
       "    </tr>\n",
       "    <tr>\n",
       "      <th>3</th>\n",
       "      <td>tt0069204</td>\n",
       "      <td>Sabse Bada Sukh</td>\n",
       "      <td>Sabse Bada Sukh</td>\n",
       "      <td>2018</td>\n",
       "      <td>NaN</td>\n",
       "      <td>Comedy,Drama</td>\n",
       "    </tr>\n",
       "    <tr>\n",
       "      <th>4</th>\n",
       "      <td>tt0100275</td>\n",
       "      <td>The Wandering Soap Opera</td>\n",
       "      <td>La Telenovela Errante</td>\n",
       "      <td>2017</td>\n",
       "      <td>80.0</td>\n",
       "      <td>Comedy,Drama,Fantasy</td>\n",
       "    </tr>\n",
       "  </tbody>\n",
       "</table>\n",
       "</div>"
      ],
      "text/plain": [
       "      tconst                    primary_title              original_title  \\\n",
       "0  tt0063540                        Sunghursh                   Sunghursh   \n",
       "1  tt0066787  One Day Before the Rainy Season             Ashad Ka Ek Din   \n",
       "2  tt0069049       The Other Side of the Wind  The Other Side of the Wind   \n",
       "3  tt0069204                  Sabse Bada Sukh             Sabse Bada Sukh   \n",
       "4  tt0100275         The Wandering Soap Opera       La Telenovela Errante   \n",
       "\n",
       "   start_year  runtime_minutes                genres  \n",
       "0        2013            175.0    Action,Crime,Drama  \n",
       "1        2019            114.0       Biography,Drama  \n",
       "2        2018            122.0                 Drama  \n",
       "3        2018              NaN          Comedy,Drama  \n",
       "4        2017             80.0  Comedy,Drama,Fantasy  "
      ]
     },
<<<<<<< HEAD
     "execution_count": 176,
=======
     "execution_count": 23,
>>>>>>> 0a162eaf96ebe7e6f3951266d3748f20647f3a5c
     "metadata": {},
     "output_type": "execute_result"
    }
   ],
   "source": [
    "title_basics.head()"
   ]
  },
  {
   "cell_type": "code",
<<<<<<< HEAD
   "execution_count": 177,
=======
   "execution_count": 24,
>>>>>>> 0a162eaf96ebe7e6f3951266d3748f20647f3a5c
   "metadata": {},
   "outputs": [
    {
     "data": {
      "text/html": [
       "<div>\n",
       "<style scoped>\n",
       "    .dataframe tbody tr th:only-of-type {\n",
       "        vertical-align: middle;\n",
       "    }\n",
       "\n",
       "    .dataframe tbody tr th {\n",
       "        vertical-align: top;\n",
       "    }\n",
       "\n",
       "    .dataframe thead th {\n",
       "        text-align: right;\n",
       "    }\n",
       "</style>\n",
       "<table border=\"1\" class=\"dataframe\">\n",
       "  <thead>\n",
       "    <tr style=\"text-align: right;\">\n",
       "      <th></th>\n",
       "      <th>tconst</th>\n",
       "      <th>directors</th>\n",
       "      <th>writers</th>\n",
       "    </tr>\n",
       "  </thead>\n",
       "  <tbody>\n",
       "    <tr>\n",
       "      <th>0</th>\n",
       "      <td>tt0285252</td>\n",
       "      <td>nm0899854</td>\n",
       "      <td>nm0899854</td>\n",
       "    </tr>\n",
       "    <tr>\n",
       "      <th>1</th>\n",
       "      <td>tt0438973</td>\n",
       "      <td>NaN</td>\n",
       "      <td>nm0175726,nm1802864</td>\n",
       "    </tr>\n",
       "    <tr>\n",
       "      <th>2</th>\n",
       "      <td>tt0462036</td>\n",
       "      <td>nm1940585</td>\n",
       "      <td>nm1940585</td>\n",
       "    </tr>\n",
       "    <tr>\n",
       "      <th>3</th>\n",
       "      <td>tt0835418</td>\n",
       "      <td>nm0151540</td>\n",
       "      <td>nm0310087,nm0841532</td>\n",
       "    </tr>\n",
       "    <tr>\n",
       "      <th>4</th>\n",
       "      <td>tt0878654</td>\n",
       "      <td>nm0089502,nm2291498,nm2292011</td>\n",
       "      <td>nm0284943</td>\n",
       "    </tr>\n",
       "  </tbody>\n",
       "</table>\n",
       "</div>"
      ],
      "text/plain": [
       "      tconst                      directors              writers\n",
       "0  tt0285252                      nm0899854            nm0899854\n",
       "1  tt0438973                            NaN  nm0175726,nm1802864\n",
       "2  tt0462036                      nm1940585            nm1940585\n",
       "3  tt0835418                      nm0151540  nm0310087,nm0841532\n",
       "4  tt0878654  nm0089502,nm2291498,nm2292011            nm0284943"
      ]
     },
<<<<<<< HEAD
     "execution_count": 177,
=======
     "execution_count": 24,
>>>>>>> 0a162eaf96ebe7e6f3951266d3748f20647f3a5c
     "metadata": {},
     "output_type": "execute_result"
    }
   ],
   "source": [
    "title_crew.head()"
   ]
  },
  {
   "cell_type": "code",
<<<<<<< HEAD
   "execution_count": 178,
=======
   "execution_count": 25,
>>>>>>> 0a162eaf96ebe7e6f3951266d3748f20647f3a5c
   "metadata": {},
   "outputs": [
    {
     "data": {
      "text/html": [
       "<div>\n",
       "<style scoped>\n",
       "    .dataframe tbody tr th:only-of-type {\n",
       "        vertical-align: middle;\n",
       "    }\n",
       "\n",
       "    .dataframe tbody tr th {\n",
       "        vertical-align: top;\n",
       "    }\n",
       "\n",
       "    .dataframe thead th {\n",
       "        text-align: right;\n",
       "    }\n",
       "</style>\n",
       "<table border=\"1\" class=\"dataframe\">\n",
       "  <thead>\n",
       "    <tr style=\"text-align: right;\">\n",
       "      <th></th>\n",
       "      <th>tconst</th>\n",
       "      <th>ordering</th>\n",
       "      <th>nconst</th>\n",
       "      <th>category</th>\n",
       "      <th>job</th>\n",
       "      <th>characters</th>\n",
       "    </tr>\n",
       "  </thead>\n",
       "  <tbody>\n",
       "    <tr>\n",
       "      <th>0</th>\n",
       "      <td>tt0111414</td>\n",
       "      <td>1</td>\n",
       "      <td>nm0246005</td>\n",
       "      <td>actor</td>\n",
       "      <td>NaN</td>\n",
       "      <td>[\"The Man\"]</td>\n",
       "    </tr>\n",
       "    <tr>\n",
       "      <th>1</th>\n",
       "      <td>tt0111414</td>\n",
       "      <td>2</td>\n",
       "      <td>nm0398271</td>\n",
       "      <td>director</td>\n",
       "      <td>NaN</td>\n",
       "      <td>NaN</td>\n",
       "    </tr>\n",
       "    <tr>\n",
       "      <th>2</th>\n",
       "      <td>tt0111414</td>\n",
       "      <td>3</td>\n",
       "      <td>nm3739909</td>\n",
       "      <td>producer</td>\n",
       "      <td>producer</td>\n",
       "      <td>NaN</td>\n",
       "    </tr>\n",
       "    <tr>\n",
       "      <th>3</th>\n",
       "      <td>tt0323808</td>\n",
       "      <td>10</td>\n",
       "      <td>nm0059247</td>\n",
       "      <td>editor</td>\n",
       "      <td>NaN</td>\n",
       "      <td>NaN</td>\n",
       "    </tr>\n",
       "    <tr>\n",
       "      <th>4</th>\n",
       "      <td>tt0323808</td>\n",
       "      <td>1</td>\n",
       "      <td>nm3579312</td>\n",
       "      <td>actress</td>\n",
       "      <td>NaN</td>\n",
       "      <td>[\"Beth Boothby\"]</td>\n",
       "    </tr>\n",
       "  </tbody>\n",
       "</table>\n",
       "</div>"
      ],
      "text/plain": [
       "      tconst  ordering     nconst  category       job        characters\n",
       "0  tt0111414         1  nm0246005     actor       NaN       [\"The Man\"]\n",
       "1  tt0111414         2  nm0398271  director       NaN               NaN\n",
       "2  tt0111414         3  nm3739909  producer  producer               NaN\n",
       "3  tt0323808        10  nm0059247    editor       NaN               NaN\n",
       "4  tt0323808         1  nm3579312   actress       NaN  [\"Beth Boothby\"]"
      ]
     },
<<<<<<< HEAD
     "execution_count": 178,
=======
     "execution_count": 25,
>>>>>>> 0a162eaf96ebe7e6f3951266d3748f20647f3a5c
     "metadata": {},
     "output_type": "execute_result"
    }
   ],
   "source": [
    "title_principals.head()"
   ]
  },
  {
   "cell_type": "code",
<<<<<<< HEAD
   "execution_count": 179,
=======
   "execution_count": 26,
>>>>>>> 0a162eaf96ebe7e6f3951266d3748f20647f3a5c
   "metadata": {},
   "outputs": [
    {
     "data": {
      "text/html": [
       "<div>\n",
       "<style scoped>\n",
       "    .dataframe tbody tr th:only-of-type {\n",
       "        vertical-align: middle;\n",
       "    }\n",
       "\n",
       "    .dataframe tbody tr th {\n",
       "        vertical-align: top;\n",
       "    }\n",
       "\n",
       "    .dataframe thead th {\n",
       "        text-align: right;\n",
       "    }\n",
       "</style>\n",
       "<table border=\"1\" class=\"dataframe\">\n",
       "  <thead>\n",
       "    <tr style=\"text-align: right;\">\n",
       "      <th></th>\n",
       "      <th>tconst</th>\n",
       "      <th>averagerating</th>\n",
       "      <th>numvotes</th>\n",
       "    </tr>\n",
       "  </thead>\n",
       "  <tbody>\n",
       "    <tr>\n",
       "      <th>0</th>\n",
       "      <td>tt10356526</td>\n",
       "      <td>8.3</td>\n",
       "      <td>31</td>\n",
       "    </tr>\n",
       "    <tr>\n",
       "      <th>1</th>\n",
       "      <td>tt10384606</td>\n",
       "      <td>8.9</td>\n",
       "      <td>559</td>\n",
       "    </tr>\n",
       "    <tr>\n",
       "      <th>2</th>\n",
       "      <td>tt1042974</td>\n",
       "      <td>6.4</td>\n",
       "      <td>20</td>\n",
       "    </tr>\n",
       "    <tr>\n",
       "      <th>3</th>\n",
       "      <td>tt1043726</td>\n",
       "      <td>4.2</td>\n",
       "      <td>50352</td>\n",
       "    </tr>\n",
       "    <tr>\n",
       "      <th>4</th>\n",
       "      <td>tt1060240</td>\n",
       "      <td>6.5</td>\n",
       "      <td>21</td>\n",
       "    </tr>\n",
       "  </tbody>\n",
       "</table>\n",
       "</div>"
      ],
      "text/plain": [
       "       tconst  averagerating  numvotes\n",
       "0  tt10356526            8.3        31\n",
       "1  tt10384606            8.9       559\n",
       "2   tt1042974            6.4        20\n",
       "3   tt1043726            4.2     50352\n",
       "4   tt1060240            6.5        21"
      ]
     },
<<<<<<< HEAD
     "execution_count": 179,
=======
     "execution_count": 26,
>>>>>>> 0a162eaf96ebe7e6f3951266d3748f20647f3a5c
     "metadata": {},
     "output_type": "execute_result"
    }
   ],
   "source": [
    "title_ratings.head()"
   ]
  },
  {
   "cell_type": "markdown",
   "metadata": {},
   "source": [
    "Check for NAs"
   ]
  },
  {
   "cell_type": "code",
<<<<<<< HEAD
   "execution_count": 180,
=======
   "execution_count": 27,
>>>>>>> 0a162eaf96ebe7e6f3951266d3748f20647f3a5c
   "metadata": {},
   "outputs": [
    {
     "data": {
      "text/plain": [
       "nconst                     0\n",
       "primary_name               0\n",
       "birth_year            523912\n",
       "death_year            599865\n",
       "primary_profession     51340\n",
       "known_for_titles       30204\n",
       "dtype: int64"
      ]
     },
<<<<<<< HEAD
     "execution_count": 180,
=======
     "execution_count": 27,
>>>>>>> 0a162eaf96ebe7e6f3951266d3748f20647f3a5c
     "metadata": {},
     "output_type": "execute_result"
    }
   ],
   "source": [
    "name_basics.isna().sum()"
   ]
  },
  {
   "cell_type": "code",
<<<<<<< HEAD
   "execution_count": 181,
=======
   "execution_count": 28,
>>>>>>> 0a162eaf96ebe7e6f3951266d3748f20647f3a5c
   "metadata": {},
   "outputs": [
    {
     "data": {
      "text/plain": [
       "title_id                  0\n",
       "ordering                  0\n",
       "title                     0\n",
       "region                53293\n",
       "language             289988\n",
       "types                163256\n",
       "attributes           316778\n",
       "is_original_title        25\n",
       "dtype: int64"
      ]
     },
<<<<<<< HEAD
     "execution_count": 181,
=======
     "execution_count": 28,
>>>>>>> 0a162eaf96ebe7e6f3951266d3748f20647f3a5c
     "metadata": {},
     "output_type": "execute_result"
    }
   ],
   "source": [
    "title_akas.isna().sum()"
   ]
  },
  {
   "cell_type": "code",
<<<<<<< HEAD
   "execution_count": 182,
=======
   "execution_count": 29,
>>>>>>> 0a162eaf96ebe7e6f3951266d3748f20647f3a5c
   "metadata": {},
   "outputs": [
    {
     "data": {
      "text/plain": [
       "tconst                 0\n",
       "primary_title          0\n",
       "original_title        21\n",
       "start_year             0\n",
       "runtime_minutes    31739\n",
       "genres              5408\n",
       "dtype: int64"
      ]
     },
<<<<<<< HEAD
     "execution_count": 182,
=======
     "execution_count": 29,
>>>>>>> 0a162eaf96ebe7e6f3951266d3748f20647f3a5c
     "metadata": {},
     "output_type": "execute_result"
    }
   ],
   "source": [
    "title_basics.isna().sum()"
   ]
  },
  {
   "cell_type": "code",
<<<<<<< HEAD
   "execution_count": 183,
=======
   "execution_count": 30,
>>>>>>> 0a162eaf96ebe7e6f3951266d3748f20647f3a5c
   "metadata": {},
   "outputs": [
    {
     "data": {
      "text/plain": [
       "tconst           0\n",
       "directors     5727\n",
       "writers      35883\n",
       "dtype: int64"
      ]
     },
<<<<<<< HEAD
     "execution_count": 183,
=======
     "execution_count": 30,
>>>>>>> 0a162eaf96ebe7e6f3951266d3748f20647f3a5c
     "metadata": {},
     "output_type": "execute_result"
    }
   ],
   "source": [
    "title_crew.isna().sum()"
   ]
  },
  {
   "cell_type": "code",
<<<<<<< HEAD
   "execution_count": 184,
=======
   "execution_count": 31,
>>>>>>> 0a162eaf96ebe7e6f3951266d3748f20647f3a5c
   "metadata": {},
   "outputs": [
    {
     "data": {
      "text/plain": [
       "tconst             0\n",
       "ordering           0\n",
       "nconst             0\n",
       "category           0\n",
       "job           850502\n",
       "characters    634826\n",
       "dtype: int64"
      ]
     },
<<<<<<< HEAD
     "execution_count": 184,
=======
     "execution_count": 31,
>>>>>>> 0a162eaf96ebe7e6f3951266d3748f20647f3a5c
     "metadata": {},
     "output_type": "execute_result"
    }
   ],
   "source": [
    "title_principals.isna().sum()"
   ]
  },
  {
   "cell_type": "code",
<<<<<<< HEAD
   "execution_count": 185,
=======
   "execution_count": 32,
>>>>>>> 0a162eaf96ebe7e6f3951266d3748f20647f3a5c
   "metadata": {},
   "outputs": [
    {
     "data": {
      "text/plain": [
       "tconst           0\n",
       "averagerating    0\n",
       "numvotes         0\n",
       "dtype: int64"
      ]
     },
<<<<<<< HEAD
     "execution_count": 185,
=======
     "execution_count": 32,
>>>>>>> 0a162eaf96ebe7e6f3951266d3748f20647f3a5c
     "metadata": {},
     "output_type": "execute_result"
    }
   ],
   "source": [
    "title_ratings.isna().sum()"
   ]
  },
  {
   "cell_type": "markdown",
   "metadata": {},
   "source": [
    "Check for Duplicates"
   ]
  },
  {
   "cell_type": "code",
<<<<<<< HEAD
   "execution_count": 186,
=======
   "execution_count": 33,
>>>>>>> 0a162eaf96ebe7e6f3951266d3748f20647f3a5c
   "metadata": {},
   "outputs": [
    {
     "data": {
      "text/plain": [
       "0"
      ]
     },
<<<<<<< HEAD
     "execution_count": 186,
=======
     "execution_count": 33,
>>>>>>> 0a162eaf96ebe7e6f3951266d3748f20647f3a5c
     "metadata": {},
     "output_type": "execute_result"
    }
   ],
   "source": [
    "name_basics.duplicated().sum()"
   ]
  },
  {
   "cell_type": "code",
<<<<<<< HEAD
   "execution_count": 187,
=======
   "execution_count": 34,
>>>>>>> 0a162eaf96ebe7e6f3951266d3748f20647f3a5c
   "metadata": {},
   "outputs": [
    {
     "data": {
      "text/plain": [
       "0"
      ]
     },
<<<<<<< HEAD
     "execution_count": 187,
=======
     "execution_count": 34,
>>>>>>> 0a162eaf96ebe7e6f3951266d3748f20647f3a5c
     "metadata": {},
     "output_type": "execute_result"
    }
   ],
   "source": [
    "title_akas.duplicated().sum()"
   ]
  },
  {
   "cell_type": "code",
<<<<<<< HEAD
   "execution_count": 188,
=======
   "execution_count": 35,
>>>>>>> 0a162eaf96ebe7e6f3951266d3748f20647f3a5c
   "metadata": {},
   "outputs": [
    {
     "data": {
      "text/plain": [
       "0"
      ]
     },
<<<<<<< HEAD
     "execution_count": 188,
=======
     "execution_count": 35,
>>>>>>> 0a162eaf96ebe7e6f3951266d3748f20647f3a5c
     "metadata": {},
     "output_type": "execute_result"
    }
   ],
   "source": [
    "title_basics.duplicated().sum()"
   ]
  },
  {
   "cell_type": "code",
<<<<<<< HEAD
   "execution_count": 189,
=======
   "execution_count": 36,
>>>>>>> 0a162eaf96ebe7e6f3951266d3748f20647f3a5c
   "metadata": {},
   "outputs": [
    {
     "data": {
      "text/plain": [
       "0"
      ]
     },
<<<<<<< HEAD
     "execution_count": 189,
=======
     "execution_count": 36,
>>>>>>> 0a162eaf96ebe7e6f3951266d3748f20647f3a5c
     "metadata": {},
     "output_type": "execute_result"
    }
   ],
   "source": [
    "title_crew.duplicated().sum()"
   ]
  },
  {
   "cell_type": "code",
<<<<<<< HEAD
   "execution_count": 190,
=======
   "execution_count": 37,
>>>>>>> 0a162eaf96ebe7e6f3951266d3748f20647f3a5c
   "metadata": {},
   "outputs": [
    {
     "data": {
      "text/plain": [
       "0"
      ]
     },
<<<<<<< HEAD
     "execution_count": 190,
=======
     "execution_count": 37,
>>>>>>> 0a162eaf96ebe7e6f3951266d3748f20647f3a5c
     "metadata": {},
     "output_type": "execute_result"
    }
   ],
   "source": [
    "title_principals.duplicated().sum()"
   ]
  },
  {
   "cell_type": "code",
<<<<<<< HEAD
   "execution_count": 191,
=======
   "execution_count": 38,
>>>>>>> 0a162eaf96ebe7e6f3951266d3748f20647f3a5c
   "metadata": {},
   "outputs": [
    {
     "data": {
      "text/plain": [
       "0"
      ]
     },
<<<<<<< HEAD
     "execution_count": 191,
=======
     "execution_count": 38,
>>>>>>> 0a162eaf96ebe7e6f3951266d3748f20647f3a5c
     "metadata": {},
     "output_type": "execute_result"
    }
   ],
   "source": [
    "title_ratings.duplicated().sum()"
   ]
  },
  {
   "cell_type": "markdown",
   "metadata": {},
   "source": [
    "## Data Cleaning"
   ]
  },
  {
   "cell_type": "code",
<<<<<<< HEAD
   "execution_count": 192,
=======
   "execution_count": 39,
>>>>>>> 0a162eaf96ebe7e6f3951266d3748f20647f3a5c
   "metadata": {},
   "outputs": [],
   "source": [
    "# Removing deceases column in IMDB name_basics\n",
    "name_basics = name_basics[(name_basics['death_year'].isna())]"
   ]
  },
  {
   "cell_type": "code",
<<<<<<< HEAD
   "execution_count": 193,
=======
   "execution_count": 40,
>>>>>>> 0a162eaf96ebe7e6f3951266d3748f20647f3a5c
   "metadata": {},
   "outputs": [],
   "source": [
    "# Renaming first column in IMDB titles_akas to match merge\n",
    "title_akas.rename(columns = {'title_id':'tconst'},inplace=True)"
   ]
  },
  {
   "cell_type": "code",
<<<<<<< HEAD
   "execution_count": 194,
=======
   "execution_count": 41,
>>>>>>> 0a162eaf96ebe7e6f3951266d3748f20647f3a5c
   "metadata": {},
   "outputs": [],
   "source": [
    "# Replacing the runtime_minutes with the mean of the column since we're only missing 20% of our data in IMDB title_basics\n",
    "title_basics['runtime_minutes'].fillna(title_basics['runtime_minutes'].mean(), inplace=True)"
   ]
  },
  {
   "cell_type": "markdown",
   "metadata": {},
   "source": [
    "Merging IMDB Tables"
   ]
  },
  {
   "cell_type": "code",
<<<<<<< HEAD
   "execution_count": 195,
=======
   "execution_count": 42,
>>>>>>> 0a162eaf96ebe7e6f3951266d3748f20647f3a5c
   "metadata": {},
   "outputs": [],
   "source": [
    "# Merge name_basics and title_principals\n",
    "name_principals = pd.merge(name_basics, title_principals, on='nconst')"
   ]
  },
  {
   "cell_type": "code",
<<<<<<< HEAD
   "execution_count": 196,
=======
   "execution_count": 43,
>>>>>>> 0a162eaf96ebe7e6f3951266d3748f20647f3a5c
   "metadata": {},
   "outputs": [],
   "source": [
    "# Merge name_principals with title_ratings\n",
    "name_principals_ratings = pd.merge(name_principals, title_ratings, on='tconst')"
   ]
  },
  {
   "cell_type": "code",
<<<<<<< HEAD
   "execution_count": 197,
=======
   "execution_count": 44,
>>>>>>> 0a162eaf96ebe7e6f3951266d3748f20647f3a5c
   "metadata": {},
   "outputs": [],
   "source": [
    "# Merge title_crew to name_principals\n",
    "name_principals_ratings_crew = pd.merge(title_crew, name_principals_ratings, on='tconst')"
   ]
  },
  {
   "cell_type": "code",
<<<<<<< HEAD
   "execution_count": 198,
=======
   "execution_count": 45,
>>>>>>> 0a162eaf96ebe7e6f3951266d3748f20647f3a5c
   "metadata": {},
   "outputs": [],
   "source": [
    "# Merge titles_basics to name_principals\n",
    "name_principals_ratings_crew_basics = pd.merge(title_basics, name_principals_ratings_crew, on='tconst')"
   ]
  },
  {
   "cell_type": "code",
<<<<<<< HEAD
   "execution_count": 199,
=======
   "execution_count": 46,
>>>>>>> 0a162eaf96ebe7e6f3951266d3748f20647f3a5c
   "metadata": {},
   "outputs": [],
   "source": [
    "# Final merge using title_akas and name_principals_ratings_crew_basics\n",
    "final_merge = pd.merge(title_akas, name_principals_ratings_crew_basics, on='tconst')"
   ]
  },
  {
<<<<<<< HEAD
=======
   "cell_type": "code",
   "execution_count": 47,
   "metadata": {},
   "outputs": [],
   "source": [
    "# Clean up the final_merge table\n",
    "#final_merge.drop('ordering_y', 1, inplace=True)\n",
    "#final_merge.drop('writers_y', 1, inplace=True)\n",
    "#final_merge.drop('directors_y', 1, inplace=True)"
   ]
  },
  {
>>>>>>> 0a162eaf96ebe7e6f3951266d3748f20647f3a5c
   "cell_type": "markdown",
   "metadata": {},
   "source": [
    "# Feature Engineering"
   ]
  },
  {
   "cell_type": "code",
<<<<<<< HEAD
   "execution_count": 201,
=======
   "execution_count": 48,
>>>>>>> 0a162eaf96ebe7e6f3951266d3748f20647f3a5c
   "metadata": {},
   "outputs": [],
   "source": [
    "# Add a profit column to Budgets\n",
    "budgets['profit'] = budgets['worldwide_gross'] - budgets['production_budget']"
   ]
  },
  {
   "cell_type": "code",
<<<<<<< HEAD
   "execution_count": 202,
=======
   "execution_count": 49,
>>>>>>> 0a162eaf96ebe7e6f3951266d3748f20647f3a5c
   "metadata": {},
   "outputs": [],
   "source": [
    "# Add year, month, month_num, day, day_of_week and day_of_week num columns to Budgets\n",
    "budgets['year'] = budgets['release_date'].dt.year\n",
    "budgets['month'] = budgets['release_date'].dt.month_name()\n",
    "budgets['month_num'] = budgets['release_date'].dt.month\n",
    "budgets['day'] = budgets['release_date'].dt.day\n",
    "budgets['day_of_week'] = budgets['release_date'].dt.day_name()\n",
    "budgets['day_of_week_num'] = budgets['release_date'].dt.dayofweek"
   ]
  },
  {
   "cell_type": "code",
<<<<<<< HEAD
   "execution_count": 203,
=======
   "execution_count": 50,
>>>>>>> 0a162eaf96ebe7e6f3951266d3748f20647f3a5c
   "metadata": {},
   "outputs": [],
   "source": [
    "# Add a Total Gross column to Studios\n",
    "gross_df['Total Gross Revenue']=gross_df['domestic_gross'] + gross_df['foreign_gross']"
   ]
  },
  {
   "cell_type": "markdown",
   "metadata": {},
   "source": [
    "# Analysis"
   ]
  },
  {
   "cell_type": "code",
<<<<<<< HEAD
   "execution_count": 204,
=======
   "execution_count": 51,
>>>>>>> 0a162eaf96ebe7e6f3951266d3748f20647f3a5c
   "metadata": {},
   "outputs": [],
   "source": [
    "# Set the style of the graphs for anlysis\n",
    "mpl.style.use('fivethirtyeight')"
   ]
  },
  {
   "cell_type": "markdown",
   "metadata": {},
   "source": [
    "#### Should Microsoft consider what time of year to release the first movie in order to make the most money?"
   ]
  },
  {
   "cell_type": "code",
<<<<<<< HEAD
   "execution_count": 217,
=======
   "execution_count": 52,
>>>>>>> 0a162eaf96ebe7e6f3951266d3748f20647f3a5c
   "metadata": {
    "scrolled": true
   },
   "outputs": [
    {
     "data": {
      "text/plain": [
       "Text(0, 0.5, 'Average Profit (in Billions)')"
      ]
     },
<<<<<<< HEAD
     "execution_count": 217,
=======
     "execution_count": 52,
>>>>>>> 0a162eaf96ebe7e6f3951266d3748f20647f3a5c
     "metadata": {},
     "output_type": "execute_result"
    },
    {
     "data": {
<<<<<<< HEAD
      "image/png": "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\n",
=======
      "image/png": "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\n",
>>>>>>> 0a162eaf96ebe7e6f3951266d3748f20647f3a5c
      "text/plain": [
       "<Figure size 432x288 with 1 Axes>"
      ]
     },
     "metadata": {},
     "output_type": "display_data"
    }
   ],
   "source": [
    "#Create average profit by month bar chart\n",
    "\n",
    "fig, ax2 = plt.subplots()\n",
    "\n",
    "budgets2 = budgets[budgets['year'] > 2010]\n",
    "\n",
    "y2 = budgets2.groupby(['month_num','month'])['profit'].mean().values\n",
    "x2 = ['January', 'February', 'March', 'April', 'May', 'June', 'July', 'August', 'September', 'October', 'November', 'December']\n",
    "\n",
    "ax2.bar(x2,y2)\n",
    "\n",
    "ax2.tick_params(axis='x', labelrotation = 90)\n",
    "\n",
    "ax2.set_title('Average Profit per Month in Last 10 Years')\n",
    "ax2.set_xlabel('Month')\n",
    "ax2.set_ylabel('Average Profit (in Billions)');"
   ]
  },
  {
<<<<<<< HEAD
   "cell_type": "markdown",
=======
   "cell_type": "code",
   "execution_count": 53,
>>>>>>> 0a162eaf96ebe7e6f3951266d3748f20647f3a5c
   "metadata": {},
   "source": [
    "#### Can we relate the top 5 movies in the most profitable months to our top Genres/Studios/and Directors?"
   ]
  },
  {
   "cell_type": "code",
<<<<<<< HEAD
   "execution_count": 206,
=======
   "execution_count": 54,
>>>>>>> 0a162eaf96ebe7e6f3951266d3748f20647f3a5c
   "metadata": {},
   "outputs": [
    {
     "data": {
<<<<<<< HEAD
      "image/png": "iVBORw0KGgoAAAANSUhEUgAAB5UAAAO7CAYAAAB019MXAAAAOXRFWHRTb2Z0d2FyZQBNYXRwbG90bGliIHZlcnNpb24zLjMuMSwgaHR0cHM6Ly9tYXRwbG90bGliLm9yZy/d3fzzAAAACXBIWXMAAAsTAAALEwEAmpwYAAEAAElEQVR4nOzdf7zX8/0//tupRBmiVRIxY6lI5DeFei8bW360SGxJ+VXYD+bHe3uP/IpPbMOSXwsh83vLj8mvphTNUG3jvTUrCmWVTBZR5/uHb+ftOOd1Oum8zjl1rtfLxeXi9fx5f57H+XHrdX89H8+SJUuWlAYAAAAAAAAAKtGorgsAAAAAAAAAoP7SVAYAAAAAAACgIE1lAAAAAAAAAArSVAYAAAAAAACgIE1lAAAAAAAAAArSVAYAAAAAAACgIE1laCBee+21HH/88dlpp52y+eabp0WLFkmSESNGpEWLFpk8eXJRz3/YYYelRYsWef3116u9zy677JJddtmliFWtGxra1+HOO+9MixYtcuedd9Z1KbVmTX8+Vm0PAHVBrlx3NbSvg1xZ/e0BoD6RN9ddDe3rIG9Wf/t1weuvv54WLVrktNNOq+tS6i1N5XqqRYsWa/RfXf3Smjx5cpV1XXjhhdU+1qof2BYtWqRt27Z57733Cm7brVu3sm2ffPLJGriS6td32GGHrfG+p512WoWvTdu2bbPnnnvmnHPOydtvv12Eiv/PihUrctxxx+WRRx5Jjx498uMf/zjnnntuwe3X5lrXJav+6Ldo0SKHHHJIwe3mzZuXLbbYomzbDz/8sBarrF922WWXct/Hm2++ebbeeuv06NEjI0eOzAcffFDXJVJDPjvWEydOLLjdmWee+YV+5wO1R66UK2uSXFk5uXLNyZUNx6qxXpM35oF1i7wpb9YkebNy8uaakzcbDnmz9jSp6wKoXGV/KMeNG5e5c+fm2GOPTfv27cutq+tP/+y8886V/uHed9991/hYTZo0ybJly3LvvfdmyJAhFdZPnjw5r732Wpo0aZJPPvnkC9VbVw499NCysVq4cGGeeuqp3HjjjXnggQfy1FNPZdttty3KeV9//fX87//+b3r16pUbb7yx3LqTTz45ffv2zdZbb12Uc68LmjRpkmnTpuXVV19Nx44dK6y//fbbs3Llyjr7nhs/fnytn3N1Tj311Gy22WZZuXJl3nrrrTz88MO59NJL8+ijj2bChAlp2rRpXZe4Xrv++uuzbNmyWjlXkyZNctttt+Xggw+usG7p0qV54IEH1snfx9CQyJVyZU2SK6smV645ubJu1WauBNZf8qa8WZPkzarJm2tO3qxb8ub6RVO5njr//PMrLHv22Wczd+7cDBgwIN27d6+DqgrbZZddKq35ix5rwYIFue222yoNY2PHjk3Tpk1z0EEH5fHHH6+Rc9aWww47LMcdd1zZ648//jhHHXVUJk+enJEjR+ZXv/pVUc676hOErVu3rrCuZcuWadmyZVHOu67o3bt3Hn300YwdOzYjRowot27lypW5884706VLl7z77ruZO3durdf3la98pdbPuTqnnXZauX88XHDBBenevXtefvnl3HfffRkwYEAdVrf+22abbWrtXIccckgeffTRLFy4MF/+8pfLrbv//vuzdOnSfOtb38rDDz9cazUBa0aulCtrklxZNblyzcmVdas2cyWw/pI35c2aJG9WTd5cc/Jm3ZI31y+mv15P/O53v8thhx2W9u3bp02bNtlrr71yySWX5P3336+w7ao57OfMmZNf/epX2XPPPdOmTZt07tw5P/nJTyrdpzY1btw4xx13XP785z/n5ZdfLrfu3XffzUMPPZTDDjusygAxY8aMDBw4MDvuuGNatWqVzp07Z9iwYZkzZ06Fbd97771cccUV2XfffbPNNtukXbt26dKlS44//viy53Pceeed2XXXXZMkU6ZMKTdtxuf/eK+JDTbYIIMGDUqSvPjii2XLV03X8OGHH+aSSy7JbrvtllatWuW8884r22bSpEnp169fvvKVr6R169bZddddc+655+Zf//pXuXN8dvqXu+66q0Ldn38WSXWv9Y477sjxxx+fXXfdNVtuuWW22WabHHLIIbnrrruqvObS0tIa+b773e9+l8MPPzzbbbddWrdund133z0XXnhh/v3vf6/RcZLka1/7Wvbdd9/cfffd+eijj8qte/LJJzNv3rwMHDhwtfVU52dwr732ype//OW88847lR5nzJgxadGiRS655JKyZVU9i2RNvg4zZszI4MGDs8suu6RNmzbZfvvts99+++Wss86qcpqm6mjdunW+9a1vJUmFn9skWbBgQc4777zsvvvuadOmTbbddtsceeSReeaZZ9boPGtynPfeey9XX311vvWtb6Vjx45p1apVvvrVr6Z///6ZNm1apcefPHlyjjnmmHTu3DmtW7fODjvskIMOOig/+clPUlpaWm7blStXZuzYsTnkkEPKxn3ffffNz3/+8yxfvrzS499///058MADs+WWW2aHHXbIySef/IWmjarsWSSrpvE67bTT8vrrr+fEE0/M9ttvnzZt2uTAAw/Mo48+usbnSZKBAwdm+fLllf5s33bbbWnbtm169+5d6b7/+Mc/cuGFF+aggw7KV7/61bRu3To777xzzjzzzAr/sJkwYUJatGiRoUOHVnqslStXZuedd07btm2zZMmSL3QtQPXIleXJlf9Hrlw9uVKuXEWurNrqnle3aurVz05h+NnpTRctWpTvf//76dChQ1q3bp199tknY8eOLXi+SZMmpX///vnqV7+aVq1aZeedd85ZZ52VBQsWrPW1AGtO3ixP3vw/8ubqyZvy5iryZtW+SN6szMCBA9OiRYs8++yzla7/wx/+kBYtWmTw4MFrXfO6QFN5PXDRRRdl4MCBeeWVV3LUUUfl1FNPzUYbbZQrr7wyhxxySME/Tueff36uvPLKHHDAAWVTQIwaNSpHHHFEhT9IqzN//vyMGTMmV111VW677bb87W9/W6tr+u53v5tGjRpV+Efhb37zm3z44YdV/mF87LHH8vWvfz2PPPJIDjjggJxxxhnZeeedc+edd+bAAw/MjBkzyrYtLS3Nd77znYwYMSLNmzfP8ccfnyFDhmSfffbJ9OnTy37B77LLLjn11FOTfPrJmnPPPbfsvwMOOGCtrrUq3/ve93LHHXdkv/32yymnnJIddtghSXLLLbfk8MMPz5QpU/KNb3wjw4YNS7t27XLDDTfk4IMPLtesOffcc3Pssccm+XR6n9XVXd1rPfvsszN37tzst99+Oe2003LkkUfm9ddfz2mnnZaLLrqo4DXVxPfdWWedlYEDB+Yf//hHvvWtb+Xkk09O69at88tf/jLf+MY3vtA/KAYOHJjFixdXuNvytttuS/PmzfOd73yn4L5r8jN47LHH5pNPPsndd99d6bFWhdnqfEJuTb4OM2fOTO/evfPII4+kW7duGTp0aPr27Zttttkm48aNy6JFi1Z7vupq0qT8JBh//etf071799xwww35yle+kpNOOimHHXZYXnrppRxxxBG5/fbbq3XcNT3O3//+91xyySVp3LhxDjnkkAwbNiwHHXRQnnnmmRx66KEVPiH8+OOPp0+fPnnuuedywAEH5PTTT0+fPn2y2Wab5YYbbsiKFSvKtv3kk08yYMCAnHnmmVm0aFH69u2bQYMGpUmTJrnooovSr1+/ClMMjRo1KoMHD87s2bNzzDHH5Ljjjsurr76a3r1712iTdO7cuenVq1fmzp2bY445JkceeWT+93//N8cdd9wah98k6d69e77yla9U+H385z//OS+99FKOO+64NG7cuNJ9H3rooYwZMybt2rVL3759c/LJJ6dDhw65/fbb07Nnz7z55ptl237961/PdtttlwcffLDSr8fjjz+eefPm5cgjj6wQRIGaI1eWJ1fKlXKlXJnIlTWVK2vKe++9l0MOOSQvvPBC+vTpk/79++ftt9/OmWeemTvuuKPC9r/85S/Tp0+fTJs2Lf/1X/+V0047LR06dMivf/3rHHzwweUyKVB88mZ58qa8KW/Km4m8Wd/y5metmoXilltuqXT9mDFjkqTsQzfrO9Nfr+P++Mc/5uc//3m22mqrPPXUU2nbtm2S5MILL8xpp52W3/zmN7noooty5ZVXVth32rRpmTx5ctn0Az/72c/y3e9+N48++mhGjRqVH/3oR9WuY+LEiZk4cWK5Zd/4xjcyatSoLzQlSfv27XPwwQfnvvvuyyWXXJKNN944yadTxmy77bY58MADK/1jtnTp0gwdOjQff/xxfve736VHjx5l68aOHZszzzwzp556aqZOnZqSkpL89a9/zQsvvJBvfvObFT6ZVlpamnfffTdJ0qVLl2y22Wa5/vrr0759+xqbIueTTz7JrbfemiTZfffdK6yfN29epkyZUu5r+MYbb+Tcc89N8+bN8+STT5Z7dsYll1ySK6+8MmeddVbuueeeJJ+Gn8mTJ+euu+6q1vQ+1b3W5557rsJ0Jh999FH69u2ba665JoMHD067du0q7Le233d33313fv3rX+db3/pWbrrppjRr1qxs3ciRI3PppZdmxIgRueyyy6o8zucdfvjhOffcc3Pbbbelb9++ST79NNmECRNy9NFHZ7PNNqt0vzX9Gezfv38uueSS3HXXXTnjjDPKHesf//hHXnjhhey7777Zfvvta/Tr8Jvf/CYfffRRbr/99nz7298ud6z3339/rZ8dsnDhwjzyyCNJyj+DaMWKFRk4cGDee++9PPTQQ+UC/fz589OrV6/8+Mc/ziGHHFLptEZrc5yvfe1r+d///d8Kv4PeeOON/Nd//Vd+8pOflLvDduzYsSktLc1DDz1U9inXVRYvXlwuZP7iF7/IY489lpNOOimXX355WVN15cqV+eEPf5jbbrstN998c9k/bF5//fUMHz48m266aSZNmpTtttsuyafT7Zx44on57W9/u9qvcXU9++yz+clPfpIf//jHZcv69euXvn375tprr82BBx64RscrKSnJ9773vQwfPjxTp07Nfvvtl+TTr1dJSUmOP/74TJkypdJ9jznmmAwdOjQbbrhhueVPPPFEjjnmmFx55ZX5xS9+kSRp1KhRTjzxxPzsZz/LXXfdVeFThKuCW0P51B/UBbmyPLlSrpQr5Uq5smZzZU35y1/+khNOOCFXXXVV2ddr6NCh2X///XPNNdfk+OOPL9t2ypQpGT58ePbcc8/ce++95T6c+Jvf/Cannnpqzj333Eqb0UDNkzfLkzflTXlT3pQ362fe/Kzu3bunY8eOeeihhyo8HnDBggX5/e9/nw4dOhT1Qzv1iTuV13Gr/uHzox/9qOyPQPJpE+Ciiy5Ks2bNctddd+Xjjz+usO+pp55abj77xo0bZ/jw4SkpKan2P6i+/OUv58ILL8zUqVMzb968vPbaa7nvvvvSpUuXPPbYYznmmGOycuXKL3Rt3/ve9/L+++/ngQceSPLpH71XX3013/ve91JSUlLpPo8++mgWL16cww8/vFwQW3W8rl275tVXX80f//jHJJ82MZKkefPmFY5VUlKSLbbY4gvVXsgjjzySESNGZMSIETn77LOz5557ZtKkSdliiy3K/eJc5b//+78r/CG55557snz58gwePLhcEEuSH//4x2nbtm0ef/zxvPXWWzVa++dV9nyMDTfcMCeddFI++eSTTJo0qdL91vb77rrrrkvjxo1z7bXXlgsgyac/By1btiwLomuiWbNmOfroozN58uTMnj07yadT6HzyySdVfqJ0TX8G27Ztm4MPPjivvPJKpk+fXu5Y48aNS5KyT2RWZU2/DlV9r2+yySYVmn6rM3r06IwYMSKXXnppzjjjjOy5556ZP39+jjrqqHJh7/HHH88//vGPDB48uMIf1i233DJnnHFGPvzww/zud7+r8nxf5DibbbZZpf8YbN++fQ4//PDMmjWr3Kdhq/oaffZ3wcqVK3P99denVatWGTFiRLm7dBs1apSLLrooJSUl5f7BeO+992b58uU56aSTyoLYqu0vvPDCgnf6fhHt27ev8I+aXr16ZZtttslLL730hY45YMCANGnSJLfddluSZNmyZbnnnnty0EEHlbuez9tqq60q/d76+te/np122ilPP/10ueXHH398Ntpoo7J/pK4yb968PPnkk+nSpUu6dev2ha4BWD25sjy5Uq6UK+XKVeTK/7O2ubImNG/evOxOnlV22mmn7LPPPvn73/9e7k6n66+/PqWlpfnFL35RYbab/v37p0uXLvn973//haYfBdacvFmevClvypvy5iry5v+pD3nz8wYPHpzly5dX+Lm//fbb8/HHHzeYu5STBnKn8pQpU3LttddmxowZefvttzNq1Kgcd9xxa3SMZ555JpdeemleeeWVbLzxxunfv3/+53/+p8L0CLVt1RQonw8eyafPBujUqVNefPHFzJo1K506dSq3fv/996+wz4477pjWrVvnn//8Z95///1ssskmVZ6/Y8eO5QLBl770pfzXf/1X9tprr3Tv3j1/+tOf8sgjj1T4RFF1HHrooWndunXGjh2b7373u7n11lvTpEmTKseuqq9Hkhx44IGZPn16ZsyYkb333jsdOnRI165dc//99+eNN97IoYcemr333ju77757NtpoozWueXUeffTRsucBbLjhhtl6661z0kkn5fvf/3623nrrCtvvscceFZZVdY0bbrhh9tlnnzz44IOZOXNmttpqqxq+gv8zd+7cXH311fnDH/6QN998M8uWLSu3vtDzFdbm+27ZsmWZOXNmNt9881x//fWVbtO0adO8/fbbWbx48RqH6YEDB+amm27K2LFj87Of/Sxjx47NTjvtlL333rvgPl/kZ3DAgAF58sknM27cuHTt2jXJp3/g77nnnjRv3jxHHnlklXV+ka9D3759c/311+e4445Lnz590qNHj+y111752te+Vp0vTQWVnXfgwIG5+uqryy1b9cyPefPmVfrcnn/+859JPp3ipSpf9DjPP/98rr/++rzwwgv517/+VeEZIW+//XbZPw6OPvrojB8/Pr169cqRRx6Z7t27Z88998y2225bbp9//OMfWbRoUb7yla9k5MiRldbbrFmzzJo1q+z1qu+Tyr7/t9tuu7Rr1y5vvPFGlV+D6tpll10qDXft2rUr+4fommrTpk2+8Y1vZPz48bniiivy6KOP5r333lvtM3pKS0tzzz33ZNy4cfnLX/6SJUuWlJt+5/OfLN1iiy1y1FFHZdy4cXn22WfLgvdtt92WFStWuEuZemN9zZZyZXlypVwpV35KrvyUXPl/1iZX1oSvfvWr+dKXvlRh+ao7zN57772yn/1p06alSZMmeeihh/LQQw9V2Gf58uVZsWJF/vnPf5b9DEFtW1+zZWXkzfLkTXlT3vyUvPkpefP/1HXe/Lxjjjkmw4cPz6233prvf//7KSkpKXtOdfPmzdO/f/+6LrHW1K9kUSQffPBBOnXqlGOPPbbsFv418Ze//CX9+vXLD3/4w1x//fV566238qMf/SgrVqwo9xD6urDq07SFplto06ZNue0+q9A+rVq1yoIFC6oVxgrZdNNN069fv1x55ZV5/vnnv1AY22CDDXLsscfm6quvzrRp0/Lb3/42vXv3zpZbbllwnzX9ejRu3Di//e1vc9VVV+W3v/1thg8fniRlfxAvuuiiLzTtTSFr+g+DVfV+1tqMeU2ZM2dOevbsmSVLlmTfffdNz549s+mmm6Zx48Z54403ctdddxV8rsjafN+9++67KS0tzeLFi3PFFVdUWePSpUvXOIztvPPO6datW8aNG5f99tsvc+bMWe30M19kPA477LC0aNGibFqkpk2bZtKkSZk3b16OPvro1f7cfZGvw2677ZYJEybkyiuvzMMPP1z26b/27dvnBz/4QU488cQqj/N5M2bMyLbbbpuPPvoor7zyStmUO1/96ldz5plnlm23ePHiJMn48eMzfvz4gsf74IMPqjzfFznOQw89lIEDB2ajjTbKwQcfnO222y7NmzdPo0aN8uyzz2bKlCnlvk+/9a1v5f7778+1116bu+66q+yu3E6dOuXcc8/N4YcfXq6W2bNnr/brv8qq8W/VqlWl61u3bl1jYWzTTTetdHnjxo2/8Ceuk0/D9sMPP5x77703999/f7785S/n0EMPrXKf//7v/87o0aOz5ZZbplevXmnbtm3ZP3THjRtX7hOWq5x00kkZN25cbrnllhxwwAH55JNPcscdd2TTTTet8plAUJvW12wpV5YnV8qVq8iVn5Ir5cpV1jZXrq2q6kpS7kOMixcvzieffFKt72+oK+trtqyMvFmevClvriJvfkrelDdXqeu8+XmbbLJJ+vfvn5tuuilPP/10evXqlSeffDJvvPFGjj/++Aoz4qzPGkRTuXfv3mXzzQ8dOrTC+uXLl+fSSy/NvffemyVLlqRDhw756U9/ml69eiVJHnjggXTo0KHsmQzbb799hg8fnkGDBuXcc8/9woGlJqz6oXvnnXcq/cZdsGBBue0+65133smOO+5YYfm//vWvJFnr61o1t/x//vOfL3yMgQMH5pprrsmJJ56Y//znPznhhBOq3P6zX4/KVPb1aNGiRS6++OJcfPHFmTNnTqZOnZrbb789d955Z+bOnVvlL/5iq2x6nC9yjTVt1KhRWbx4caXh8r777qvwXJfPWpvvu1XX1KlTp0ydOvWLlL5aAwcOzJlnnpkf/OAH2XDDDVc7hcsX+RnccMMN07dv3/z617/OY489lj59+pRNGVOdsP5Fvw7dunXLXXfdleXLl2fmzJl5+umnc9NNN+VHP/rRF/5E1YYbbpjddtst9957b/bee+8MHz48PXv2zM4771yu1rFjx6ZPnz5rfPxVvshxLrvssjRt2jQTJ05Mhw4dyq37wQ9+UOlzgHv16pVevXpl2bJlefHFF/Pkk0/m17/+dU444YSyZ6CsquUb3/hGfvOb36xR/au+zz+v0M9zfdKrV69svfXW+eUvf5k333wzZ555ZpXPsPnXv/6VG264IZ06dcqECRMq/Gzff//9le632267pVu3bmXPKXnuuefy9ttvZ8iQIWXPpYK6tr5mS7myPLlSrlxbcuWakSsbTq5M/m/Kxs82gD/rvffeq5HzbLrppvn4448r/TAj1Bfra7asjLxZnrwpb64teXPNyJvy5metad4cPHhwbrrppowZMya9evXKLbfckiRr/CGHdZ1nKicZNmxYpkyZkptuuilTp07Nsccem/79++fPf/5zkuSjjz6qMIVIs2bN8uGHH1Z4lkBtW/UQ9smTJ1dYt3Dhwrz66qvZeOONK/3jV9kvolmzZuWdd97J9ttvv9Zh7MUXX0ySKp+3uTrbb799DjjggLz55pvZeuut81//9V9Vbl/V1yNJ2fMxCk1rtd1222XAgAF56KGHsvXWW2fSpEllv1w++wD7ulTVNX700Udl02us2u6LWN21rpqio7I/ipV9X61ufXW/7770pS+lU6dOmTVrVhYtWlTleb6ovn37ZpNNNsmbb76ZPn36ZPPNN69y+y/6MzhgwIAkyV133ZX3338/Dz/8cLbeeut07959tTWu7dehadOm2WOPPXLOOefkhhtuSJI8/PDDa3ycz9pss81ywQUXZMWKFfnpT39atnzPPfdMkjz33HNrdfwvcpx//vOf6dChQ4UgtnLlyjz//PNV7tusWbMccMABufDCC3PxxRentLS0bMqnr33ta9lss83y4osvVpiGppBV3yeVff/PmTMnb775ZrWOU5caNWqU7373u2W1fu9736ty+zlz5mTlypU5+OCDK/xcv/nmm5kzZ07BfYcMGVL2nJJVAa0hPZuEdd+6mi3lyvLkSrlybcmVX4xcWbX1IVcmKXsje968eRXWffLJJ5k5c2aNnGfPPffM+++/X/Y3GNZF62q2rIy8WZ68KW+uLXnzi5E3qyZvVm6nnXZK9+7d89hjj+VPf/pTHn/88XTt2jW77757TZS7zmjwTeXZs2fnvvvuyy233JL9998/2223XU4++eR8/etfz6233prk0098/OlPf8pvfvObfPLJJ3nrrbfKpgpY9emdunL88ccnSX7+85+Xq6W0tDQ/+9nP8p///CfHHntsNthggwr7Xn/99eU+rbtixYpccMEFKS0trfbUJs8//3ylf7Dvv//+3HfffWnatGmOOOKINbyq8n7xi1/kjjvuyB133FH26ZJCDjvssGyxxRb53e9+V+GX3p133pmXX345HTt2LPvFPmfOnLzyyisVjrN06dJ88MEHadKkSdnzZzbffPOUlJTU+Secjz766DRt2jS//vWvKzx34ec//3neeuut9O7dO23btv3C51jdtbZv3z5JxQDy1FNPZezYsVUee22/74YNG5aPP/44Q4cOzbvvvlth/fvvv58//elPqz1OIRtvvHHuu+++3HHHHfmf//mf1W7/RX8Gu3Xrlo4dO+aJJ57IzTffnP/85z/p37//ar/HV1nTr8PUqVOzZMmSCtutqrkmnr1zzDHHZKeddsof/vCHPPPMM0k+fabQ9ttvn1tuuaUszHzejBkzyqZiKeSLHKd9+/b55z//mbfeeqtsWWlpaS6//PL87//+b4X9//CHP1T6ieTPf42aNGmSU089Nf/6179y9tlnV7rPokWLygWTfv36ZYMNNshNN91Urpm6cuXKDB8+vOAn5uqbk08+OXfccUfuv//+7LDDDlVuu+r3xPPPP1/u+pYuXZrvf//7+eSTTwrue9RRR2WLLbbI6NGjM3HixOyzzz7p3LlzzVwEFNm6nC3lyvLkSrlSrvyUXClXFsMmm2ySnXbaKdOmTctf//rXsuWrvq6Vvfn3RQwbNizJp3f4VPYG6IcffrjWbxxDMa3L2bIy8mZ58qa8KW9+St6UN4uhGHlzyJAhWbFiRY4//visWLGiwd2lnDSQ6a+rMmPGjJSWlmafffYpt/yjjz4qe2B9z549c/HFF+ecc87JsGHDsuGGG+bHP/5xnnvuuUofIl6b9tprr/zoRz/Kz3/+8+y777454ogjsummm2bixImZMWNGOnXqVPAPyj777JPu3bvnyCOPzKabbponnngir7zySnbfffecfvrp1Tr/SSedlNLS0uy1117Zaqut8tFHH2X69Ol54YUX0qRJk/ziF7+o8HD4NbXDDjustnmxysYbb5zrrrsu3/ve93LEEUekT58+2W677fKXv/wljz/+eDbbbLOMHj26bDqWv/zlLzn++OPTpUuXdOrUKW3bts2SJUsyYcKEvPvuuxk2bFjZdKsbb7xx9tlnnzz33HM55phj0rVr1zRp0iT77bdfpQ+tL5b27dvniiuuyI9+9KMcfPDBOeKII9KmTZtMmzYtU6ZMSbt27XLVVVet1TlWd62DBw/OnXfemUGDBqVPnz5p27ZtXn311Tz55JM58sgj88ADDxQ89tp+3x133HGZMWNGbrzxxnTt2jW9evVK+/bt89577+WNN97I1KlTc/DBB5dNw/JF7L333tXedm1+Bo899tj87Gc/K3veyapP/VXHmn4dfvWrX+Xpp5/OAQcckO222y6bbLJJ/vGPf2TChAlp1qxZTjvttGqfu5BGjRrl/PPPz8CBA3PxxRfnwAMPzAYbbJA77rgjRx11VAYMGJA99tgju+66azbeeOO8+eabmTlzZmbNmpVJkyZV+eyYL3KcoUOH5oc//GEOPPDA9OnTJ02aNMm0adPyt7/9Ld/4xjfy2GOPlTvHT3/607zxxhvZf//90759+2y00Ub561//mqeeeipbbLFFBg4cWLbtj3/847zyyisZO3ZsHn/88fTo0SPt2rXLwoULM3v27Dz//PMZMmRIunTpkiTZdtttc8EFF+SnP/1pevTokSOPPDKbb755nnrqqSxZsiSdO3cuF27qq8033zzf+ta3qrVtmzZt0rdv39x///3p3r17Dj744Pz73//OxIkTs9FGG2WXXXYpeMfIhhtumO9+97u5+uqrkzS8aWRYt63L2VKuLE+ulCvlSrlSriyuH/7whznllFPyzW9+M0cccUSaN2+eadOm5c0338wBBxyQZ599dq3P0aNHj1x88cW54IIL0q1bt3z961/Pdtttlw8//DBz587N1KlT0759+xo5FxTDupwtKyNvlidvypvyprwpbxZXTefNww47LFtttVXeeuutbLrppunbt2+RKq+/GnxTeeXKlSkpKcnTTz9d4RM4n/3Ey+mnn55hw4Zl/vz5adGiRd54440MHz58rYNGTfjZz36WLl265MYbb8y9996bjz76KNtuu23OPvvsfP/73y84Dcdll12Whx56KLfddlveeOONfPnLX87QoUNz/vnnZ8MNN6zWuQcPHpw//OEPmTZtWhYtWpTS0tK0bds2AwYMyGmnnZZddtmlJi+1Wr7xjW/k8ccfz89//vM888wz+d3vfpdWrVrl2GOPzTnnnFNuGpvddtstZ511Vp599tlMnDgx7777brbYYot87Wtfy2WXXVbh04nXX399fvKTn2Tq1Kl54oknsnLlypx77rm1GsaST6eB3X777XPttdfmkUceyQcffJC2bdvm5JNPztlnn53WrVuv9Tmqutadd945Dz30UC655JI8/vjjWbFiRXbeeefcfvvt2WyzzaoMYzXxfff//t//S+/evfPrX/86zz77bN59991sttlm2WqrrTJ48OD069dvra9/TXzRn8FjjjkmF110UT7++OPsu+++2X777dfovGvydRgyZEg233zzvPjii/njH/+Yjz/+OG3btk3//v1z+umn52tf+9pafQ1W6dOnT3bdddf86U9/ysMPP5xvfetb6dSpU6ZMmZLRo0fn0UcfzV133ZXS0tK0adMmO+20U84444xKp7b6vDU9zqBBg9K0adOMHj06d911VzbaaKPsu+++GTVqVMaPH18hjJ111ll55JFH8vLLL5d9enWrrbbKaaedlqFDh2brrbcu27ZJkyYZO3Zs7r///tx555154oknsnTp0myxxRbZZptt8sMf/rDCs11OP/30bLnllrnmmmvym9/8Jl/60pfSq1evDB8+PEOGDFmbL3u9de2112a77bbLAw88kJtvvjlf/vKX881vfjP//d//ne9+97tV7nv88cfn6quvTsuWLXP44YfXUsWw9tb1bClXlidXypVypVyZyJVra9VdgU2bNi23/JhjjklpaWm56+jZs2duv/32XHrppTV2/jPOOCP77LNPrr/++jz33HN57LHH8qUvfSlt27ZNv379ctRRR9XYuaCmrevZsjLyZnnyprwpb8qbiby5tmorbzZp0iTHHHNMfvGLX+SYY44p+yBPQ1KyZMmS0rouoja1a9cu/+///b+y6Sn+8Y9/ZI899sj48ePLPuFXHZdeemnuuuuuzJgxo9596m91DjvssEyZMiUzZsyol+ESAO69996cdNJJOfPMM3PRRRfVdTlQUEPPlnIlAFVZuXJl2rVrl+XLl+ett96q9hvw0FA19GxZGXkTgKrUdt488sgjM3HixDz33HPp2LFjUc9VHzWIO5WXLl2af/7zn0k+/QabN29eZs6cmc033zw77LBDjj766AwdOjSXXnppdt1117z77rt59tlns+2226ZPnz5JkmuuuSa9evVKo0aN8tBDD+WXv/xlbrnllnU+mAFAfbNixYpcc801ady4samvqZdkSwConieffDLLli1L165dNZShANkSAL642syb06dPz8SJE9O9e/cG2VBOGkhT+eWXX863v/3tstcjRozIiBEjcuyxx2b06NEZNWpUrrzyyvzsZz/LW2+9lc033zy77757unfvXrbPE088kSuvvDLLly/PzjvvnHHjxuXrX/96XVwOAKyXpkyZksmTJ2fq1Kn585//nEGDBpWb6gvqC9kSAKo2atSo/OUvf8mDDz6Y5NPn2QGVky0BYM3VZt688cYb8/bbb+c3v/lNSkpK8tOf/rRo56rvGtz015g2BoD6acSIEbniiiuy+eab59vf/nYuv/zyNG/evK7LAqogVwJQmS5dumThwoXp3LlzTj/99Bx++OF1XRKwjpI3AahMbebNXXbZJW+++Wa+8pWv5JxzzskxxxxTtHPVd5rKAAAAAAAAABTUqK4LAAAAAAAAAKD+0lQGAAAAAAAAoCBNZQAAAAAAAAAK0lRuIGbNmlXXJbAaxqh+Mz71nzGq/4wRrD/8PNd/xqj+M0b1m/Gp/4wRrD/8PNd/xqj+M0b1m/Gp/4xR9WgqAwAAAAAAAFCQpjIAAAAAAAAABWkqAwAAAAAAAFCQpjIAAAAAAAAABWkqAwAAAAAAAFCQpjIAAAAAAAAABWkqAwAAAAAAAFCQpjIAAAAAAAAABWkqAwAAAAAAAFCQpjIAAAAAAAAABWkqAwAAAAAAAFCQpjIAAAAAAAAABWkqAwAAAAAAAFCQpjIAAAAAAAAABWkqAwAAAAAAAFCQpjIAAAAAAAAABWkqAwAAAAAAAFCQpjIAAAAAAAAABWkqAwAAAAAAAFCQpjIAAAAAAAAABWkqAwAAAAAAAFCQpjIAAAAAAAAABWkqAwAAAAAAAFCQpjIAAAAAAAAABTWp6wLWdS1uebOuS6im5smz9b/WJYPa1XUJAAB1RrasWbIlANDQrRv5UrYEgHWBO5UBAAAAAAAAKEhTGQAAAAAAAICCNJUBAAAAAAAAKEhTGQAAAADgM6ZMmZL+/funY8eOadGiRe68884qt588eXKOPfbYdOjQIW3bts1+++2X22+/vZaqBQAoPk1lAAAAAIDP+OCDD9KpU6dcfvnladas2Wq3/+Mf/5jOnTvntttuy3PPPZfBgwfnBz/4Qe69995aqBYAoPia1HUBAAAAAAD1Se/evdO7d+8kydChQ1e7/VlnnVXu9eDBgzN58uSMHz8+/fr1K0qNAAC1yZ3KAAAAAAA17P3330+LFi3qugwAgBrhTmUAAAAAgBr02GOP5ZlnnsmECROq3G7WrFlFrqR5kY/fcBR/rOq3hn796wJjVL8Zn/rPGCU77rhjles1lQEAAAAAasjzzz+fk046KVdccUW6detW5bare/N2rT37ZnGP34AUfazqsVmzZjXo618XGKP6zfjUf8aoekx/DQDAemHKlCnp379/OnbsmBYtWuTOO++s9r6vvfZatt5667Rr166IFQIAsL577rnn0q9fv5x//vkZPHhwXZcDAFBjNJUBAFgvfPDBB+nUqVMuv/zyNGvWrNr7LV++PCeeeGL222+/IlYHAMD6bsqUKenXr1/OOeecDB06tK7LAQCoUZrKAACsF3r37p2f/exnOfzww9OoUfVj7gUXXJDOnTvn8MMPL2J1AACsS5YuXZqZM2dm5syZWblyZebNm5eZM2dm7ty5SZLhw4enT58+ZdtPnjw5/fr1y6BBg3L00UdnwYIFWbBgQRYuXFhXlwAAUKM0lQEAaLAmTJiQCRMm5IorrqjrUgAAqEdefvnl9OjRIz169MiyZcsyYsSI9OjRI5dddlmSZP78+Zk9e3bZ9uPGjct//vOfXHvttenQoUPZfwcffHBdXQIAQI1qUtcFAABAXZg/f36+//3v5/bbb88mm2xS7f1mzZpVxKqaF/HYDU9xx6r+a+jXvy4wRvWb8an/jFGy44471nUJ663u3btnyZIlBdePHj26wuvPLwMAWJ9oKgMA0CCdfPLJOfHEE7Pnnnuu0X5FffP22TeLd+wGqCG/0T5r1qwGff3rAmNUvxmf+s8YAQBA7TL9NQAADdKkSZNyxRVXpGXLlmnZsmXOOOOMfPDBB2nZsmVuvfXWui4PAAAAAOoNdyoDANAgTZ06tdzrRx99NFdddVWeeuqpbLXVVnVUFQAAAADUP5rKAACsF5YuXZp//vOfSZKVK1dm3rx5mTlzZjbffPNss802GT58eF588cWMHz8+SdKpU6dy+7/88stp1KhRheUAAAAA0NCZ/hoAgPXCyy+/nB49eqRHjx5ZtmxZRowYkR49euSyyy5LksyfPz+zZ8+u4yoBAAAAYN3jTmUAANYL3bt3z5IlSwquHz16dJX7H3fccTnuuONquCoAAAAAWPe5UxkAAAAAAACAgjSVAQAAAAAAAChIUxkAAAAAAACAgjSVAQAAAAAAAChIUxkAAAAAAACAgjSVAQAAAAAAAChIUxkAAAAAAACAgjSVAQAAAAAAAChIUxkAAAAAAACAgjSVAQAAAAAAAChIUxkAAAAAAACAgjSVAQAAAAAAAChIUxkAAAAAAACAgjSVAQAAAAAAAChIUxkAAAAAAACAguq0qTxlypT0798/HTt2TIsWLXLnnXdWuf3kyZNz7LHHpkOHDmnbtm3222+/3H777bVULQAAAAAAAEDDU6dN5Q8++CCdOnXK5ZdfnmbNmq12+z/+8Y/p3Llzbrvttjz33HMZPHhwfvCDH+Tee++thWoBAAAAAAAAGp4mdXny3r17p3fv3kmSoUOHrnb7s846q9zrwYMHZ/LkyRk/fnz69etXlBoBAAAAAAAAGrJ1/pnK77//flq0aFHXZQAAAAAAAACsl+r0TuW19dhjj+WZZ57JhAkTqtxu1qxZRayieRGP3fAUd6zqv4Z+/fWd8an/jFH9Z4ySHXfcsa5LAAAAAABYI+tsU/n555/PSSedlCuuuCLdunWrctuivnn77JvFO3YD1JDfaJ81a1aDvv76zvjUf8ao/jNGAAAAAADrpnVy+uvnnnsu/fr1y/nnn5/BgwfXdTkAAAAAAAAA6611rqk8ZcqU9OvXL+ecc06GDh1a1+UAAAAAAAAArNfqdPrrpUuX5p///GeSZOXKlZk3b15mzpyZzTffPNtss02GDx+eF198MePHj0+STJ48Occcc0wGDx6co48+OgsWLEiSNG7cOF/+8pfr7DoAAAAAAAAA1ld1eqfyyy+/nB49eqRHjx5ZtmxZRowYkR49euSyyy5LksyfPz+zZ88u237cuHH5z3/+k2uvvTYdOnQo++/ggw+uq0sAAAAAAAAAWK/V6Z3K3bt3z5IlSwquHz16dIXXn18GAAAAAAAAQPGsc89UBgAAAAAAAKD2aCoDAAAAAAAAUJCmMgAAAAAAAAAFaSoDAAAAAAAAUJCmMgAAAAAAAAAFaSoDAAAAAAAAUJCmMgAAAAAAAAAFaSoDAAAAAAAAUJCmMgAAAAAAAAAFaSoDAAAAAAAAUJCmMgAAAAAAAAAFaSoDAAAAAAAAUJCmMgAAAAAAAAAFNanrAgAAAAAAoKFpccubdV1CNTVPnq3/tS4Z1K6uSwBYr7lTGQAAAAAAAICCNJUBAAAAAAAAKEhTGQAAAAAAAICCNJUBAAAAAAAAKEhTGQAAAAAAAICCNJUBAAAAAAAAKEhTGQAAAAAAAICCNJUBAAAAAAAAKEhTGQAAAAAAAICCNJUBAAAAAAAAKEhTGQAAAAAAAICCNJUBAAAAAAAAKEhTGQAAAAAAAICCNJUBAAAAAAAAKEhTGQAAAAAAAICCNJUBAAAAAAAAKEhTGQAAAAAAAICCNJUBAAAAAAAAKEhTGQAAAAAAAICCNJUBAAAAAAAAKEhTGQAAAAAAAICCNJUBAAAAAAAAKEhTGQAAAAAAAICCNJUBAAAAAAAAKEhTGQAAAAAAAICCNJUBAAAAAAAAKEhTGQCA9cKUKVPSv3//dOzYMS1atMidd95Z5faTJ0/Osccemw4dOqRt27bZb7/9cvvtt9dStQAAAACw7tBUBgBgvfDBBx+kU6dOufzyy9OsWbPVbv/HP/4xnTt3zm233ZbnnnsugwcPzg9+8IPce++9tVAtAAAAAKw7mtR1AQAAUBN69+6d3r17J0mGDh262u3POuuscq8HDx6cyZMnZ/z48enXr19RagQAAACAdZE7lQEA4P/3/vvvp0WLFnVdBgAAAADUK+5UBgCAJI899lieeeaZTJgwocrtZs2aVcQqmhfx2A1Pcceq/mvo178uMEb1m/Gp/4xRsuOOO9Z1CQAANBCaygAANHjPP/98TjrppFxxxRXp1q1bldsW9c3bZ98s3rEboIb8RvusWbMa9PWvC4xR/WZ86j9jBAAAtcv01wAANGjPPfdc+vXrl/PPPz+DBw+u63IAAAAAoN7RVAYAoMGaMmVK+vXrl3POOSdDhw6t63IAAAAAoF4y/TXrvRa3rCvTSDav91NeLhnUrq5LAICCli5dmn/+859JkpUrV2bevHmZOXNmNt9882yzzTYZPnx4XnzxxYwfPz5JMnny5BxzzDEZPHhwjj766CxYsCBJ0rhx43z5y1+us+sAAKDuTZkyJddee21mzJiRt99+O6NGjcpxxx1X5T5//etf8+Mf/zgvvfRSNt9885xwwgk555xzUlJSUktVAwAUjzuVAQBYL7z88svp0aNHevTokWXLlmXEiBHp0aNHLrvssiTJ/PnzM3v27LLtx40bl//85z+59tpr06FDh7L/Dj744Lq6BAAA6okPPvggnTp1yuWXX55mzZqtdvt///vfOfLII9O6des8/fTTufzyy3PttdfmV7/6VS1UCwBQfO5UBgBgvdC9e/csWbKk4PrRo0dXeP35ZQAAkCS9e/dO7969k6Raj0m59957s2zZsowePTrNmjVLp06d8ve//z3XXXddTj/9dHcrAwDrPHcqAwAAAACshT/+8Y/Zd999y93V3KtXr7z99tt5/fXX67AyAICa4U5lAAAAAIC18M4772SrrbYqt6xVq1Zl67bbbrtK95s1a1aRK2te5OM3HMUZK+NTk4r/81S/NfTrr++MT/1njJIdd9yxyvWaygAAAAAAa+nzU1yXlpZWuvyzVvfm7Vp79s3iHr8BKcpYGZ8aVfSfp3ps1qxZDfr66zvjU/8Zo+ox/TUAAAAAwFpo3bp13nnnnXLLFi5cmOT/7lgGAFiXaSoDAAAAAKyFvfbaK88991w+/PDDsmUTJ05M27Zts+2229ZhZQAANUNTGQAAAADgM5YuXZqZM2dm5syZWblyZebNm5eZM2dm7ty5SZLhw4enT58+Zdt/5zvfSbNmzTJ06NC88sorGT9+fH75y19m6NChVU5/DQCwrtBUBgAAAAD4jJdffjk9evRIjx49smzZsowYMSI9evTIZZddliSZP39+Zs+eXbb9ZpttlgcffDBvv/12Dj744Pz4xz/OsGHDcvrpp9fVJQAA1KgmdV0AAAAAAEB90r179yxZsqTg+tGjR1dY1rlz5/z+978vYlUAAHXHncoAAAAAAAAAFKSpDAAAAAAAAEBBmsoAAAAAAAAAFKSpDAAAAAAAAEBBmsoAAAAAAAAAFKSpDAAAAAAAAEBBmsoAAAAAAAAAFKSpDAAAAAAAAEBBmsoAAAAAAAAAFKSpDAAAAAAAAEBBTeq6AAAAgHVFi1verOsSqql58mz9r3XJoHZ1XQIAAABQDe5UBgAAAAAAAKAgTWUAAAAAAAAACtJUBgAAAAAAAKAgz1QG6pTnEtYszyUEAAAAAABqmjuVAQAAAAAAACioTpvKU6ZMSf/+/dOxY8e0aNEid95552r3+etf/5pDDz00W265ZTp27JgrrrgipaWltVAtAAAAAAAAQMNTp03lDz74IJ06dcrll1+eZs2arXb7f//73znyyCPTunXrPP3007n88stz7bXX5le/+lUtVAsAAAAAAADQ8NTpM5V79+6d3r17J0mGDh262u3vvffeLFu2LKNHj06zZs3SqVOn/P3vf891112X008/PSUlJcUuGQAAAAAAAKBBWaeeqfzHP/4x++67b7m7mnv16pW33347r7/+eh1WBgAAAAAAALB+qtM7ldfUO++8k6222qrcslatWpWt22677Srdb9asWUWsqnkRj93wFGesjFFNMT71X3F/39V/Df361wXGKNlxxx3rugQAAAAAgDWyTjWVk1SY4rq0tLTS5Z9V1Ddvn32zeMdugIoyVsaoxhif+q8hN6tmzZrVoK9/XWCMAAAAAADWTevU9NetW7fOO++8U27ZwoULk/zfHcsAAAAAAAAA1Jx1qqm811575bnnnsuHH35YtmzixIlp27Zttt122zqsDAAAAAAAAGD9VKdN5aVLl2bmzJmZOXNmVq5cmXnz5mXmzJmZO3dukmT48OHp06dP2fbf+c530qxZswwdOjSvvPJKxo8fn1/+8pcZOnRoldNfAwAAAAAAAPDF1GlT+eWXX06PHj3So0ePLFu2LCNGjEiPHj1y2WWXJUnmz5+f2bNnl22/2Wab5cEHH8zbb7+dgw8+OD/+8Y8zbNiwnH766XV1CQAAAAAAAADrtSZ1efLu3btnyZIlBdePHj26wrLOnTvn97//fRGrAgAAAAAAAGCVdeqZygAAAAAAAADULk1lAAAAAAAAAArSVAYAAAAAAACgIE1lAAAAAAAAAArSVAYAAAAAAACgIE1lAAAAAAAAAArSVAYAAAAAAACgIE1lAAAAAAAAAArSVAYAAAAAAACgIE1lAAAAAAAAAArSVAYAAAAAAACgIE1lAAAAAAAAAApqUtcFAAAAAAAA1DctbnmzrkuopubJs/W/1iWD2tV1CcBacKcyAAAAAAAAAAVpKgMAAAAAAABQkKYyAAAAAAAAAAVpKgMAAAAAAABQkKYyAAAAAAAAAAVpKgMAAAAAAABQUJO6LgAAAABqSotb3qzrEqqpefJs/a51yaB2dV0CAAAA9YQ7lQEAAAAAAAAoSFMZAAAAAAAAgII0lQEAAAAAAAAoSFMZAAAAAAAAgII0lQEAAAAAAAAoSFMZAAAAAAAAgII0lQEAAAAAAAAoSFMZAAAAAAAAgII0lQEAAAAAAAAoSFMZAAAAAAAAgII0lQEAAAAAAAAoSFMZAAAAAAAAgII0lQEAWC9MmTIl/fv3T8eOHdOiRYvceeedq93nr3/9aw499NBsueWW6dixY6644oqUlpbWQrUAAAAAsO7QVAYAYL3wwQcfpFOnTrn88svTrFmz1W7/73//O0ceeWRat26dp59+Opdffnmuvfba/OpXv6qFagEAAABg3dGkrgsAAICa0Lt37/Tu3TtJMnTo0NVuf++992bZsmUZPXp0mjVrlk6dOuXvf/97rrvuupx++ukpKSkpdskAAAAAsE5wpzIAAA3SH//4x+y7777l7mru1atX3n777bz++ut1WBkAAAAA1C/uVAYAoEF65513stVWW5Vb1qpVq7J12223XaX7zZo1q4hVNS/isRue4oyVMapJxqh+K+7vu/qvoV//usAYJTvuuGNdlwAAQAOhqQwAQIP1+SmuS0tLK13+WUV98/bZN4t37AaoKGNljGqUMarfGnKzatasWQ36+tcFxggAAGqX6a8BAGiQWrdunXfeeafcsoULFyb5vzuWAQAAAABNZQAAGqi99torzz33XD788MOyZRMnTkzbtm2z7bbb1mFlAAAAAFC/aCoDALBeWLp0aWbOnJmZM2dm5cqVmTdvXmbOnJm5c+cmSYYPH54+ffqUbf+d73wnzZo1y9ChQ/PKK69k/Pjx+eUvf5mhQ4dWOf01AAAAADQ0nqkMQJVa3LKuPJew+TrxDMUlg9rVdQmw3nr55Zfz7W9/u+z1iBEjMmLEiBx77LEZPXp05s+fn9mzZ5et32yzzfLggw/m7LPPzsEHH5wWLVpk2LBhOf300+uifAAAAACotzSVAQBYL3Tv3j1LliwpuH706NEVlnXu3Dm///3vi1gVAAAAAKz7TH8NAAAAAAAAQEGaygAAAAAAAAAUpKkMAAAAAAAAQEGaygAAAAAAAAAUpKkMAAAAAAAAQEGaygAAAAAAAAAUpKkMAAAAAAAAQEGaygAAAAAAAAAU1KSuCwAAAAAahha3vFnXJVRT8+TZ+l/rkkHt6roEAACggdBUBgAAAAAAYJ2zbnxo0QcWWT9oKgMAAAAAAAA1at1o+ica/9XjmcoAAAAAAJW4+eab06VLl7Rp0yYHHnhgpk6dWuX2Tz31VL7+9a9n6623zvbbb59jjz02//jHP2qpWgCA4tFUBgAAAAD4nAceeCDnnXdezjrrrEyaNCl77bVX+vXrl7lz51a6/Zw5czJgwIDsu+++mTRpUn7729/mww8/TL9+/Wq5cgCAmqepDAAAAADwOaNGjcqAAQMycODAdOjQISNHjkybNm0yZsyYSrefMWNGPv7441xwwQXZfvvt06VLl/zwhz/M7Nmzs2jRolquHgCgZmkqAwAAAAB8xvLlyzN9+vT07Nmz3PKePXtm2rRple7TtWvXbLDBBhk7dmxWrFiR999/P3fddVd23333tGzZsjbKBgAomiZ1XQAAAAAAQH2yaNGirFixIq1atSq3vFWrVnnnnXcq3WfbbbfNgw8+mBNOOCFnn312Vq5cmS5duuS+++4reJ5Zs2bVaN0VNS/y8RuO4oyV8alJxqj+M0b1m/Gp/4qdG3bccccq12sqAwAAAABUoqSkpNzr0tLSCstWWbBgQc4444z0798/ffv2zdKlS3PZZZflhBNOyEMPPZRGjSpOGrm6N2/X2rNvFvf4DUhRxsr41ChjVP8Zo/rN+NR/Rc8Nq6GpDAAAAADwGS1btkzjxo0r3JW8cOHCCncvr3LTTTelefPmueiii8qW3XjjjencuXOmTZuWfffdt6g1AwAUk2cqAwAAAAB8RtOmTdO1a9dMnDix3PKJEydm7733rnSfZcuWpXHjxuWWrXq9cuXK4hQKAFBLNJUBAAAAAD5n2LBhGTduXMaOHZu//e1vOffcczN//vwMGjQoSTJ8+PD06dOnbPvevXtnxowZufzyy/Paa69l+vTpGTZsWLbeeut07dq1jq4CAKBmmP4aAAAAgCRJi1vWlefeNV8nntG3ZFC7ui6BtXDUUUdl8eLFGTlyZBYsWJCOHTvmnnvuSfv27ZMk8+fPz+zZs8u2P/DAA3PzzTfn6quvzrXXXpuNNtooe+yxR+67775svPHGdXUZAAA1QlMZAAAAAKASQ4YMyZAhQypdN3r06ArL+vbtm759+xa7LACAWmf6awAAAAAAAAAK0lQGAAAAAAAAoCBNZQAAAAAAAAAKqvYzlZctW5YPPvggX/7yl8uWLVy4MGPHjs2SJUty+OGHp1u3bkUpEgCA9YtsCQBATZIvAQCKq9pN5R/+8Id59dVX88wzzyRJPvjgg/Tq1StvvPFGkmT06NF56KGHss8++xSnUgAA1huyJQAANUm+BAAormpPf/3888/nm9/8Ztnr++67L2+88Ubuu+++/O1vf0uHDh1y5ZVXFqVIAADWL7IlAAA1Sb4EACiuajeVFyxYkHbt2pW9/v3vf5+99torvXr1SuvWrXPcccdl5syZRSkSAID1i2wJAEBNki8BAIqr2k3ljTfeOEuWLEmSfPLJJ5k6dWoOOuigsvXNmjXL+++/X9P1AQCwHpItAQCoSfIlAEBxVfuZyrvttltuv/329OjRI7///e+zdOnSfOMb3yhbP3v27LRu3booRQIAsH6RLQEAqEnyJQBAcVW7qfzTn/40Rx55ZA4++OCUlpamT58+2W233crWP/zww9l7772LUiQAAOsX2RIAgJokXwIAFFe1m8q77rprXnjhhUybNi2bbLJJunfvXrZuyZIlGTJkSPbff/81LuDmm2/ONddckwULFmSnnXbKiBEjst9++xXc/qmnnsrll1+eV199NU2bNs3ee++diy++ODvssMManxsAgLpRrGwJAEDDJF8CABRXtZvKSdKyZcsceuihFZa3aNEip5122hqf/IEHHsh5552Xq666Kvvss09uvvnm9OvXL88//3y22WabCtvPmTMnAwYMyCmnnJIbbrghS5cuzQUXXJB+/frl5ZdfXuPzAwBQd2o6WwIA0LDJlwAAxbNGTeUkef/99zNv3ry8++67KS0trbB+TT7xN2rUqAwYMCADBw5MkowcOTJPPfVUxowZkwsuuKDC9jNmzMjHH3+cCy64II0bN06S/PCHP0yfPn2yaNGitGzZck0vBwCAOlST2RIAAORLAIDiqHZTecmSJTnnnHPy4IMPZsWKFRXWl5aWpqSkJIsXL67W8ZYvX57p06fnjDPOKLe8Z8+emTZtWqX7dO3aNRtssEHGjh2b733ve/nPf/6Tu+66K7vvvruGMgDAOqSmsyUAAA2bfAkAUFzVbir/4Ac/yMMPP5yTTjop+++/f1q0aLFWJ160aFFWrFiRVq1alVveqlWrvPPOO5Xus+222+bBBx/MCSeckLPPPjsrV65Mly5dct9991V5rlmzZq1VrVVrXsRjNzzFGStjVFOMT/1njOq/4v5Nqv8a+vUnyY477ljXJdQLNZ0tAQBo2ORLAIDiqnZT+cknn8wpp5ySSy+9tEYLKCkpKfd61acGK7NgwYKcccYZ6d+/f/r27ZulS5fmsssuywknnJCHHnoojRo1qnS/or55++ybxTt2A1SUsTJGNcb41H/GqP5ryA3FWbNmNejrp7xiZUsAABom+RIAoLiq3VRu2rRpvvrVr9bYiVu2bJnGjRtXuCt54cKFFe5eXuWmm25K8+bNc9FFF5Utu/HGG9O5c+dMmzYt++67b43VBwBA8dR0tgQAoGGTLwEAiqvyW3srcfjhh+eJJ56osRM3bdo0Xbt2zcSJE8stnzhxYvbee+9K91m2bFkaN25cbtmq1ytXrqyx2gAAKK6azpYAADRs8iUAQHFVu6l8xhlnZP78+Tn11FPzwgsvZP78+fnXv/5V4b81MWzYsIwbNy5jx47N3/72t5x77rmZP39+Bg0alCQZPnx4+vTpU7Z97969M2PGjFx++eV57bXXMn369AwbNixbb711unbtukbnBgCg7hQjWwIA0HDJlwAAxVXt6a+7deuWkpKSTJ8+Pffcc0/B7RYvXlztkx911FFZvHhxRo4cmQULFqRjx46555570r59+yTJ/PnzM3v27LLtDzzwwNx88825+uqrc+2112ajjTbKHnvskfvuuy8bb7xxtc8LAEDdKka2BACg4ZIvAQCKq9pN5XPOOSclJSU1XsCQIUMyZMiQSteNHj26wrK+ffumb9++NV4HAAC1p1jZEgCAhkm+BAAormo3lc8///xi1gEAQAMiWwIAUJPkSwCA4qr2M5U/7/3338/7779fk7UAANBAyZYAANQk+RIAoGatUVP5jTfeyCmnnJLtt98+2267bbbddttsv/32OfXUU/PGG28Uq0YAANZDsiUAADVJvgQAKJ5qT389a9asHHLIIXnvvfdy0EEHpUOHDiktLc2sWbNy77335oknnsiECROyww47FLNeAADWA7IlAAA1Sb4EACiuajeVhw8fntLS0kycODFdunQpt+7Pf/5zDj/88AwfPjy33357jRcJAMD6RbYEAKAmyZcAAMVV7emvn3322ZxyyikVQlmS7LLLLjnppJMyefLkGi0OAID1k2wJAEBNki8BAIqr2k3l5cuXZ9NNNy24frPNNsvy5ctrpCgAANZvsiUAADVJvgQAKK5qN5U7deqUu+++O8uWLauw7qOPPsrdd9+dTp061WhxAACsn2RLAABqknwJAFBc1X6m8o9+9KMcf/zxOfjggzN48ODsuOOOSZK///3vGTNmTGbNmpU77rijaIUCALD+kC0BAKhJ8iUAQHFVu6l86KGH5sYbb8xPf/rTnHPOOSkpKUmSlJaWpk2bNrnxxhvzzW9+s2iFAgCw/pAtAQCoSfIlAEBxVbupnCTf+c53csQRR2T69Ol54403kiTt27dP165d06TJGh0KAIAGTrYEAKAmyZcAAMWzxmmqSZMm2WOPPbLHHnsUox4AABoQ2RIAgJokXwIAFEfBpvLcuXOTJNtss02516uzansAAFhFtgQAoCbJlwAAtatgU7lLly4pKSnJ/Pnz07Rp07LXq7N48eIaLRAAgHWfbAkAQE2SLwEAalfBpvKvfvWrlJSUZIMNNij3GgAA1pRsCQBATZIvAQBqV8Gm8nHHHVflawAAqC7ZEgCAmiRfAgDUrkZ1XQAAAAAAAAAA9VfBO5XvuuuuL3TAY4899gsXAwDA+km2BACgJsmXAAC1q2BTeejQoWt8sJKSEsEMAIAKZEsAAGqSfAkAULsKNpVnzJhRm3UAALAeky0BAKhJ8iUAQO0q2FRu3759bdYBAMB6TLYEAKAmyZcAALWrUV0XAAAAAAAAAED9VfBO5WHDhq3xwUpKSvKrX/1qrQoCAGD9I1sCAFCT5EsAgNpVsKk8adKklJSUrNHB1nR7AAAahtrKljfffHOuueaaLFiwIDvttFNGjBiR/fbbr+D2Tz31VC6//PK8+uqradq0afbee+9cfPHF2WGHHdb43AAA1B7vXQIA1K6CTeU///nPtVkHAADrsdrIlg888EDOO++8XHXVVdlnn31y8803p1+/fnn++eezzTbbVNh+zpw5GTBgQE455ZTccMMNWbp0aS644IL069cvL7/8ctHrBQDgi/PeJQBA7fJMZQAA1gujRo3KgAEDMnDgwHTo0CEjR45MmzZtMmbMmEq3nzFjRj7++ONccMEF2X777dOlS5f88Ic/zOzZs7No0aJarh4AAAAA6i9NZQAA1nnLly/P9OnT07Nnz3LLe/bsmWnTplW6T9euXbPBBhtk7NixWbFiRd5///3cdddd2X333dOyZcvaKBsAAAAA1gkFp7/u0qVLGjVqlBdeeCEbbLBBunTpstrnjpSUlGT69Ok1XSMAAOu4YmfLRYsWZcWKFWnVqlW55a1atco777xT6T7bbrttHnzwwZxwwgk5++yzs3LlynTp0iX33XdfleeaNWtWtWr6YpoX8dgNT3HGyhjVJGNUvxmf+s8Y1X/FzQ3JjjvuWNTj12feuwQAqF0Fm8r7779/SkpK0qhRo3KvAQBgTdVWtvz8MUtLSwueZ8GCBTnjjDPSv3//9O3bN0uXLs1ll12WE044IQ899FBZrZ9X1Ddvn32zeMdugIoyVsaoRhmj+s341H/GqP5ryE3fYvPeJQBA7SrYVB49enSVrwEAoLqKnS1btmyZxo0bV7greeHChRXuXl7lpptuSvPmzXPRRReVLbvxxhvTuXPnTJs2Lfvuu2+N1ggAQM3x3iUAQO3yTGUAANZ5TZs2TdeuXTNx4sRyyydOnJi999670n2WLVuWxo0bl1u26vXKlSuLUygAAAAArIMK3qm8Oq+88kqee+65fPDBB9l5553Ts2fPmqwLAIAGpCay5bBhw3LKKaekW7du2XvvvTNmzJjMnz8/gwYNSpIMHz48L774YsaPH58k6d27d6677rpcfvnl6devX95///1cfPHF2XrrrdO1a9eavDwAAGqZ9y4BAGpWlU3ljz/+OOeee27uv//+NGnSJAMGDMjFF1+c//7v/87111+f0tLSJJ8+u27vvffO/fffn+bNm9dK4QAArFuKnS2POuqoLF68OCNHjsyCBQvSsWPH3HPPPWnfvn2SZP78+Zk9e3bZ9gceeGBuvvnmXH311bn22muz0UYbZY899sh9992XjTfeuGYvHgCAGue9SwCA2lNlU/n666/PLbfckn333TetW7fODTfckPfeey/jxo3LySefnB49euTjjz/O448/nnHjxmXkyJG54IILaqt2AADWIbWRLYcMGZIhQ4ZUuq6y5+z17ds3ffv2/ULXAwBA3fLeJQBA7amyqXzXXXfl0EMPzZ133pkkueWWW3LWWWflpJNOyuWXX1623eGHH54PPvggv/vd7wQzAAAqJVsCAFCT5EsAgNrTqKqVc+fOTa9evcpe9+zZM6WlpenevXuFbXv06JF58+bVfIUAAKwXZEsAAGqSfAkAUHuqbCovXbo0m2yySdnrVf//2WWrfOlLX8onn3xSw+UBALC+kC0BAKhJ8iUAQO2psqkMAAAAAAAAQMNW5TOVk2TChAl56623kiT/+c9/UlJSkgceeCDTp08vt92f//znohQIAMD6Q7YEAKAmyZcAALVjtU3l+++/P/fff3+5ZWPHjq1025KSkpqpCgCA9ZJsCQBATZIvAQBqR5VN5RkzZtRWHQAArOdkSwAAapJ8CQBQe6psKrdv37626gAAYD0nWwIAUJPkSwCA2tOorgsAAAAAAAAAoP7SVAYAAAAAAACgIE1lAAAAAAAAAArSVAYAAAAAAACgoCZ1XQAAsHZa3PJmXZdQTc2TZ+t/rUsGtavrEgAAAAAA6hV3KgMAAAAAAABQ0BrdqbxixYo8/fTTmTNnTt59992UlpaWW19SUpJzzjmnRgsEAGD9JFsCAFCT5EsAgOKpdlN55syZOf744zNv3rwKgWwVwQwAgOqQLQEAqEnyJQBAcVW7qXz22Wdn6dKluf3227P//vunRYsWRSwLAID1mWwJAEBNki8BAIprje5UPv/883PYYYcVsx4AABoA2RIAgJokXwIAFFej6m7YunXrNGmyRo9gBgCASsmWAADUJPkSAKC4qt1UPvnkk/Ob3/wmH3/8cTHrAQCgAZAtAQCoSfIlAEBxVfvje1tttVWaNGmSfffdN8cff3y23nrrNG7cuMJ2Rx55ZI0WCADA+ke2BACgJsmXAADFVe2m8uDBg8v+f/jw4ZVuU1JSIpgBALBasiUAADVJvgQAKK5qN5UfeuihYtYBAEADIlsCAFCT5EsAgOKqdlP5gAMOKGYdAAA0ILIlAAA1Sb4EACiuRnVdAAAAAAAAAAD1V8E7lYcNG5aSkpJcffXVady4cYYNG7bag5WUlORXv/pVjRYIAMC6T7YEAKAm1Va+vPnmm3PNNddkwYIF2WmnnTJixIjst99+BbcvLS3N6NGjc8stt+T111/P5ptvnmOPPTYXXnjhGp0XAKC+KdhUnjRpUho1apSVK1emcePGmTRpUkpKSqo82OrWAwDQMMmWAADUpNrIlw888EDOO++8XHXVVdlnn31y8803p1+/fnn++eezzTbbVLrPT37yk0yYMCEXXXRROnfunPfeey8LFixYo/MCANRHBZvKf/7zn6t8DQAA1SVbAgBQk2ojX44aNSoDBgzIwIEDkyQjR47MU089lTFjxuSCCy6osP2sWbNy4403ZsqUKenQoUON1wMAUJc8UxkAAAAA4DOWL1+e6dOnp2fPnuWW9+zZM9OmTat0n0cffTTbbbddnnzyyey6667ZZZddcuqpp+Zf//pXbZQMAFBUBe9UBgAAAABoiBYtWpQVK1akVatW5Za3atUq77zzTqX7zJkzJ3Pnzs0DDzyQ6667LiUlJfmf//mf9O/fP0888UQaNap4f8+sWbOKUv//aV7k4zccxRkr41OTjFH9Z4zqN+NT/xU7N+y4445VrtdUBgAAAACoxOefw1xaWlrw2cwrV67MRx99lBtuuCE77LBDkuSGG27IHnvskZdeeil77LFHhX1W9+btWnv2zeIevwEpylgZnxpljOo/Y1S/GZ/6r+i5YTVMfw0AAAAA8BktW7ZM48aNK9yVvHDhwgp3L6/Spk2bNGnSpKyhnCRf/epX06RJk8ybN6+o9QIAFJumMgAAAADAZzRt2jRdu3bNxIkTyy2fOHFi9t5770r32WefffLJJ59k9uzZZcvmzJmTTz75JNtss01R6wUAKDZNZQAAAACAzxk2bFjGjRuXsWPH5m9/+1vOPffczJ8/P4MGDUqSDB8+PH369Cnb/qCDDsquu+6aYcOGZcaMGZkxY0aGDRuWPfbYI7vttltdXQYAQI2odlP529/+dp555pmC6ydNmpRvf/vbNVIUAADrN9kSAICaVIx8edRRR2XEiBEZOXJkunfvnueffz733HNP2rdvnySZP39+ubuSGzVqlLvvvjutWrXKYYcdlr59+6Zdu3YZN25cGjVybw8AsG5rUt0Nn3322Xzve98ruH7hwoWZMmVKjRQFAMD6TbYEAKAmFStfDhkyJEOGDKl03ejRoyss23LLLXPbbbet8XkAAOq7GvuI3JtvvpmNN964pg4HAEADJlsCAFCT5EsAgLVT5Z3KjzzySB599NGy17feemv+8Ic/VNhuyZIleeaZZ9KtW7caLxAAgPWDbAkAQE2SLwEAak+VTeVXX301999/f5KkpKQkL7zwQl588cVy25SUlKR58+bZZ599cvnllxevUgAA1mmyJQAANUm+BACoPVU2lc8+++ycffbZSZLNN988o0aNSr9+/WqlMAAA1i+yJQAANUm+BACoPVU2lT/r3XffLWYdAAA0ILIlAAA1Sb4EACiuRnVdwM0335wuXbqkTZs2OfDAAzN16tQqty8tLc11112XPffcM61bt06HDh1y4YUX1k6xAAAAAAAAAA1MwTuVu3TpkkaNGuWFF17IBhtskC5duqSkpKTKg5WUlGT69OnVPvkDDzyQ8847L1dddVX22Wef3HzzzenXr1+ef/75bLPNNpXu85Of/CQTJkzIRRddlM6dO+e9997LggULqn1OAABqX21kSwAAGg75EgCgdhVsKu+///4pKSlJo0aNyr2uSaNGjcqAAQMycODAJMnIkSPz1FNPZcyYMbngggsqbD9r1qzceOONmTJlSjp06FCjtQAAUDy1kS0BAGg45EsAgNpVsKk8evToKl+vreXLl2f69Ok544wzyi3v2bNnpk2bVuk+jz76aLbbbrs8+eSTOfroo7Ny5crsv//+ufjii9OqVasarQ8AgJpT7GwJAEDDIl8CANSugk3lLbbYIjfeeGO+853vJEmGDRuWQYMGZY899qiREy9atCgrVqyo0Axu1apV3nnnnUr3mTNnTubOnZsHHngg1113XUpKSvI///M/6d+/f5544omyTyZ+3qxZs2qk5so1L+KxG57ijJUxqinGp/4zRvWfMar/ipsbkh133LGox6+vip0tAQBoWORLAIDaVbCp3KRJkyxfvrzs9bhx43LQQQfVeDD7/LQ0paWlBaeqWblyZT766KPccMMN2WGHHZIkN9xwQ/bYY4+89NJLBWsr6pu3z75ZvGM3QEUZK2NUY4xP/WeM6j9jVP811KZvsdVWtgQAoGGQLwEAalfBpvL222+fe++9N7vuums23XTTJMnixYszd+7cKg+4zTbbVOvELVu2TOPGjSvclbxw4cKCU1m3adMmTZo0KWsoJ8lXv/rVNGnSJPPmzRMaAQDqqWJnSwAAGhb5EgCgdhVsKp999tk57bTT0r179ySf3lF8/vnn5/zzz6/ygIsXL67WiZs2bZquXbtm4sSJOeKII8qWT5w4MX369Kl0n3322SeffPJJZs+ena985StJPp0S+5NPPhEIAQDqsWJnSwAAGhb5EgCgdhVsKn/nO9/JHnvskalTp+Zf//pXLrzwwhx11FHZZZddauzkw4YNyymnnJJu3bpl7733zpgxYzJ//vwMGjQoSTJ8+PC8+OKLGT9+fJLkoIMOyq677pphw4ZlxIgRSZLzzz8/e+yxR3bbbbcaqwsAgJpVG9kSAICGQ74EAKhdBZvKSbLddttlu+22S5L8+te/Tt++fXPooYfW2MmPOuqoLF68OCNHjsyCBQvSsWPH3HPPPWnfvn2SZP78+Zk9e3bZ9o0aNcrdd9+dc889N4cddlg22mijHHzwwbn00kvTqFGjGqsLAICaV+xsCQBAwyJfAgDUniqbyp81c+bMohQwZMiQDBkypNJ1o0ePrrBsyy23zG233VaUWgAAqB3FypYAADRM8iUAQHFVu6mcJCtWrMi4cePy+OOP54033kiStG/fPoccckiOPfbYNG7cuChFAgCw/pEtAQCoSfIlAEDxVLup/O9//ztHHXVUXnrppXzpS1/Kdtttl9LS0jzzzDN55JFHctttt+WBBx7IJptsUsx6AQBYD8iWAADUJPkSAKC4qv0g4ksuuSQvv/xyLrvssvzjH//IpEmTMnny5Lz22msZMWJEXnrppVxyySXFrBUAgPWEbAkAQE2SLwEAiqvaTeWHH344gwYNyqmnnpqmTZuWLd9ggw1yyimn5IQTTshDDz1UlCIBAFi/yJYAANQk+RIAoLiq3VRetGhROnbsWHB9p06dsmjRohopCgCA9ZtsCQBATZIvAQCKq9pN5W222SYTJ04suH7ixInZZpttaqQoAADWb7IlAAA1Sb4EACiuajeVjz/++DzyyCM57bTT8uqrr+bjjz/Oxx9/nFdeeSXDhg3Lo48+mu9973vFrBUAgPWEbAkAQE2SLwEAiqtJdTf8/ve/n9dffz233npr7r777pSUlCRJSktLU1pamkGDBuXMM88sWqEAAKw/ZEsAAGqSfAkAUFzVbiqXlJTkF7/4RU4++eRMmDAhb7zxRpKkffv26d27dzp16lS0IgEAWL/IlgAA1CT5EgCguKrVVF62bFmOPvroHHPMMTn++OPTsWPHYtcFAMB6SrYEAKAmyZcAAMVXrWcqN2vWLDNmzMiKFSuKXQ8AAOs52RIAgJokXwIAFF+1mspJcsABB2Tq1KnFrAUAgAZCtgQAoCbJlwAAxVXtpvIVV1yRl156Kf/zP/+TOXPmZOXKlcWsCwCA9ZhsCQBATZIvAQCKq1rPVE6SPffcM6WlpRk1alRGjRqVRo0aZYMNNii3TUlJSd56660aLxIAgPWLbAkAQE2SLwEAiqvaTeUjjzwyJSUlxawFAIAGoljZ8uabb84111yTBQsWZKeddsqIESOy3377Fdy+tLQ0o0ePzi233JLXX389m2++eY499thceOGFNV4bAADF471LAIDiqnZTefTo0cWsAwCABqQY2fKBBx7Ieeedl6uuuir77LNPbr755vTr1y/PP/98ttlmm0r3+clPfpIJEybkoosuSufOnfPee+9lwYIFNV4bAADF5b1LAIDiWm1T+aOPPsqjjz6aOXPmpGXLlundu3e23HLL2qgNAID1TDGz5ahRozJgwIAMHDgwSTJy5Mg89dRTGTNmTC644IIK28+aNSs33nhjpkyZkg4dOtRIDQAA1C7vXQIA1I4qm8oLFizIoYcemtmzZ6e0tDRJ0rx589xzzz3Zf//9a6VAAADWD8XMlsuXL8/06dNzxhlnlFves2fPTJs2rdJ9Hn300Wy33XZ58sknc/TRR2flypXZf//9c/HFF6dVq1ZrVQ8AAMXnvUsAgNrTqKqVl1xySebMmZOhQ4fm7rvvzogRI7LRRhvlnHPOqa36AABYTxQzWy5atCgrVqyo0Axu1apV3nnnnUr3mTNnTubOnZsHHngg1113XW644YbMmjUr/fv3z8qVK9e6JgAAist7lwAAtafKO5WffvrpHHvssbnkkkvKlrVu3TpDhgzJm2++mXbt2hW9QAAA1g+1kS1LSkrKvS4tLa2wbJWVK1fmo48+yg033JAddtghSXLDDTdkjz32yEsvvZQ99tij0v1mzZq11nUW1ryIx254ijNWxqgmGaP6zfjUf8ao/itubkh23HHHoh6/vvPeJQBA7Vnt9Nd77713uWX77LNPSktLM2/ePMEMAIBqK2a2bNmyZRo3blzhruSFCxcWnMq6TZs2adKkSVlDOUm++tWvpkmTJpk3b17BpnJR37x99s3iHbsBKspYGaMaZYzqN+NT/xmj+q+hN32LzXuXAAC1p8rpr1esWJGNNtqo3LJVrz/88MPiVQUAwHqnmNmyadOm6dq1ayZOnFhu+cSJEyu80bjKPvvsk08++SSzZ88uWzZnzpx88skn2WabbdaqHgAAis97lwAAtafKO5WTT99Ye/HFF8te//vf/07y6fQ9X/rSlyps361btxosDwCA9Ukxs+WwYcNyyimnpFu3btl7770zZsyYzJ8/P4MGDUqSDB8+PC+++GLGjx+fJDnooIOy6667ZtiwYRkxYkSS5Pzzz88ee+yR3Xbb7QtfIwAAtcd7lwAAtWO1TeURI0aUvcn2Weecc06516ueV7d48eKaqw4AgPVKMbPlUUcdlcWLF2fkyJFZsGBBOnbsmHvuuSft27dPksyfP7/cXcmNGjXK3XffnXPPPTeHHXZYNtpooxx88MG59NJL06hRlRP6AABQT3jvEgCgdlTZVB41alRt1QEAwHquNrLlkCFDMmTIkErXjR49usKyLbfcMrfddluxywIAoAi8dwkAUHuqbCoPGDCgtuoAAGA9J1sCAFCT5EsAgNpjXj8AAAAAAAAACtJUBgAAAAAAAKAgTWUAAAAAAAAACtJUBgAAAAAAAKAgTWUAAAAAAAAACtJUBgAAAAAAAKAgTWUAAAAAAAAACtJUBgAAAAAAAKAgTWUAAAAAAAAACtJUBgAAAAAAAKAgTWUAAAAAAAAACtJUBgAAAAAAAKAgTWUAAAAAAAAACtJUBgAAAAAAAKAgTWUAAAAAAAAACtJUBgAAAAAAAKAgTWUAAAAAAAAACtJUBgAAAAAAAKAgTWUAAAAAAAAACtJUBgAAAAAAAKAgTWUAAAAAAAAACtJUBgAAAAAAAKAgTWUAAAAAAAAACtJUBgAAAAAAAKAgTWUAAAAAAAAACtJUBgAAAAAAAKAgTWUAAAAAAAAACtJUBgAAAAAAAKAgTWUAAAAAAAAACtJUBgAAAAAAAKAgTWUAAAAAAAAACtJUBgAAAAAAAKAgTWUAAAAAAAAACtJUBgAAAAAAAKAgTWUAAAAAAAAACtJUBgAAAAAAAKAgTWUAAAAAAAAACtJUBgAAAAAAAKAgTWUAAAAAgErcfPPN6dKlS9q0aZMDDzwwU6dOrdZ+r732Wrbeeuu0a9euyBUCANQOTWUAAAAAgM954IEHct555+Wss87KpEmTstdee6Vfv36ZO3dulfstX748J554Yvbbb79aqhQAoPg0lQEAAAAAPmfUqFEZMGBABg4cmA4dOmTkyJFp06ZNxowZU+V+F1xwQTp37pzDDz+8lioFACg+TWUAAAAAgM9Yvnx5pk+fnp49e5Zb3rNnz0ybNq3gfhMmTMiECRNyxRVXFLtEAIBa1aSuCwAAAAAAqE8WLVqUFStWpFWrVuWWt2rVKu+8806l+8yfPz/f//73c/vtt2eTTTap1nlmzZq11rVWrXmRj99wFGesjE9NMkb1nzGq34xP/Vfs3LDjjjtWuV5TGQAAAACgEiUlJeVel5aWVli2ysknn5wTTzwxe+65Z7WPv7o3b9fas28W9/gNSFHGyvjUKGNU/xmj+s341H9Fzw2rYfprAAAAAIDPaNmyZRo3blzhruSFCxdWuHt5lUmTJuWKK65Iy5Yt07Jly5xxxhn54IMP0rJly9x66621UDUAQPG4UxkAAAAA4DOaNm2arl27ZuLEiTniiCPKlk+cODF9+vSpdJ+pU6eWe/3oo4/mqquuylNPPZWtttqqmOUCABSdpjIAAAAAwOcMGzYsp5xySrp165a99947Y8aMyfz58zNo0KAkyfDhw/Piiy9m/PjxSZJOnTqV2//ll19Oo0aNKiwHAFgXaSoDAAAAAHzOUUcdlcWLF2fkyJFZsGBBOnbsmHvuuSft27dPksyfPz+zZ8+u4yoBAGqHpjIAAAAAQCWGDBmSIUOGVLpu9OjRVe573HHH5bjjjitGWQAAta5RXRdw8803p0uXLmnTpk0OPPDACs8eKeS1117L1ltvnXbt2hW5QgAAAAAAAICGq06byg888EDOO++8nHXWWZk0aVL22muv9OvXL3Pnzq1yv+XLl+fEE0/MfvvtV0uVAgAAAAAAADRMddpUHjVqVAYMGJCBAwemQ4cOGTlyZNq0aZMxY8ZUud8FF1yQzp075/DDD6+lSgEAAAAAAAAapjprKi9fvjzTp09Pz549yy3v2bNnpk2bVnC/CRMmZMKECbniiiuKXSIAAAAAAABAg9ekrk68aNGirFixIq1atSq3vFWrVnnnnXcq3Wf+/Pn5/ve/n9tvvz2bbLJJtc81a9astaq1as2LeOyGpzhjZYxqivGp/4xR/WeM6r/i5oZkxx13LOrxAQAAAABqWp01lVcpKSkp97q0tLTCslVOPvnknHjiidlzzz3X6BxFffP22TeLd+wGqChjZYxqjPGp/4xR/WeM6j9NXwAAAACA8ups+uuWLVumcePGFe5KXrhwYYW7l1eZNGlSrrjiirRs2TItW7bMGWeckQ8++CAtW7bMrbfeWgtVAwAAAAAAADQsdXanctOmTdO1a9dMnDgxRxxxRNnyiRMnpk+fPpXuM3Xq1HKvH3300Vx11VV56qmnstVWWxWzXAAAAAAAAIAGqU6nvx42bFhOOeWUdOvWLXvvvXfGjBmT+fPnZ9CgQUmS4cOH58UXX8z48eOTJJ06dSq3/8svv5xGjRpVWA4AAAAAAABAzajTpvJRRx2VxYsXZ+TIkVmwYEE6duyYe+65J+3bt0+SzJ8/P7Nnz67LEgEAAAAAAAAatDptKifJkCFDMmTIkErXjR49usp9jzvuuBx33HHFKAsAAAAAAACAJI3qugAAAAAAAAAA6i9NZQAAAAAAAAAK0lQGAAAAAAAAoCBNZQAAAAAAAAAK0lQGAAAAAAAAoCBNZQAAAAAAAAAK0lQGAGC9cfPNN6dLly5p06ZNDjzwwEydOrVa+7322mvZeuut065duyJXCAAAAADrHk1lAADWCw888EDOO++8nHXWWZk0aVL22muv9OvXL3Pnzq1yv+XLl+fEE0/MfvvtV0uVAgAAAMC6RVMZAID1wqhRozJgwIAMHDgwHTp0yMiRI9OmTZuMGTOmyv0uuOCCdO7cOYcffngtVQoAAAAA6xZNZQAA1nnLly/P9OnT07Nnz3LLe/bsmWnTphXcb8KECZkwYUKuuOKKYpcIAAAAAOusJnVdAAAArK1FixZlxYoVadWqVbnlrVq1yjvvvFPpPvPnz8/3v//93H777dlkk02qfa5Zs2atVa1Va17EYzc8xRkrY1STjFH9ZnzqP2NU/xU3NyQ77rhjUY8PAACraCoDALDeKCkpKfe6tLS0wrJVTj755Jx44onZc8891+gcRX3z9tk3i3fsBqgoY2WMapQxqt+MT/1njOo/TV8AANYXpr8GAGCd17JlyzRu3LjCXckLFy6scPfyKpMmTcoVV1yRli1bpmXLljnjjDPywQcfpGXLlrn11ltroWoAAAAAWDe4UxkAgHVe06ZN07Vr10ycODFHHHFE2fKJEyemT58+le4zderUcq8fffTRXHXVVXnqqaey1VZbFbNcAAAAAFinaCoDALBeGDZsWE455ZR069Yte++9d8aMGZP58+dn0KBBSZLhw4fnxRdfzPjx45MknTp1Krf/yy+/nEaNGlVYDgAAAAANnaYyAADrhaOOOiqLFy/OyJEjs2DBgnTs2DH33HNP2rdvnySZP39+Zs+eXcdVAgAAAMC6R1MZAID1xpAhQzJkyJBK140ePbrKfY877rgcd9xxxSgLAAAAANZpjeq6AAAAAAAAAADqL01lAAAAAAAAAArSVAYAAAAAAACgIE1lAAAAAAAAAArSVAYAAAAAAACgIE1lAAAAAAAAAArSVAYAAAAAAACgIE1lAAAAAAAAAArSVAYAAAAAAACgIE1lAAAAAAAAAArSVAYAAAAAAACgIE1lAAAAAAAAAArSVAYAAAAAAACgIE1lAAAAAAAAAArSVAYAAAAAAACgIE1lAAAAAAAAAArSVAYAAAAAAACgIE1lAAAAAAAAAArSVAYAAAAAAACgIE1lAAAAAAAAAP4/9u47vubz7+P4+yB2NUEQEoKo2LHVplTtUWqvUjVit1aNWrVarRVaqjYNoYK2auQXIkFbgqqEVoyUxKa1ybn/UOcWSdCWXCfJ6/l49PHIub5f7rffuZNc5/u5rs+VIIrKAAAAAAAAAAAAAIAEUVQGAAAAAAAAAAAAACSIojIAAAAAAAAAAAAAIEEUlQEAAAAAAAAAAAAACaKoDAAAAAAAAAAAAABIEEVlAAAAAAAAAAAAAECCKCoDAAAAAAAAAAAAABJEURkAAAAAAAAAAAAAkCCKygAAAAAAAAAAAACABFFUBgAAAAAAAAAAAAAkiKIyAAAAAAAAAAAAACBBFJUBAAAAAAAAAAAAAAmiqAwAAAAAAAAAAAAASBBFZQAAAAAAAAAAAABAgigqAwAAAAAAAAAAAAASRFEZAAAAAAAAAAAAAJAgisoAAAAAAAAAAAAAgARRVAYAAAAAAAAAAAAAJIiiMgAAAAAAAAAAAAAgQRSVAQAAAAAAAAAAAAAJoqgMAAAAAAAAAAAAAEgQRWUAAAAAAAAAAAAAQIIoKgMAAAAAAAAAAAAAEkRRGQAAAAAAAAAAAACQIIrKAAAAAAAAAAAAAIAEUVQGAAAAAAAAAAAAACSIojIAAAAAAAAAAAAAIEEUlQEAAAAAAAAAAAAACaKoDAAAAAAAAAAAAABIEEVlAAAAAAAAAAAAAECCKCoDAAAAAAAAAAAAABJEURkAAAAAAAAAAAAAkCCKygAAAAAAAAAAAACABFFUBgAAAAAAAIB4LFiwQCVLllTOnDlVo0YNBQcHJ3jvzp071bZtWxUuXFguLi6qXLmyli5dmohpAQAAXhyKygAAAAAAAADwmLVr12rYsGEaPHiwduzYoQoVKqhVq1Y6ffp0vPfv3btXxYoV0+LFixUSEqJu3bppwIABWr16dSInBwAAeP7SmA4AAAAAAAAAAPZmzpw5ateunTp37ixJmjZtmrZt26aFCxdqzJgxce4fPHhwrNfdunXTzp075e/vr1atWiVKZgAAgBeFncoAAAAAAAAA8Ig7d+4oNDRUtWvXjjVeu3Zt7dmz55n/nj///FOOjo7POR0AAEDiY6cyAAAAAAAAADzi4sWLun//vpydnWONOzs769y5c8/0d3z//fcKDAzU5s2bE7zn2LFj/ynn02V8wX9/yvFi3iven+eJ98j+8R7ZN94f+/ei5w2FChV64nXjReUFCxZo5syZio6OlqenpyZNmqTKlSvHe+/OnTvl4+Ojffv26dq1a8qfP7969eqljh07JnJqAAAAAAAAAMmdxWKJ9dpqtcYZi8/u3bv1zjvvaMqUKSpbtmyC9z3t4e1/FvTHi/37U5AX8l7x/jxXvEf2j/fIvvH+2L8XPm94CqPtr9euXathw4Zp8ODB2rFjhypUqKBWrVrp9OnT8d6/d+9eFStWTIsXL1ZISIi6deumAQMGaPXq1YmcHAAAAAAAAEBylS1bNqVOnTrOruQLFy7E2b38uJCQELVq1UrDhw9Xt27dXmRMAACARGO0qDxnzhy1a9dOnTt3VuHChTVt2jTlzJlTCxcujPf+wYMHa+TIkapUqZLc3d3VrVs3NW7cWP7+/omcHAAAAAAAAEBylTZtWnl5eSkgICDWeEBAgCpWrJjgn9u1a5datWqlIUOGqHfv3i86JgAAQKIxVlS+c+eOQkNDVbt27VjjtWvX1p49e5757/nzzz/l6Oj4nNMBAAAAAAAASMn69OmjFStWaMmSJQoPD9fQoUMVFRWlrl27SpLGjh2rJk2a2O7fuXOnWrVqpa5du+qtt95SdHS0oqOjdeHCBVP/BAAAgOfG2JnKFy9e1P379+O0i3F2do7TViYh33//vQIDA7V58+Yn3vdiD67mkPHniYPg7Rvvj/3jPbJ/vEf278XOG8yffQIAAADg2bRo0UKXLl3StGnTFB0drSJFisjX11d58+aVJEVFRSkiIsJ2/4oVK3Tjxg3NmjVLs2bNso27ubnp0KFDiZ4fAADgeTJWVH7IYrHEem21WuOMxWf37t165513NGXKFJUtW/aJ977Qh7ccMv5ccRC8feP9sX+8R/aP98j+UfQFAAAA8FD37t3VvXv3eK/NnTs3zuvHxwAAAJILY+2vs2XLptSpU8fZlXzhwoU4u5cfFxISolatWmn48OHq1q3bi4wJAAAAAAAAAAAAACmasaJy2rRp5eXlpYCAgFjjAQEBqlixYoJ/bteuXWrVqpWGDBmi3r17v+iYAAAAAAAAAAAAAJCiGSsqS1KfPn20YsUKLVmyROHh4Ro6dKiioqLUtWtXSdLYsWPVpEkT2/07d+5Uq1at1LVrV7311luKjo5WdHS0Lly4YOqfAAAAADuyYMEClSxZUjlz5lSNGjUUHByc4L07d+5U27ZtVbhwYbm4uKhy5cpaunRpIqYFAAAAAAAAkgajZyq3aNFCly5d0rRp0xQdHa0iRYrI19dXefPmlSRFRUUpIiLCdv+KFSt048YNzZo1S7NmzbKNu7m56dChQ4meHwAAAPZj7dq1GjZsmD755BNVqlRJCxYsUKtWrbR79265ubnFuX/v3r0qVqyY+vfvr1y5cmnbtm0aMGCA0qdPr1atWhn4FwAAAAAAAAD2yWhRWZK6d++u7t27x3tt7ty5cV4/PgYAAABI0pw5c9SuXTt17txZkjRt2jRt27ZNCxcu1JgxY+LcP3jw4Fivu3Xrpp07d8rf35+iMgAAAAAAAPAIo+2vAQAAgOfhzp07Cg0NVe3atWON165dW3v27Hnmv+fPP/+Uo6Pjc04HAAAAAAAAJG3GdyoDAAAA/9XFixd1//59OTs7xxp3dnbWuXPnnunv+P777xUYGKjNmzc/8b5jx47965xPl/EF/t0pz4t5r3iPnifeI/vG+2P/eI/s34udN0iFChV6oX8/AAAA8BBFZQAAACQbFosl1mur1RpnLD67d+/WO++8oylTpqhs2bJPvPeFPrwN+uPF/d0p0At5r3iPniveI/vG+2P/eI/sH0VfAAAAJBe0vwYAAECSly1bNqVOnTrOruQLFy7E2b38uJCQELVq1UrDhw9Xt27dXmRMAAAAAAAAIEmiqAwAAIAkL23atPLy8lJAQECs8YCAAFWsWDHBP7dr1y61atVKQ4YMUe/evV90TAAAAAAAACBJoqgMAACAZKFPnz5asWKFlixZovDwcA0dOlRRUVHq2rWrJGns2LFq0qSJ7f6dO3eqVatW6tq1q9566y1FR0crOjpaFy5cMPVPAAAAAAAAAOwSZyoDAAAgWWjRooUuXbqkadOmKTo6WkWKFJGvr6/y5s0rSYqKilJERITt/hUrVujGjRuaNWuWZs2aZRt3c3PToUOHEj0/AAAAAAAAYK8oKgMAACDZ6N69u7p37x7vtblz58Z5/fgYAAAAAAAAgLhofw0AAAAAAAAAAAAASBBFZQAAAAAAAAAAAABAgigqAwAAAAAAAAAAAAASRFEZAAAAAAAAAAAAAJAgisoAAAAAAAAAAAAAgARRVAYAAAAAAAAAAAAAJIiiMgAAAAAAAAAAAAAgQRSVAQAAAAAAAAAAAAAJoqgMAAAAAAAAAAAAAEgQRWUAAAAAAAAAAAAAQIIoKgMAAAAAAAAAAAAAEkRRGQAAAAAAAAAAAACQIIrKAAAAAAAAAAAAAIAEUVQGAAAAAAAAAAAAACSIojIAAAAAAAAAAAAAIEEUlQEAAAAAAAAAAAAACaKoDAAAAAAAAAAAAABIEEVlAAAAAAAAAAAAAECCKCoDAAAAAAAAAAAAABJEURkAAAAAAAAAAAAAkCCKygAAAAAAAAAAAACABFFUBgAAAAAAAAAAAAAkiKIyAAAAAAAAAAAAACBBFJUBAAAAAAAAAAAAAAmiqAwAAAAAAAAAAAAASBBFZQAAAAAAAAAAAABAgigqAwAAAAAAAAAAAAASRFEZAAAAAAAAAAAAAJAgisoAAAAAAAAAAAAAgARRVAYAAAAAAAAAAAAAJIiiMgAAAAAAAAAAAAAgQRSVAQAAAAAAAAAAAAAJoqgMAAAAAAAAAAAAAEgQRWUAAAAAAAAAAAAAQIIoKgMAAAAAAAAAAAAAEkRRGQAAAAAAAAAAAACQIIrKAAAAAAAAAAAAAIAEUVQGAAAAAAAAAAAAACSIojIAAAAAAAAAAAAAIEEUlQEAAAAAAAAAAAAACaKoDAAAAAAAAAAAAABIEEVlAAAAAAAAAAAAAECCKCoDAAAAAAAAAAAAABJEURkAAAAAAAAAAAAAkCCKygAAAAAAAAAAAACABFFUBgAAAAAAAAAAAAAkiKIyAAAAAAAAAAAAACBBFJUBAAAAAAAAAAAAAAmiqAwAAAAAAAAAAAAASBBFZQAAAAAAAAAAAABAgigqAwAAAAAAAAAAAAASRFEZAAAAAAAAAAAAAJAgisoAAAAAAAAAAAAAgARRVAYAAAAAAAAAAAAAJIiiMgAAAAAAAAAAAAAgQRSVAQAAAAAAAAAAAAAJoqgMAAAAAAAAAAAAAEgQRWUAAAAAAAAAAAAAQIIoKgMAAAAAAAAAAAAAEkRRGQAAAAAAAAAAAACQIIrKAAAAAAAAAAAAAIAEUVQGAAAAAAAAAAAAACSIojIAAAAAAAAAAAAAIEEUlQEAAAAAAAAAAAAACaKoDAAAAAAAAAAAAABIEEVlAAAAAAAAAAAAAECCKCoDAAAAAAAAAAAAABJkvKi8YMEClSxZUjlz5lSNGjUUHBz8xPsPHz6sBg0aKFeuXCpSpIimTJkiq9WaSGkBAABgz5hbAgAA4HlifgkAAPCA0aLy2rVrNWzYMA0ePFg7duxQhQoV1KpVK50+fTre+69du6bmzZsrR44c2r59uyZPnqxZs2Zp9uzZiZwcAAAA9oa5JQAAAJ4n5pcAAAD/z2hRec6cOWrXrp06d+6swoULa9q0acqZM6cWLlwY7/2rV6/WzZs3NXfuXBUtWlRNmzZV//795ePjw4o/AACAFI65JQAAAJ4n5pcAAAD/z3LlyhUjM5o7d+7IxcVFX375pZo1a2Ybf++99/Trr7/q22+/jfNn3n33XV2+fFm+vr62sX379ql27doKDQ2Vu7t7IiQHAACAvWFuCQAAgOeJ+SUAAEBsxnYqX7x4Uffv35ezs3OscWdnZ507dy7eP3Pu3Ll47394DQAAACkTc0sAAAA8T8wvAQAAYjPa/lqSLBZLrNdWqzXO2NPuj28cAAAAKQ9zSwAAADxPzC8BAAAeMFZUzpYtm1KnTh1nld6FCxfirOh7KEeOHPHeLynBPwMAAIDkj7klAAAAnifmlwAAALEZKyqnTZtWXl5eCggIiDUeEBCgihUrxvtnKlSooJCQEN26dSvW/S4uLsqXL98LzQsAAAD7xdwSAAAAzxPzSwAAgNiMtr/u06ePVqxYoSVLlig8PFxDhw5VVFSUunbtKkkaO3asmjRpYru/ZcuWypAhg3r37q1ff/1V/v7++uyzz9S7d29ayAAAAKRwzC0BAADwPDG/BAAA+H9pTP4fb9GihS5duqRp06YpOjpaRYoUka+vr/LmzStJioqKUkREhO3+l19+WevWrdN7772nWrVqydHRUX369JG3t7epf0KScffuXTk4OJiOgUfcuHFDhw4d0vnz5xUTExPr2qMfSJD47ty5o7Rp09pe7969W7dv39arr74aaxxm3L17V2+88YbmzZunQoUKmY4DwI4wt3w+du3a9cz3VqlS5QUmAQAgritXrtjOqH3IycnJUBokd8wvAQD/1MNjD7Jnzy5JOnz4sNatWydPT0+1bNnSZDT8LSwsTKlTp7Y9Ww4ICNDKlSvl6emp/v37K3Xq1IYT2i/LlStXrE+/DUnJvHnz5OLioqZNm0qSvL29tXLlSuXPn18rV66kCGMH/ve//6lbt266dOlSnGsWiyXecbx4Z8+eVceOHbVv3z6VL19eq1at0jvvvKNt27ZJktzd3fXtt9/KxcXFcFJ4eHjo+++/l4eHh+koiIefn5/8/f3l6Oiorl27ysvLy3bt4sWLql27tg4cOGAuIIAncnJyksVisT2wf7ir5vHXkpiz2IHbt29rwYIF2rlzpy5cuBBnseL27dsNJcNDV65c0Z49e+To6KgKFSrE+h66fv26Zs+eraFDhxpMmLItXLhQISEhqlq1qjp37ixfX19NnjxZd+7cUevWrTVq1CjTESHp1KlTGjRokHbu3Km7d+/axq1WK5+hgSTC1dX1mXZrnz59OhHSAEnX7t27tWnTJjk6Oqp169ZydXW1Xbty5Yo6duyoDRs2GEyIRo0aqXXr1urYsaMuXryoMmXKyMXFRWfOnNH777+vvn37mo6Y4tWtW1c9e/bUm2++qT/++EPlypVT1apVdfjwYbVu3VpjxowxHdFuUVROhkqXLq3Zs2erSpUq2rVrl1q3bq1Zs2bJ399fN27c0Ndff206YopXqVIllS5dWqNHj6ZAaUd69OihkydPasCAAVq9erX++OMPpUqVSl9++aXu37+vd955RyVKlNC0adNMR03xHj7cGz9+vOEkeNyyZcs0YMAANW7cWH/++ad27NihqVOnqkuXLpKkc+fOydPTkwd/gB179Pvzp59+0qhRozR48GBVqFBBkrR3715Nnz5dY8eOVb169UzFxN/effddbd68WQ0aNFCOHDniPKzlw7BZR44cUbNmzWwF/1KlSmnJkiW2HW78XjRr1qxZmjx5smrXrq0ff/xR3bp1k4+Pj/r06aP79+9rzpw5Gjt2rK3NLcxp3Lixrl69qr59+ypXrlxxftZVrVrVUDIAz2rFihXPdF+7du1ecBL8W3TCNO+7775Thw4d5OXlpb/++ktnz57V/PnzbZ/LmFvah/z58+u7776Tp6enFi5cqKVLlyogIECbNm3S6NGj9fPPP5uOmOLlzZtX27dvl4eHh+bMmaPvvvtOGzdu1I4dO9SnTx8dOnTIdES7ZbT9NV6Ms2fP2h5SfP/992ratKmaN2+uokWLqn79+obTQXqwynrlypUUlO3Mjh07tHTpUpUvX16VKlVSgQIF9M033yh37tySpOHDh6t///6GU0J60D5+9erVCggIkJeXlzJmzBjr+tSpUw0lw9y5czV16lS9/fbbkh78HurRo4du376td99913A6AM8ia9astq8nTpyoyZMnq1atWrYxd3d3OTs7a/To0RSV7cB3332nFStWUFCxU2PHjlX58uX1+eef688//9SwYcP0xhtvaMOGDSpYsKDpeCne0qVL9dlnn6lVq1Y6cOCAXnvtNU2fPl2dOnWSJLm4uGjhwoUUle3Avn37tGXLFhUtWtR0FAD/EsXipIVOmPbpk08+0ZAhQ2xdbubPn6+3335b8+bNU+PGjQ2nw0O3bt1SpkyZJD3oWPqwJlOqVCn98ccfJqPhbzExMbZFMjt27NDrr78u6cGCgPPnz5uMZvdSmQ6A5++ll17SxYsXJT3oBV+jRg1JkoODg27fvm0yGv5WsWJFHTt2zHQMPObKlSu2Qr+Tk5MyZswoNzc32/UCBQooKirKVDw8Ijw8XCVLlpSjo6NOnDihX3/91fbfkSNHTMdL0SIiIvTaa6/ZXr/xxhvy9fXVxIkT5ePjYzAZgH8jPDzctrjqUS4uLsxl7ISzs7OyZctmOgYS8NNPP+mDDz5QpkyZlCtXLi1atEjNmjVTo0aN9Ntvv5mOl+KdPn1aFStWlPTgIV/q1KlVvnx52/WqVavGOisV5uTLl0937twxHQMAUozPP//cdh7srl279M0332jBggUqUaKERo4caThdyhUeHq7WrVvbXr/zzjvy8fHRu+++q/Xr1xtMhkcVKFBAGzZsUGRkpAICAlS7dm1J0vnz5/Xyyy8bTgdJKlKkiBYuXKjg4GAFBgbanmWePXuWz9dPwU7lZKhWrVrq16+fSpYsqYiICNWtW1fSg9Zr+fLlM5wOktS1a1eNGjVKUVFRKlq0qNKkif2t+Oj5o0g82bNnV3R0tO0sknfeeUdOTk6261evXrWtMoNZGzduNB0BCciSJYuio6Nj/b6pVKmSvv76a7311luKjo42mA7AP+Xp6akpU6Zozpw5ypAhgyTp5s2bmjp1qjw9PQ2ngySNHj1a48aN09y5c+Xo6Gg6Dh5z586dOG16P/roI1mtVjVs2FALFiwwlAySlCFDBt28edP2Onv27HHm+/fv30/sWIjHpEmTNHbsWH3yyScqUKCA6TgA/oXKlSs/033BwcEvOAmeBZ0w7VO6dOl0+fJlubu728Ye7ibv1asXR9/YiaFDh6p79+4aOXKkatSooXLlykmStm3bppIlSxpOB0n68MMP1b59e82aNUtt27ZVsWLFJD3oBFamTBnD6ewbReVk6OOPP9aECRN0+vRpLV682FYUO3DggN58803D6SBJnTt3lqR4WylbLBbOvTCkRIkS+vHHH1W2bFlJD365PGr37t20WwOeokyZMtqyZYvt7NWHXn31Va1atUpvvfWWoWQA/o3p06erdevWKlKkiO1D1q+//qrUqVPL19fXcDpIDxaULlq0SB4eHsqZM2ecxYoHDhwwlAyS5OHhof3798dZhDFp0iTFxMSoffv2hpJBkgoVKqRff/1VhQsXliQdPnw41vVjx47F6lwEc9q3b6/bt2+rXLlySpcuXZyfdadPnzaUDMCzatKkiekI+AcedsJ0c3NTQECA+vXrJ4lOmKaVLFlSO3bsUOnSpWONN23aVDExMerRo4ehZHhUkyZN9Msvv+js2bMqUaKEbbxmzZr8LLQTVapU0e+//64///wz1uLsLl26xDlmEbFRVE5m7t27J19fXw0cODDOeb0jRowwlAqP4+GefVqxYsUTr5cqVcrWHg/m7dixQ35+foqMjIzTCm/Dhg2GUqF3797au3dvvNeqVKmiVatWaeXKlYmcCsC/VaZMGR04cEC+vr46evSorFar3nrrLbVs2ZLuHXaiZ8+eCgsLU69evZQjRw7TcfCYRo0ayc/PT23bto1zbcqUKbp//76+/PJLA8kgPdjp/6SfZSdPnrSdrwyzpk6dajoCgP9o2LBhpiPgH6ATpn3q2rWrdu3aFe+15s2bKyYmRl999VUip8LjpkyZor59+6pUqVKxxosVK6aZM2fazsSGWalTp9b9+/f1008/qUSJEkqXLh0/356B5cqVK1bTIfB85c6dW7t377a1KAGA5Gb58uUaNGiQGjVqpI0bN6pBgwb67bffdPLkSbVu3VrTpk0zHREAgESRO3du+fv721qqAQAAAP/VtWvXNH78eEVGRqpbt26qU6eOpAfHeKRLl06DBw82nBCwX1mzZlV4eLicnZ1jjV+6dEkeHh50KbUDf/75p7y9veXv7y+LxaJ9+/bJ3d1dAwcOVI4cOTR8+HDTEe0WO5WToXLlyik0NJSisp375ZdfNGvWLIWHh8tisahw4cLq27evrbUkgITNnj1b06ZNU6dOneTq6qoxY8bI3d1d77//PjvnAOA/8vf3f+Z7ad1lnqurq9KmTWs6BgC8cLdv35avr6/tM7Snp6datmypdOnSmY4GAMlOlixZ4l2wTydM4OmsVqssFkuc8YMHD9qOKoVZH374oaKiohQYGBjrnPh69epp/PjxFJWfgJ3KyZCfn5/GjRund999V15eXnF6wHt5eZkJBptvv/1WHTt21KuvvqpKlSpJenBe7+7du7V06dJYP8gAxOXi4qLdu3crX758KlCggPz9/VW8eHEdPXpUjRo10tGjR01HBIAk61k/5FosFlZY24GtW7dqzpw5+uSTT1SgQAHTcQDghQgLC1PLli117do120Lsw4cPK0uWLPLz87Odiw0AeL7Onj2r8+fPKyYmJtY4z5eBuFxdXWWxWHT9+nVlzJgxVmH5/v37unXrlt5++219/PHHBlNCkooWLaply5apTJkycnV1VVBQkNzd3RUREaFq1aopMjLSdES7xU7lZKh79+6SpA8++CDONR7+2YcJEyZo8ODBcVb3TZw4URMmTKCoDDxF1qxZ9ddff0l6UGA+cuSIihcvrkuXLunWrVuG0wFA0nb58mXTEfAPdOnSRbdv31a5cuWULl06pUkT+yPe6dOnDSUDgOdn2LBhKlGihD7//HNlyZJF0oPWrD169NDw4cO1du1awwkBIHk5cOCA3n33XR09elRWa+w9aTxfBuI3depUWa1WeXt7a+TIkbY5iySlTZtWefPmVYUKFQwmxENXrlxR1qxZ44z/+eefSpUqlYFESQdF5WTowIEDpiPgKX7//Xe1adMmznibNm00c+ZMA4mApOXVV1/V9u3bVaxYMTVv3lxDhw5VQECAduzYoZo1a5qOBwDJwt27d9WjRw+NHj1a+fPnNx0HCZg6darpCADwwu3Zs0fbt2+P9XA2S5YsGjVqlOrWrWswGYB/ateuXapYsWKchXD37t3Tnj17VKVKFUPJ8KgBAwYoT548mjFjhnLlyhVvK18AsbVr106SlC9fPlWsWFEODg6GEyEhpUuX1rfffqvevXvHGl+0aJEqVqxoKFXSQFE5GeIsZfvn7Oys0NDQOC0KQ0ND5ezsbCgVkHRMmzbNtiN50KBBSpMmjXbv3q1mzZrpvffeM5wOAJIHBwcHbd++XWPGjDEdBU/w8MEFACRn6dKl09WrV+OMX7t2jTOVgSSmcePGCg8Pj/P869q1a2rcuDE7YO1EeHi4duzYIQ8PD9NRgCSnatWqOnfunL7++mtFRETogw8+ULZs2bR7927lypVL7u7upiOmeKNHj9abb76psLAw3bt3T3PmzFFYWJj27dunTZs2mY5n1ygqJ1NbtmzRggULdOLECfn5+cnV1VVLlixRvnz5VKNGDdPxUrxOnTppwIABOn78uCpUqCCLxaLdu3dr1qxZ6tevn+l4Kd7ly5c1fvx4BQYG6vz583Ha/NBG0pxevXqpevXqqlatmlxdXSVJqVKl0oABA8wGgyRpyJAhz3wvO+uApKFx48basGGD+vbtazoKnuD27dvy9fVVeHi4LBaLPD091bJlSwotdiQoKEjp06dXuXLlJEnLly/X0qVL5enpqQkTJihz5syGE2LBggVasGCBTp48qZCQELm7u+vTTz+Vu7u7mjdvbjpeivfGG2+of//+mjFjhsqXLy9J2rt3rwYOHMjxUUASY7Va4931eunSJWXKlMlAIsSnaNGiio6Opqhsx5i72K/Q0FA1adJE+fLlU1hYmPr166ds2bIpICBAv//+uxYsWGA6YopXsWJFbd68WbNmzVL+/Pm1Y8cOlSpVSj/88IOKFStmOp5do6icDPn6+mrQoEHq2LGjAgMDde/ePUkPDoOfMWMGRWU78P777ytTpkyaM2eOJk6cKOnBubDDhw9Xz549DaeDt7e3Dh48qC5dutDix84cP35cfn5+unfvnvLly6fq1avbisw5cuQwHS/F+/XXX5/pPr6ngKTD1dVV06ZNU3BwsEqXLq2MGTPGuu7t7W0oGR4KCwtTy5Ytde3aNduH38WLF2vSpEny8/NT4cKFDSeEJA0fPlzDhg2TJB07dkwDBw5Ux44dFRISotGjR2v69OmGE6ZsPj4+mjlzpvr376+xY8faxl1cXPTFF1/wYNYOTJ48Wb169VL9+vWVOnVqSVJMTIzq16+vSZMmGU4H4Fk8PAbOYrGoR48eSps2re1aTEyMfv31V84atSOjRo3SmDFjNHLkSBUtWjROG18nJydDySAxd7F3I0eOVM+ePTVixAjbphhJeu2117R8+XKDyfCoYsWKad68eaZjJDmWK1euWJ9+G5KSKlWqaNCgQXrzzTfl6uqqoKAgubu769ChQ2rRooWOHTtmOmKKdu/ePS1atEgNGzaUi4uL/vzzT0nSSy+9ZDgZHnJzc9O6detsO0lgX27evKmQkBAFBQVp586dCg0N1f379/XKK6+oWrVqqlatmpo0aWI6JgAkCyVLlkzwmsVi0YEDBxIxDeLTrFkzZciQQZ9//rntrNFr166pR48eunPnjtauXWs4IaQH88udO3fK3d1dn3zyifbu3auvv/5aP/30kzp16vTMC7PwYpQvX14TJkxQvXr1Yn2GPnLkiBo0aKCIiAjTEfG333//XUePHpXVapWnp2ecI6UA2K+H51auXLlSzZs3V/r06W3X0qZNq7x586pz587Kli2bqYh4xKNF40cXhj/caU6bcrOYu9i3R+f+j74/J0+eVIUKFRQdHW06YooXFham1KlTq1ChQpKkgIAArVy5Up6enurfv79tESPiYqdyMnT8+HFbO6hHZc6c2VbAhDlp0qTR6NGj9frrr0uimGyPsmfPTsslO5YhQwbVrl1btWvXliRdv35dISEh2r59u5YtW6Yvv/ySDzd25q+//pLFYuH7CkiCDh48aDoCnmLPnj3avn27raAsSVmyZNGoUaNUt25dg8nwKIvFovv370uSAgMD1ahRI0lSjhw5mLfYgdOnT6tIkSJxxh0cHHTr1i0DiZCQggULKmfOnMwtgSTIx8dHMTExun79umbNmsX3sJ3bsGGD6Qh4AuYu9i19+vS6cuVKnPFjx47FOU8eZvTt21c9e/ZUoUKF9Mcff6hdu3aqWrWqFixYoD///FNjxowxHdFupTIdAM9frly59Pvvv8cZ37Vrl/Lnz28gER5Xrlw5hYaGmo6BBIwaNUofffSR/vrrL9NR8AQxMTHat2+fFixYoM8//1xLlixRxowZafFjR+bPn6/ixYsrb968cnNzU/HixTk3BkjC/vrrL12/ft10DDwmXbp0unr1apzxa9eucaayHSldurSmTp2qVatWKSQkxFbwP3XqFEd42AF3d/d4Oy/88MMPtJC3I8wtgaTPYrHo22+/ZZdeElC1atUn/gezmLvYtwYNGmjy5Mm6ffu2bezkyZMaM2aMGjdubDAZHgoPD1epUqUkSd98843Kli2r1atXa968eVqzZo3hdPaNncrJUJcuXTR06FDNnDlTkhQZGang4GCNGTPGdo4XzOrcubNGjRqlyMhIeXl5xTmf0MvLy0wwSJI+/vhjnTp1SoUKFZKbm5vSpIn9ozI4ONhQMhw4cEA7d+7Uzp07FRISosyZM6tKlSpq2LChJk2aJA8PD9MR8bdPPvlEn376qby9vfXqq69KevC9M3bsWP35558aOHCg4YQAntX8+fM1Y8YMnTlzRpKUO3duDRgwQN27dzecDJL0xhtvqH///poxY4atW9HevXs1cOBA1a9f33A6PDRp0iR1795d3333nQYPHmxb7Lt+/XpVrFjRcDp4e3tryJAhunnzpqxWq/bu3atVq1Zp5syZmj17tul4EHNLILmwWCwqVKiQLly4QPv6JODcuXOaP3++wsPDZbFY5OnpqW7durEgzg4wd7Fv48eP11tvvSUPDw/duHFD9evX17lz51SxYkWNHDnSdDzowWalh2fF79ixw9ZVNn/+/Dp//rzJaHaPM5WTqfHjx8vHx8fW7iJdunTy9vbmh5adePRcksdxLol5kydPfuJ1FmeY4+TkJDc3N3l7e6tOnTp8CLVjxYsX14cffqiWLVvGGvf19dW4ceP0yy+/GEoG4J9I6CG+j4+PBg0axEN8O3DlyhX16tVL33//ve3cp5iYGNWvX18+Pj56+eWXDSfEk9y6dUupU6e2PdCAOYsXL9a0adP0xx9/SHqwgGbo0KHq1KmT4WSQmFsCycmWLVv0ySefaOrUqSpRokSs83phP3bv3q2WLVvK2dnZtnDxxx9/1IULF+Tn56cKFSoYTgjmLvZvx44dOnDggGJiYlSqVCnVrFnTdCT8rW7duqpcubLq1aunFi1aaNu2bSpWrJj27t2rrl276vDhw6Yj2i2KysnYjRs3FB4erpiYGBUuXFiZM2c2HQl/O3Xq1BOv582bN5GSAEmLt7e3du3apTNnzqhs2bKqWrWqqlWrpgoVKtDi087kzJlTISEhcQr/v//+uypXrky7MyCJ4CF+0vH777/r6NGjslqt8vT0ZOGVndq/f78iIiJUr149ZcqUSdevX1e6dOnidMaBORcvXlRMTAzn3dkZ5pZA8uHq6qpbt24pJiZGadKkifNZ/vTp04aS4VF169ZV0aJF9emnnypVqgcnaMbExGjgwIE6cuSIfvjhB8MJ8RBzF/vyzTffaNOmTbp7965q1qypLl26mI6EeOzatUvt27fXtWvX1LZtW82ZM0eSNHbsWP32229aunSp4YT2i0+uyVjGjBlVunRp0zEQj9OnT6tixYpxHh7du3dPe/bsoagMJOBhC5/IyEhbG+w+ffro3LlzKlOmjO1sn+rVqxtOioIFC2r16tUaOnRorPHVq1fTphxIQs6fP68yZcrEGS9btiwtoexMwYIFVbBgQdMxkIBz586pbdu22rdvnywWi/bt26dMmTLpgw8+ULp06TRlyhTTEfG3bNmymY6AeDC3BJKPqVOnmo6AZ3Do0CH5+PjYCsqSlCpVKvXp04dnLnaGuYv9WLRokQYOHKiCBQsqXbp08vf3t52lDPtSpUoV/f777/rzzz/l6OhoG+/SpUuco0oRGzuVk6FGjRrF2zrGYrEoffr0yp8/v9q2bcu5vQZlzZpV4eHhcVaQXbp0SR4eHrS/NuzOnTv6+OOP5efnp8jISN29ezfWdd4f+3Py5EktXbpUX3zxha5fv66LFy+ajpTi+fv7q2vXrqpataoqVqwoi8Wi3bt3a9euXVq0aJEaNWpkOiKAZ1C5cmU1bdo0zkP8yZMna8OGDdq1a5ehZClbnz59nvnehyuuYVb37t11/fp1zZ07V8WLF1dQUJDc3d31v//9T0OGDNHevXtNR0yR2rRp80z3rVq16gUnwdMwtwSAxPXKK6/Ix8dHderUiTW+ZcsWeXt7Kzw83FCylI25i32rXLmyGjRoYDuCdPny5Ro6dKgiIyMNJwOeH3YqJ0OFCxfW6tWrlStXLttO5f379ys6OloNGzbU7t279eWXX8rPz081atQwnDZlslqt8Rb+L126pEyZMhlIhEdNnDhRa9eu1aBBgzRixAiNGzdOp06d0tq1a/XBBx+Yjoe//fHHH7bdykFBQTp16pQyZMigqlWrmo4GSU2aNNG2bdvk4+OjzZs329qxbtu2TaVKlTIdD8AzGjZsmLp27arg4OB4H+LDjAsXLsR6HRISIovFoqJFi0qSjhw5opiYGFWuXNlEPMQjMDBQ69evj7UKXpLc3d15yGTQ5s2b5ebmxvwxCWBuCSRP0dHRunPnTqwxNzc3Q2nwqBYtWqhv374aO3asKlSoYPscMHbsWL355pum46VYzF3s24kTJ9ShQwfb6zZt2mjAgAGKjo5Wzpw5DSaD9OD9+OKLL5QlS5anLtBgYUbCKConQ+nSpVO7du00efLkWOMffPCBLBaLAgMDNXToUE2YMIGiciJ7+MPKYrGoR48eSps2re1aTEyMfv31V1WoUMFUPPxt3bp1+vTTT1WnTh2NGjVKDRs2VP78+VW4cGEFBASoa9eupiOmWGvWrLEVkk+cOCEHBweVLVtWbdu2VbVq1VS+fPlY31cwy8vLS1988YXpGAD+g4cP8efMmcNDfDvy9ddf276ePn26MmTIoDlz5tgWJ16/fl19+/a1FZlh3q1bt+Kdo1y8eDHOWZJIPH379pWvr6+Cg4PVvn17tWvXTnny5DEdCwlgbgkkD1evXtXQoUP1zTffxCkoS3SHsxfjxo2T1WqVt7e37t27J0lycHDQ22+/rQ8//NBsuBSMuYt9u3nzZqwNY6lTp1a6dOl08+ZNg6nwUNasWW0b/bJmzWo4TdJF++tkKH/+/Nq6dWucM9V+++031a1bVxERETpy5Ijq1aunU6dOGUqZMvXu3VuStHLlSjVv3lzp06e3XUubNq3y5s2rzp07cxaGYS4uLtq7d6/c3NxUuHBhff311/Ly8tKJEydUrVo1nT592nTEFMvZ2VllypRRtWrVVK1aNVWsWDHW9xHsy+3bt+Xr66vw8HBZLBZ5enqqZcuWPDwHkoBevXqpevXqqlatmlxdXU3HwRMULlxY69evl6enZ6zxI0eOqGnTpjp69KihZHhU69atVaxYMY0ePVqurq4KCgqSm5ubunTpotSpU7Pz36D79+9r8+bNWrZsmbZv366qVauqY8eOatCggRwcHEzHA4Bkp1+/ftq3b5/Gjh2rjh07avbs2Tpz5ozmzZuniRMnqmnTpqYj4hE3btxQRESErFarChQowFmjdoC5i/1ycnLSsGHDYhWWJ0yYoD59+sjJyck25u3tbSIe8FywUzkZslqtOnLkSJyiclhYmKzWB2sIHBwc4m2/jBfLx8dHkpQ3b1717duXVtd2ytXVVVFRUXJzc1OBAgW0bds2eXl56ccff6SAadiJEyf4vkkiwsLC1LJlS127dk3FihWTJC1evFiTJk2Sn5+fChcubDghgCc5fvy4/Pz8dO/ePeXLl0/Vq1dXjRo1VK1aNTk7O5uOh0dcv35dUVFRcYrK0dHRrIi3I2PHjlXDhg21b98+3b59WyNHjlRYWJiuXbumzZs3m46XoqVOnVoNGjRQgwYNFB0drVWrVmnChAkaPHiwQkNDlTlzZtMRU7RnbYPLwl8g6di6dasWLFigypUrK3Xq1PLy8lKLFi2UK1cuffXVVxSV7UzGjBltn+lhH5i72C9XV1ctX7481liOHDm0evVq22uLxUJR2c75+fnR5v8JKConQ23btlXfvn11/PhxlS5dWhaLRfv27dNnn32mdu3aSZJ27dpFOzyDhg0bZjoCnqBRo0YKDAxU+fLl1bNnT3Xr1k2LFy/W2bNn1a9fP9PxUjQKyknHsGHDVKJECX3++efKkiWLJOnatWvq0aOHhg8frrVr1xpOCOBJNm/erJs3byokJERBQUHauXOnVqxYofv37+uVV16xdYxo0qSJ6agpXuPGjdWnTx+NGzdO5cqVkyT99NNPGjNmjBo1amQ4HR7y9PRUcHCwvvzyS6VLl063b99Ws2bN1L17d+XKlct0PPztxo0bunr1qq5fv65MmTKxENsO/PXXX3Jzc1ObNm3k7u5uOg6A5+Dq1au2BSNZsmTRpUuXVKBAAZUvX55nLoZx3mjSw9zFvhw6dMh0BDyDe/fu6dixY3JwcJCHh4dtfOPGjfroo4/022+/UVR+AtpfJ0P379/XzJkz9fnnnys6OlqSlDNnTvXs2VN9+/ZV6tSpdfr0aaVKlYozFxJR5cqVn/ne4ODgF5gE/9SPP/6oPXv2yMPDQ2+88YbpOECS4OLiou3bt6tIkSKxxg8fPqy6devqzJkzhpIB+LeuX7+ukJAQbd++XcuWLdNff/3FmXd24ObNmxo5cqSWLVumu3fvSpLSpEmjjh07avz48bQoBJ7i5s2bWrdunZYuXarQ0FA1atRIHTp0UI0aNUxHg6QtW7Zo2bJl2rx5sypWrKgOHTqoSZMmHKcCJGFVqlTR5MmTVa1aNTVv3lyenp766KOPNGfOHM2dO1eHDx82HTHF6t27t6ZMmaKXXnrJdoRfQh52Y0TiY+4C/HthYWFq3bq1rctNgwYN9Omnn+rtt9/WgQMH1KlTJ/Xs2ZNjwJ6AonIyd+3aNUmy7RKDOZMnT37me9nJDCCpc3d316pVq1SpUqVY4yEhIWrXrp0iIiIMJQPwT8XExCg0NFQ7d+5UUFCQQkJClDlzZlWpUkVffvml6Xj42/Xr12Odd0d3D/NCQ0Of+V4vL68XlgMJ69+/v9atW6cCBQqoY8eOevPNN+Xo6Gg6FuJx6dIlrVq1SsuWLdOZM2fUsmVLdezYUaVKlTIdDcA/NGfOHKVOnVo9e/ZUYGCg2rRpo7t37yomJkaTJ09Wjx49TEcE7BZzF+C/adOmjW7cuKHevXtr9erVWrt2rTw8PNSyZUv17t1bL730kumIdo+iMgD87Vkf/PHQD3i6nj17av/+/ZoxY4bKly8vSdq7d68GDhyoMmXKsKoZsHMHDhzQzp07tXPnzlhF5CpVqqhq1aqxWkQBiJ+Tk5MsFous1id/5LZYLOz6N8TJyUmurq4qWrToE9tF0uLTvvz888/68MMPtWvXLh0/fpyH6UASd/r0ae3fv18FCxbk7F7gKZi7AP/NK6+8Il9fX3l5eenKlSvKnz+/ZsyYoU6dOpmOlmRwpnIydPnyZY0fP16BgYE6f/58nIcYD7f2A4itVq1atglZQg//eOgHPJvJkyerV69eql+/vlKnTi3pwW7H+vXra9KkSYbTAXiamjVrys3NTd7e3po0aZIKFChgOhIS0KhRo3gfKFksFqVPn1758+dX27ZtWRRnwIEDB0xHwFO0adOGsweTkOvXr8vPz0/Lli3T4cOH1bp1a1r8A0lITEyMZs+erU2bNunu3buqWbOmhgwZIjc3N9sZy7Aft27d0rx582zPl2NiYmJd5+g+M5i7AP/N+fPnlTt3bkmSo6OjMmbM+I+OLQU7lZOl9u3b6+DBg+rSpYty5coV5xdNu3btDCWDq6trvL/4s2TJIg8PD/Xr10+vvfaagWSQHpw9niNHDrVv317NmzdXhgwZ4r0vb968iZwMkjRkyJBnvnfq1KkvMAn+id9//11Hjx6V1WqVp6cnhSkgifD29tauXbt05swZlS1bVlWrVlW1atVUoUIFzrG0M4MHD9bq1auVK1culS5dWpK0f/9+RUdHq2HDhjp8+LAOHz4sPz8/zlkDkCQFBwdr6dKl8vf3V5EiRdSxY0e1aNGC9oRAEjN9+nRNmDBBNWrUUPr06bV9+3a1adNGM2bMMB0N8ejTp482btyoZs2axft8maP7gNimTJmivn37KmPGjDp9+nSCdQCYlTVrVh09elTZs2eXJLm5uWnnzp1yd3c3GywJoaicDLm5uWndunUqV66c6Sh4zIoVK+Idv3r1qkJDQ7Vu3TotXrxY9evXT+RkkKQrV65o9erVWrp0qU6cOKHmzZurU6dOKlu2rOlo0IOdWM/CYrFow4YNLzgN/om//vpLkpQ5c2bDSQD8U5GRkbY22EFBQTp37pzKlCmjqlWrqmrVqqpevbrpiCneiBEjbGcQPuqDDz6QxWLRhAkTNHToUO3bt09btmwxlBKSFBUVpS+//FLh4eGSHrRe69atm1xcXAwnA+xXuXLldPXqVbVu3VodO3ZU4cKFTUcC8C+VK1dOPXv2VPfu3SVJW7duVfv27RUVFUXhxQ65u7tr0aJFqlmzpukoQJKQLVs2hYWFydnZWVmzZlV4eLicnZ1Nx8JjnJyclClTJtvvnb/++ivW64fo9pswisrJUOnSpbVixQoVKVLEdBT8Q3PmzNE333zDAz87cODAAS1btkxr1qxRzpw51bFjR/Xq1UupUqUyHQ1IMnx8fOTj46MzZ85IklxcXNS7d2/17t2bhwZAEnXy5EktXbpUX3zxha5fv66LFy+ajpTi5c+fX1u3blXBggVjjf/222+qW7euIiIidOTIEdWrV0+nTp0ylBIBAQFq166d8uTJY1uwuG/fPkVGRmr58uWqXbu24YSAfXJyclL69OmVOnXqJ84fefAH2L+cOXPqp59+srW6tlqtypkzp0JDQ22tSGE/ihYtqvXr16tQoUKmowBJQvHixTVgwAC9/vrrKlWqlAICApQtW7Z476XlvzkJbfp7HN1+E0ZRORlau3at1q1bp7lz57IrLIn57bff9Nprr+nkyZOmo+Bv586dU7du3bRr1y79/vvvcnJyMh0JSBJGjx6tRYsWqV+/fipfvrwk6ccff9SsWbPUuXNnjRs3znBCAM/qjz/+iLVb+dSpU8qQIYPKly+v9evXm46X4rm7u2v27NlxOnps3LhR3t7eOnHiBHNMO1ChQgXVrFlTU6ZMiVUYGzp0qAICArR3716D6QD7xYM/IPlwcnLSsWPHbC1HpQfHxAUFBdF21A7NmzdPYWFhmj59OhssgGewaNEivf/++7p//36C91itVlksFl26dCkRkwHPVxrTAfD8ffzxxzp16pQKFSokNzc3pUkT+20ODg42lAxPc+vWLaVPn950DEjasWOHli1bpk2bNqlkyZKaNWuWHB0dTcdK0YYMGaIxY8YoU6ZMTz1fmTOVzVuyZIlmzZqlpk2b2sZq1KihQoUKacCAARSVATu3Zs0aWyH5xIkTcnBwUNmyZdW2bVtVq1ZN5cuXV9q0aU3HhKS2bduqb9++On78uEqXLi2LxaJ9+/bps88+sxVZdu3apaJFixpOmrKdOnVKPXr0iLPT8p133tGSJUsMpQLsH8ViIHkZO3asMmTIYHt9584dTZ48WVmyZLGN8XnePgQEBCgkJERbt26Vp6dnnOfLq1atMpQMsE9dunRRs2bNdOrUKdWoUUN+fn7KmjWr6VjAc0dRORlq0qSJ6Qj4l5YsWaISJUqYjpFi/fHHH1q+fLlWrFih27dvq3Xr1goMDJSHh4fpaJD066+/6u7du7avE0JbZftRrFixeMdiYmIMpAHwT/Tq1UtlypRRixYtVK1aNVWsWJGFb3ZqwoQJypEjh3x8fBQdHS3pQXvJfv36qW/fvpKk2rVrq06dOiZjpnilS5fW4cOH48wrDx8+rJIlSxpKBQBA4qlcubIiIiJijVWoUEGRkZG213yetx/ZsmWL0wkHwJM5OjrK0dFRc+bMUZUqVZQuXTrTkYDnjvbXQCJKaHfltWvXdPDgQZ04cULffvutvLy8EjcYJEnZs2eXi4uL2rVrp9dff12pU6eO9z7eH+Dphg0bJqvVqilTpsQaHz58uO7fv8/qc8DOXb9+XZkyZTIdA//QtWvXJCnWbh+YExoaavv6t99+04cffqhu3bqpXLlykqSffvpJX375pT788EO1bNnSUEo8dPjwYS1atEgRERGaPXu2cuXKpY0bN8rNzU2lSpUyHQ8AACAW5i72LzAwUOHh4bJYLCpcuLCqV69uOhLwn1FUTqZu3bqlzZs3KyIiQl26dJGjo6MiIiLk6OjImbAGJbTC76WXXlKhQoX09ttvc46MQY9+bzxcHWu1xv4RybkX9mHTpk164403Eiz8w7xBgwZpzZo1ypkzp+3h+c8//6yoqCi1atUq1ntHgRkAkBw5OTnJYrHEmU8+jvmledu3b1fbtm1Vp04dbdmyRXv37pW7u7tmzZqlkJCQZz7XFwAAIDEwd7FvZ86cUYcOHRQaGioXFxdJ0tmzZ1W6dGktW7bMNgYkRRSVk6Hjx4+radOmun79uq5evaqff/5Z7u7uGjlypK5evapZs2aZjgjYpVOnTj3TfXnz5n3BSfA0Li4uypAhg5o1a6bWrVurYsWKpiPhMc/aJstisWjDhg0vOA0AJF+XL1/W+PHjFRgYqPPnz8cpYJ4+fdpQMjzr3FJifmnaa6+9prZt26p79+5ydXVVUFCQ3N3dFRoaqjZt2igsLMx0RAAAXrjKlSvr22+/laOjoypXrvzEe4ODgxMpFeLD3MW+dezYUVFRUZo/f75tA9mJEyfUo0cP5cqVS0uWLDEbEFq5cqVatGgRp0X5nTt35Ofnp7Zt2xpKZv84UzkZGj58uGrXrq3p06crX758tvH69eurT58+BpMB9o2HeUnH0aNHtX79eq1Zs0YNGjSQq6urWrVqpdatW6tQoUKm40HSxo0bTUcAgBTB29tbBw8eVJcuXZQrVy7OIrQjzC2TjrCwMNWtWzfOuKOjoy5fvmwgEQAAia9JkyZKmzatJKlx48bMK+0Ycxf79r///U8bNmyI1ZHU3d1dU6ZMUdOmTc0Fg02fPn1Up04dOTs7xxr/66+/1KdPH4rKT0BRORnas2ePtm7dGqctrKurq6KiogylAoDn56WXXlKHDh3UoUMHRUVFac2aNVqzZo2mT58uLy8vbd++3XREAAASxY4dO7Ru3TrbUQOwH/7+/qpfv74cHBzk7+//xHubNGmSSKkQH0dHR509ezbWomxJOnDggHLnzm0oFR63YMECLViwQCdPnlRISIjc3d316aefyt3dXc2bNzcdDwCSvGHDhtm+Hj58uMEkeBrmLkkTCzXsh9Vqjff9OH36tLJkyWIgUdJBUTmZunv3bpyxyMhIviEAJDu5cuVSjx495Obmpo8//lihoaGmI6VYjRo1euYJMi2vgaThzp07iomJUfr06WON37p1S6lSpbLtZIA52bNnV6ZMmUzHQDw6d+6so0ePytnZWZ07d07wPs5UNq9ly5YaPXq0vvrqK1ksFt27d09BQUEaNWqU2rdvbzoeJPn4+GjmzJnq37+/xo4daxt3cXHRF198QVEZAJ6TNm3aPPUei8WilStXJkIaJIS5i32rXr26hg0bpgULFsjV1VXSg2Ll8OHDVb16dcPpUraHrf0tFosaNmwYa2NmTEyMTp8+HW8XAPw/isrJUO3atTVnzhzNnj3bNnbt2jVNmjRJr7/+usFkAPB87dixQ6tXr7bt/mnUqJEmTpxoOFXKVaRIEdvXMTExWr16tXLkyKGyZctKkvbt26fo6Gi99dZbpiIC+Ic6d+6sKlWqyNvbO9b4woULFRQUpBUrVhhKhodGjRqljz76SHPnzlXmzJlNx8EjHm09SBtC+zZy5Ej17t1bJUqUkNVqVcWKFWW1WtWyZUu99957puNB0ldffaUZM2aoXr16seb7pUqV4txIAHiONm/eLDc3N1WtWtV0FDwBcxf7NmXKFLVr105eXl62I4rOnj2rYsWKacGCBabjpWgPO0QdOXJEr7/+eqwF2mnTplXevHnpIvUUlitXrlhNh8DzdfbsWTVu3FjSgwPgS5YsqePHjytHjhz69ttvlT17dsMJU6bGjRtr6dKlcnR0TPAgeADPZtSoUVq7dq3Onz+v2rVrq3Xr1mrQoAHfU3Zk+PDhun//vqZMmRJr9/KwYcNktVo1ZcoUg+kAPKsCBQpo48aNKlq0aKzxI0eOqHHjxvrtt98MJcNDlStX1qlTp3T//n25ubkpTZrY64aDg4MNJQOSnoiICB08eFAxMTEqWbKkChYsaDoS/pYrVy7t3btXefPmlaurq4KCguTu7q7ffvtN1apV09mzZ01HBPAPNG7cWG5ubvLx8bGN9ezZU2fOnHnqkRF4sUaPHi1fX1+lT59e7du3V7t27ZQnTx7TsZAA5i72LSAgQEePHpXVapWnp6dq1qxpOhL+tmLFCrVo0SJOVzY8HTuVkyEXFxft3LlTa9assf1S6dKli1q1aqUMGTKYjpdi7dmzRzdv3pSjo2OCB8EDeDZ79uzRwIED9eabb8rJycl0HMRj1apV2rJlS5x22N27d1edOnUoKgNJxM2bN+MUKSUpVapU+uuvvwwkwuNYRW2//klbyLZt277AJHhW+fPnV/78+U3HQDzc3d114MAB5c2bN9b4Dz/8oMKFCxtKBeDfiomJkdUae5+T1WpVTEyMoUR4aNy4cRozZow2b96sZcuW6ZNPPlHVqlXVsWNHNWjQQA4ODqYj4hHMXexbrVq1VKtWLdMxEI927drZvr5y5Uqc30k8b04YO5WToYsXLypbtmymY+AxVapUUcmSJVWtWjX16dNHU6ZM0UsvvRTvvTxUMuvWrVuaN2+eAgMDdf78+TgfatjxAzydu7u7ZsyYoaZNm8YaX79+vfr3768TJ06YCQbgH6lTp45q166tESNGxBqfMGGCtm3bpoCAAEPJAPv38Py0h+7cuaO7d+8qVapUkh48UHdwcFC6dOl0+vRpExFTtCFDhjzzvVOnTn2BSfAsli1bpokTJ2rs2LEaOHCgPv30Ux0/flwzZ87U7Nmz1aJFC9MRASBZio6O1qpVq7Rs2TJdvnxZoaGhHLliCHMX4Pk5deqUBg0apJ07d+ru3bu2cavVKovFokuXLhlMZ9/YqZwMeXp6qnbt2mrTpo3q16/PFn47MX36dA0bNkzffvutLBaLxo4dG2cHn/TgkHiKymYNHjxYGzduVLNmzVShQoV43yckPn9/f9WvX18ODg5PbYfFri3zOnTooH79+un48eMqV66cJOmnn37SjBkz1L59e8PpADyr999/X+3bt1dERISqVasm6cF59t98842WLVtmOB1g3yIjI21fb968WZMnT9akSZNi/V784IMP9P7775uKmKL9+uuvz3QfnwXsQ4cOHXT//n2NGzdON27c0LvvvqvcuXNr8uTJFJQB4AW6ceOGrl69quvXrytTpkz8XjSIuQvw/PTp00dXr17V7Nmzbede49mwUzkZ2r59u1avXq1NmzZJkho1aqTWrVurevXqfHPYCScnJx09epT213bK3d1dixYt4pwLO/Po982TWpCwmsw+xMTEaNasWZo3b56ioqIkPTgLr2fPnvL29lbq1KkNJwTwrLZu3aqPP/5YBw8elCSVLFlSgwcPVt26dQ0nS7nc3NwUGhqqbNmyydXV9YlzfHbA2ocKFSpo9uzZqlChQqzxvXv3qnfv3vrpp58MJQOSnosXLyomJobP00AStW7dOr388suqXbu2JGnKlClavHixPD095ePjo1y5chlOiJs3b2rdunVaunSpQkND1ahRI3Xo0EE1atQwHQ0Anos8efJoy5YtKlq0qOkoSQ5F5WTs1q1b+vbbb7V69Wpt27ZN2bNnV8uWLTVu3DjT0VK8U6dOyc3NjSK/nSpatKjWr1+vQoUKmY4CJAvXrl2TJGXJksVwEgBIHlasWKE333xT6dKl04oVK55476NnRcGcXLlyaevWrSpevHis8UOHDqlu3bq2BVgw7+F58bT2BIAXo2LFipo0aZJq166t0NBQ1atXTyNGjNDWrVuVM2dOLViwwHTEFK1///5at26dChQooI4dO+rNN9+Uo6Oj6Vh4AuYuwD9XuXJl+fj4yMvLy3SUJIeicgoRHh6u7t276/Dhw+zgsxPnzp3T/PnzFR4eLovFosKFC6t79+7KkSOH6Wgp3rx58xQWFqbp06fbzrwDAACwJzExMU+dp0RERCh//vyJlAhP0rBhQ0nS/PnzlTt3bknSmTNn9O6778pqtWrjxo0m40GSj4+PfHx8dObMGUmSi4uLevfurd69e7MY2A5cvnxZ48ePV2BgoM6fPy+rNfajLLoyAElH7ty5tXv3buXNm1cTJkzQ8ePHtXDhQh08eFBvvvmmjh07Zjpiiubk5CRXV1cVLVr0ib//Vq1alYipEB/mLvbt1q1b2rx5syIiItSlSxc5OjoqIiJCjo6OT+zAiMQRGBiozz77TJ988okKFChgOk6SwpnKydj169e1ceNGrV69WoGBgXJ1ddV7771nOhYk7d69Wy1btpSzs7PKly8vSVq9erXmzp0rPz+/OG3xkLgCAgIUEhKirVu3ytPTU2nSxP5RycTZnL1792ro0KFav359nF2vV69eVfPmzTVt2jSVLVvWUEI8atmyZfLz81NkZKTu3LkT69qBAwcMpQLwNLRWThr69u2rOXPmJHj9xIkTaty4sX755ZdETIWEzJ49W+3bt1fJkiXl4uIiSTp79qwKFSqk5cuXG06H0aNHa9GiRerXr5/t89mPP/6oqVOnKjo6mm5fdsDb21sHDx5Uly5dOPcOSOLSpUtn21m5Y8cOdejQQdKDzlYPx2FOmzZt+BmbBDB3sW/Hjx9Xs2bN9Ndff+nq1atq1qyZHB0d9eWXX+rq1auaNWuW6Ygp0uPPN27duqVy5copXbp0cZ7/86wjYexUToY2b96s1atX67vvvlP69OnVrFkzvfXWW6pYsaLpaPhb3bp1VbRoUX366ae2HSYxMTEaOHCgjhw5oh9++MFwwpStd+/eT7zu4+OTSEnwuM6dO8vLy0sDBw6M9/qMGTO0f/9+LVq0KHGDIY6ZM2dq+vTp6tq1q3x8fNStWzcdP35cwcHB6tu3r95//33TEQEk4NHWysuXL3/iQyVaK5tTsGBBtW/fPt4HRidPnlTDhg1VqFAhrVu3zkA6xMdqtSogIEBHjx6V1WqVp6enatasyYNbO+Du7q4ZM2aoadOmscbXr1+vAQMGKCIiwlAyPOTm5qZ169apXLlypqMA+I/atWunW7duqVKlSpo2bZoOHjwoFxcXbdu2TUOHDtVPP/1kOiJg95i72LfWrVsrV65cmj59uvLly6egoCC5u7tr165d6tOnj0JDQ01HTJGednTUo3jWkTB2KidDXbp0Ub169TR//ny9/vrrcVZZwLxDhw7Jx8cnVsvCVKlSqU+fPqpevbrBZJAoGtuz0NBQDR06NMHrdevW5fwlO7F48WLbB5z58+erR48ecnd319SpU1ntB9i5Rz88tW/f3mASPImvr6+aNWumbNmyqX///rbx06dPq3HjxnJ3d9fKlSsNJsTjLBaLateurdq1a5uOgngUK1Ys3rGYmBgDafC47NmzK1OmTKZjAHgOpk2bpkGDBmn9+vWaPn26rYPHli1b+B0J/APMXezXnj17tHXrVqVOnTrWuKurq6KiogylAoXi54PDQpOh8PBwLVq0SA0aNLAVlE+fPq2PPvpIxYsXN5wO0oOWPidPnowzfvLkSb388ssGEiE+J06c0Pfff6/NmzfrxIkTpuNAUlRUlDJmzJjg9YwZM+rcuXOJmAgJOXPmjMqUKSNJSp8+va5duyZJatmypfz9/U1GA/APXLhwQRcuXLC9Pnz4sCZMmKA1a9YYTAVJKlu2rJYuXapJkyZp2bJlkqTIyEg1btxYefLk0erVq5U+fXrDKfGoBQsWqFKlSnJxcbHNLT/99FN2k9uBNm3aaP78+XHGv/zyS7Vu3dpAIjxu1KhR+uijj2iNCyQDefLk0ddff61du3apY8eOtvHJkydr6tSpBpMBSQdzF/t39+7dOGORkZFxjvODGadPn473v8jIyFjPQBAXW1iToYc/mO7evatNmzZpyZIlCgwMlIeHB6sx7ESLFi3Ut29fjR07VhUqVJDFYtHu3bs1duxYvfnmm6bjpXjXrl1T37595e/vb9tNbrVa1aRJE82aNUsvvfSS4YQpl7Ozs44ePSp3d/d4r4eHh8vZ2TlxQyFeOXLk0MWLF+Xm5iY3Nzf9+OOPKlmypI4fP06bTyAJ6dKli1q3bq2OHTvq4sWLatCggVxcXPTFF1/o7Nmz6tu3r+mIKVrNmjU1b9489ejRQ7dv39acOXOUM2dOrV69WhkyZDAdD4/w8fHRzJkz1b9/f40dO9Y2/vD7qXnz5gbTpUxDhgyxfX3//n35+vpq+/bttvbKP//8s6KiotSqVStTEVO8ypUrx3p96tQpFSpUSG5ubnE6sgUHBydmNAD/wfTp01WtWjWVKVMmzi4+AAlj7pJ01K5dW3PmzNHs2bNtY9euXdOkSZP0+uuvG0yGh0qWLPnE55MvvfSS7bgpOgHHxv8ayVBYWJgWL15s251w9uxZrVq1SnXr1jUdDX8bN26crFarvL29de/ePUmSg4OD3n77bX344Ydmw0HDhg3T4cOHtWHDBttZ5Lt379agQYM0fPjwWBMCJK6aNWvq448/Vt26deP84o+JidEnn3yimjVrmgmHWKpXr67vvvtOXl5e6tixo0aMGKF169bp4MGDatasmel4AJ7R4cOHVb58eUkPzucqUKCAAgICtGnTJo0ePZqish1o1qyZrly5okGDBqlMmTLy8/NT5syZTcfCY7766ivNmDFD9erV08SJE23jpUqVUlhYmMFkKdevv/4a63WpUqUkyXZMR44cOZQjRw4dPXo00bPhgSZNmpiOAOAF+OGHHzR58mSlTZtWFSpUUNWqVVW1alWVLVuWIjPwBMxdko6JEyeqcePGKleunG7duqW3335bx48fV44cObRo0SLT8aAHu/pHjx6tt99+W2XLlpX0YGHGokWLNGzYMF29elUff/yxMmfOrBEjRhhOa18sV65csZoOgedjyZIlWrJkiY4ePapGjRqpTZs2qlq1qnLkyKGgoCB5enqajojH3LhxQxEREbJarSpQoMAT2/oi8eTPn1/Lly+PszJ+165d6tChgyIiIgwlw4kTJ1S9enUVKFBA/fr1U6FChSRJR48e1cyZMxUREaHAwEDlz5/fcFLExMQoJibGtppv7dq12r17tzw8PNS1a1c5ODgYTgjgWbi4uGjv3r1yc3NTp06dVLx4cQ0ZMkSRkZEqV64c50EZ9Pg85ffff1euXLninDnK7j37kCtXLu3du1d58+aVq6urgoKC5O7urt9++03VqlXT2bNnTUcEACDR3Lx5U7t379auXbsUFBSk/fv3y8HBQRUrVpSfn5/peADwn928eVNr1qzRwYMHFRMTo1KlSqlVq1Z0lLITDRs21LvvvhtnEaO/v7/mzZunb7/9VmvWrNGkSZP0888/G0ppn9ipnIwMHDhQAwcO1MaNGzk/LYnImDGjihUrZjoGHnPr1i1lzZo1zriTk5Nu375tIBEecnd31/r169W7d29169bNtlvZarXK09NT33zzDQVlO5EqVSpb+3jpQdv/Fi1aGEwE4N8oUKCANmzYoCZNmiggIED9+vWTJJ0/f14vv/yy4XQpGzv4khZ3d3cdOHBAefPmjTX+ww8/qHDhwoZSAUlHqVKlFBAQEOdz2pUrV1SjRg0dOHDAUDIA/0aGDBlUq1YtFS1aVJ6envrhhx+0du1aFsMBSLIenatMmTJFffv2jXVuPOzLzz//HG9dpmjRotq/f78kqXz58jpz5kxiR7N7FJWTkW7dumnhwoXatm2bWrdurZYtWyp79uymYwFJTsWKFTVx4kR9/vnntt3j169f16RJk1ShQgXD6VC6dGmFhITo4MGDOn78uKxWqwoWLKiSJUuajobHHD58WIsWLVJERIRmz56tXLlyaePGjXJzc7O1aQJg34YOHaru3btr5MiRqlGjhu28rm3btvFz17Bhw4aZjoB/wNvbW0OGDNHNmzdltVq1d+9erVq1SjNnzuRoFTuxY8cO+fn5KTIyUnfu3Il1bcOGDYZS4aFTp07p/v37ccbv3LnDwz4gifnmm2+0c+dO7dy5U5GRkSpTpoyqVKmidevW8cwF+AeYu9iX6Oho3bhxw1ZUfvvtt+lKasfc3Ny0aNEijR8/Ptb44sWL5erqKkm6ePGinJycTMSzaxSVk5GpU6dqwoQJ8vf319KlSzVmzBjVqFFDVqtVd+/eNR0PSDImTpyoVq1aqUiRIipWrJgsFot++eUXZcqUiTZMdqRkyZIUNOzY9u3b1bZtW9WpU0c7duzQrVu3JEkRERFasWKFVqxYYTghgGfRpEkT/fLLLzp79qxKlChhG69ZsyY7ZYF/oEOHDrp//77GjRunGzdu6N1331Xu3Lk1efJkOnnYgeXLl2vQoEFq1KiRgoKC1KBBA/322286efKkWrdubTpeiubv72/7evPmzcqSJYvtdUxMjAIDA5UvXz4T0QD8S127dlX27Nnl7e2td955h6IL8C8wd7E/JUuWlLe3typVqiSr1apZs2bFOZrooaFDhyZyOjxuwoQJ6tSpk7Zs2aLSpUvLYrFo//79ioiI0JIlSyRJ+/btU7NmzcwGtUOcqZyMnThxQsuWLdPKlSt1+fJl1alTR82aNeOhBfAMbt68KV9fXx09etTWWplzL4Bn99prr6lt27bq3r17rLMjQ0ND1aZNG4WFhZmOCOBfOn78uHLnzs1xK8AzunfvnhYtWqSGDRvKxcVFFy9eVExMjJydnU1Hw99effVV9erVS506dYo1b3n//feVKVMmffjhh6YjplgPd4dYLBZZrbEfXzk4OChv3ryaMGGC3njjDRPxAPwLixcv1q5du7Rr1y79+eefevXVV1W1alVVq1ZNpUqVsh1zBSBhzF3sz7FjxzRhwgQdP35chw8floeHh9KkiX9PJ63+7cPp06e1cOFCHTt2TFarVYULF1bXrl3l5uZmOppdo6icAsTExGjLli1asmSJtmzZonPnzpmOBNitu3fvqlixYlq/fr2KFCliOg6QZOXJk0fBwcHKly9frA84J06cUMWKFRUdHW06IoBnMG7cOHl4eKhdu3ayWq1q3ry5AgMDlSVLFvn5+dnaYQN4sty5c2v37t1xzlSGfXBxcdHu3buVL18+FShQQP7+/ipevLiOHj2qRo0a6ejRo6YjpnglS5ZUQECAsmXLZjoKgOfo+PHjCgoKUkBAgDZu3KhMmTLpxIkTpmMBdo+5i31zcnLS0aNHWUSKZIn21ylAqlSpVK9ePdWrV0/nz583HQd/46xR++Tg4CAHBwdWxgL/kaOjo86ePRunHeGBAweUO3duQ6kA/FO+vr766quvJElbtmzRoUOHtHXrVvn6+urDDz/Uxo0bDScEkoZy5copNDSUorKdypo1q/766y9JDx7SHjlyRMWLF9elS5dsR3jArIMHD5qOAOA5iomJ0b59+xQUFKQdO3Zoz549kqRChQoZTgYkDcxd7Nvly5dNR0A8QkNDVbJkSaVKlUqhoaFPvNfLyytRMiVFFJVTGFbH2AfOGrVvPXr00PTp0+Xj45NgmxIAT9ayZUuNHj1aX331lSwWi+7du6egoCCNGjVK7du3Nx0PwDM6f/68bSHIli1b1Lx5c5UtW1ZOTk6qWbOm2XBAEtK5c2eNGjVKkZGR8vLyinN+JA8tzHr11Ve1fft2FStWTM2bN9fQoUMVEBCgHTt28LMOAJ6zVq1aac+ePbp586ZKlSqlqlWrqnfv3nr11VcTPH8UQGzMXeyPv7+/6tevLwcHB/n7+z/x3iZNmiRSKjyqVq1ath3ktWrVivd4FenBsSuXLl0ykDBpoP01YABnjdq31q1bKzg4WOnTp1eRIkXiPPRbtWqVoWRA0nH37l317t1bfn5+slqtSpUqlaxWq1q2bKm5c+cqderUpiMCeAZFihTRV199pUqVKqls2bIaPXq0mjZtqqNHj6pOnTo6deqU6YiQFBkZqZCQEJ0/f14xMTGxrnl7extKhUc9PBc2Pjy0MO/y5cu6deuWXFxcFBMTo5kzZ2r37t3y8PDQe++9J0dHR9MRASDZ+PDDD1W1alWKyMB/wNzF/jza8pq5v306deqU3NzcZLFYnvosgw5TCaOoDBjAWaP2rXfv3k+87uPjk0hJ8CSNGzeWm5tbrPejZ8+eOnPmzFNXBCLxRERE6ODBg4qJiVHJkiVVsGBB05EA/ANDhgzRt99+Kw8PDx08eFCHDh1SpkyZ5Ofnp5kzZyowMNB0xBTP19dX3t7eSpMmjbJlyxbrCA+LxaIDBw4YTIeHeGgBAAAAAEjq6OsKGMBZo/aNonHSEBMTE6dFidVqjbNDC2blz59f+fPnNx0DwL/00Ucfyc3NTZGRkRo7dqxtN0lUVJS6detmOB2kB++Rt7e3PvjgA7pA2DGKxvbtm2++kYODgxo2bBhr/Ntvv9Xdu3fVtGlTQ8lStilTpqhv377KmDGjTp8+LVdX11gLZwAkXZs3b9Znn32m8PBwWSwWFS5cWAMGDNDrr79uOhqQJDB3SZqioqLk4+OjcePGmY4CSTdu3NChQ4fi7fhFi/KEsVM5Gdu/f78iIiJUr149ZcqUSdevX1e6dOk4I9YOjBkzRiEhIbZ2kgEBAYqKilLv3r3Vvn17DR061HREAPjXbt68qRkzZsjf318nT56UxWJRvnz51KxZM3l7eytDhgymIwJAspEnTx7t2rVL7u7upqPgCcaPH688efLo7bffjjW+cOFCnTlzRiNHjjSUDJJUqVIlTZw4Ua+99lqs8f/9738aPny4QkJCDCVL2bJly6awsDA5Ozsra9asCg8Pl7Ozs+lYAP6jJUuWaPDgwWrVqpUqVaokSQoJCZGfn58++eQTdezY0XBCwP4xd0maDh06pBo1atD+2g7873//U7du3eJ9L2hR/mQUlZOhc+fOqW3bttq3b58sFov27dsnd3d3DRgwQOnSpdOUKVNMR0zxOGvUPrVp0+aZ7uNMZSBh9+7dU/369XXgwAG99tpr8vT0lNVqVVhYmLZt26YyZcpo06ZNLHACkpizZ88qMjJSd+7ciTVepUoVQ4nwUJcuXdSoUSO1bNnSdBQ8QfHixbVo0SKVK1cu1vi+ffvUqVMn/fLLL4aSQZJy5cqlPXv2xOkkdfLkSVWqVElnz541lCxlK168uG3nYqlSpRQQEKBs2bLFe6+bm1sipwPwb5UpU0Y9e/ZUjx49Yo1//vnn+uKLL/Tzzz8bSgYkHcxdkiaKyvajUqVKKl26tEaPHi0XFxfTcZIUnugmQyNGjFCOHDkUERGh4sWL28abNWumIUOGGEyGhxwcHDR//nyNGDGCs0btSNasWU1HwD9w7949/fzzz/EWOdq2bWsoFRYtWqTjx48rMDBQRYoUiXXt119/VePGjbVo0SJ1797dUEIA/8TZs2fVrVs3hYSEyGKxyGq1xmo9yodh82rVqqUPP/xQYWFhKlq0aJxFO7Ttsg/nz59X9uzZ44xnzZpV58+fN5AIj3J0dNTx48fjPJj9/ffflTlzZkOp8N577+n999/XkCFDZLFYVLt27Tj3PPy9xO8jIOmIjIxUnTp14ozXrVtXo0aNMpAISHqYuwD/zalTp7Ry5UoKyv8CReVkKDAwUOvXr5ejo2OscXd3d0VGRpoJhXhx1qh94SzlpOPo0aNq06aNTp48KavVqtSpU+vevXtycHBQunTpKCobtH79eg0ePDhOQVmSihYtqoEDB2r9+vUUlYEkYvjw4UqTJo327Nmj2rVra82aNTp37pwmTZqkjz76yHQ8SBowYIAk6ZNPPolzjUKL/XB1dVVwcHCcNuW7du1S7ty5zYSCTYMGDTRixAgtXbpUHh4ekqRjx47pgw8+iHNWIRJPly5d1KxZM506dUo1atSQn58fC4GBZMDV1VUBAQEqUKBArPHt27fTdQB4RsxdgP+mYsWKOnbsGLWZf4GicjJ069YtpU2bNs74xYsXlS5dOgOJ8Lg+ffrEO26xWJQ+fXrlz59fLVq0YKUMkIDhw4fLy8tLO3fuVOHChbVz505dvXpVgwcP5kxCw8LCwjRp0qQEr9esWVOfffZZ4gUC8J/s2rVLvr6+euWVV2SxWJQ9e3ZVqlRJ6dKl08SJE1WrVi3TEVO8y5cvm46AZ9ClSxeNGDFCd+/eVfXq1SU9WAw8duxY28IAmDN27Fi1bNlSFStWVK5cuSRJUVFRKlu2rMaNG2c4Xcrm6OgoR0dHzZkzR1WqVOGZBpAM9O3bV0OGDNGBAwdUoUIFWSwW7d69W19//bWmTp1qOh6QJDB3sU9P6xLLgl/70bVrV40aNUpRUVHxdvzy8vIyEywJ4EzlZKh169YqVqyYRo8eLVdXVwUFBcnNzU1dunRR6tSptWjRItMRU7zWrVsrJCREqVKlsu3mO3LkiKxWq7y8vBQWFqbr16/r22+/VcmSJQ2nBexP/vz5tWnTJhUtWlR58+bVtm3bVKhQIQUFBWnIkCEKDg42HTHFcnZ21qFDh2wfah4XFRWlEiVK0OoTSCLc3NwUFBSkfPnyqUSJEvriiy/06quv6sSJE3r11Vc5qwv4B8aOHau5c+faju1ImzatevbsqQ8//NBsMNgEBATo0KFDslqtKlWqlGrUqBGr5T/MCwwMVHh4uCwWiwoXLmxbpAEgadmwYYPmzJmj8PBwSVLhwoXVt29fdlgC/xBzF/vSqFGjZ7pv48aNLzgJnsbJySnBa3T8ejJ2KidDY8eOVcOGDbVv3z7dvn1bI0eOVFhYmK5du6bNmzebjgc9OAg+c+bMmjVrljJmzChJunHjhvr376/ixYtr9erV6tmzp0aOHCl/f3/DaQH7Y7Vabd872bJl05kzZ1SoUCHlyZNHERERhtOlbPfv34+zuu9RqVKl0v379xMxEYD/olChQjp27JitqPzVV18pT548WrBgAR1V7ITVatWXX36pBQsW6OTJkwoJCZG7u7s+/fRTubu7q3nz5qYj4m9jxozRe++9p/DwcFmtVhUuXJgz7+xMrVq16MBgp86cOaMOHTooNDTU9vvn7NmzKl26tJYtW8bvJCCJady4sRo3bmw6BpDkMXexLxSLk44DBw6YjpBkUVROhjw9PRUcHKwvv/xS6dKl0+3bt9WsWTN17949wZ1jSFzz5s2Tv7+/rSgmSRkzZtTgwYPVtGlT9e/fX/3791ezZs3MhQTsWJEiRXTo0CG5u7urbNmymjFjhlKnTq0lS5ZwFoZhVqtVPXr0iPcYBkm23VkAkoaePXsqOjpa0oNWXi1bttSaNWuULl06zZ0713A6SNLcuXM1c+ZM9e/fX2PHjrWNu7i46IsvvqCobGcyZcqkMmXKmI4BSbNnz1b37t2VPn16zZ49+4n3ent7J1IqJGTo0KFKnTq19u3bZzub/MSJE+rRo4eGDh2qJUuWmA0IAMALxtwF+O8iIiKUP39+5c2bN8F7Fi5cqLfffjsRUyUttL8GDHB1ddXy5ctVo0aNWOOBgYFq3769IiMjFRERoRo1aujUqVOGUgL2a9u2bbp+/bqaNGmiEydOqHXr1jp69KiyZcumr776StWqVTMdMcXq3bv3M93n4+PzgpMAeBFu3Liho0ePys3NTdmyZTMdB5LKly+vCRMmqF69erajb9zd3XXkyBE1aNCADh524tatW5o3b54CAwN1/vx5xcTExLrO0R2Jr2TJkvrf//6nrFmzPvHIIYvFwk4GO+Dm5qYNGzbEOd9u//79atq0KZ+bATvn6ur6zC15T58+/YLTAEkTcxfgv/Py8tIPP/ygHDlyxHt90aJFeu+993ThwoVETpZ0sFM5mbpx44YOHToU7wOLJk2aGEqFhxo2bKi+fftq3LhxKl26tCwWi/bt26fRo0fbzl74+eefVbBgQcNJAfv02muv2b52d3fXnj17dPnyZTk6OnJ2jGEUi4Hk4+7duypWrJjWr1+vIkWKSHrQWeXxB/ow6/Tp07b351EODg66deuWgUSIz+DBg7Vx40Y1a9ZMFSpUYL5iBw4ePBjv10ha+F4CkoapU6eajgAkecxdgP+uYMGCatGihTZt2qSXX3451rUlS5Zo8ODB+vjjjw2lSxooKidD//vf/9StW7d4DxPnkHH78Omnn+qDDz5Qjx49dO/ePUlSmjRp1KFDB40fP16S9Morr2jGjBkmYwJ2Kzo6Wvfu3VOePHlsY05OTvrjjz/k4OCQ4GozAMCzc3BwkIODAw/s7Zy7u7sOHDgQp33XDz/8oMKFCxtKhcdt2rRJixcvVs2aNU1HAZKk6tWra9iwYVqwYIFcXV0lPVhUM3z4cFWvXt1wOgBP065dO9MRAADQsmXL1LRpU7Vp00br1q1T+vTpJUkrVqzQoEGDNHnyZHXt2tVwSvuWynQAPH/Dhg3T66+/rl9//VWXL1+O9R8FZfuQMWNGffrpp4qIiNCOHTsUGBioiIgITZ8+XZkyZZL0oKXJk1qZACnZu+++q61bt8YZ37Ztm959910DiQAgeerRo4emT59uWwQH++Pt7a0hQ4bI19dXVqtVe/fu1eTJkzVhwgT169fPdDz8LWPGjLEWw8H+bNy4UfXr11eBAgVUoEAB1a9fXxs2bDAdC3+bMmWKbty4IS8vLxUvXlwlSpRQ6dKldePGDU2ZMsV0PAAAEh1zF+Cfy5Ahg3x9fXX16lV17txZ9+/f19dff23rKvvOO++Yjmj3OFM5GcqdO7d27dql/Pnzm46Cf2jnzp1aunSpvvjiC9NRALuWN29ebdu2TYUKFYo1/ttvv6lOnTo6ceKEmWAAkMy0bt1awcHBSp8+vYoUKaKMGTPGur5q1SpDyfCoxYsXa9q0afrjjz8kPfg8MHToUHXq1MlwMjw0b948hYWFafr06UqVirXd9mbWrFkaP3682rRpo/Lly0uSfvzxR/n6+uqDDz5Q3759DSfEQwEBATp69KisVqs8PT3Z/Q8kEZypDDxfzF3sW9asWRUeHi5nZ+dY45cuXZKHhwcb/+zA2bNn9cYbb8jFxUU///yzRo0axaLsZ0T762SoYsWKOnbsGEXlJCI6OlrLly/XsmXLdPLkSVWqVMl0JMDu3b9/X7dv344zfuvWLd25c8dAIgBInrJly6bGjRubjoGn6Ny5szp37qyLFy8qJiYmzsMLmBcQEKCQkBBt3bpVnp6eSpMm9kdxFmiYNXv2bE2bNk2dO3e2jXXs2FFly5bVRx99xINZO1KrVi3VqlXLdAwA/xBnKgPPF3MX+2a1xr+P8/bt20qbNm0ip8GjQkNDbV+PGTNGvXr1UuPGjVW9evVY17y8vBI9W1JBUTmZePT/4bt27apRo0YpKipKRYsWjfPAgm8I82JiYvT9999r6dKl2rp1q+7fv6+hQ4eqS5cuypkzp+l4gN0rW7asFi5cqOnTp8caX7BggUqXLm0oFQAkPz4+PqYj4B/Ili2b6QhIQLZs2dSoUSPTMZCA69evq1q1anHGq1WrpuvXrxtIBADJC2cqA88Xcxf7NHv2bEmSxWLRwoULbcdcSg/qAcHBwXG6LiJx1apVSxaLJVbhf926dfrmm29sYxaLhd3kT0D762TCyckpzjdDfPiGMOv48eNasmSJVq5cqQwZMqh169Z66623VLFiRQUFBcnT09N0RCBJ+PHHH9WkSROVKFFC1atXl/SgffzBgwf1zTffqGLFioYTAgDw4lSuXPmZ7w0ODn6BSYDkoUePHipSpIgGDhwYa/yzzz7T4cOHNX/+fEPJAAAA4mLuYp9Kliwp6UEb/zx58sQ69iZt2rTKmzevRowYoXLlypmKmOKdOnXqme7LmzfvC06SdLFTOZk4cOCA6Qh4BhUrVlSbNm20aNEivfrqq6bjAElW+fLl9cMPP2jWrFnauHGjrFarSpUqpY8//lglSpQwHQ8Ako2nFS8pWJrRpEkT0xGAZKVAgQL69NNPtXPnTtu5hD/99JN+/PFH9enTx7brRJK8vb1NxQSAZOHOnTv6+OOP5efnp8jISN29ezfWdTbDAE/H3MU+HTx4UJLUqFEjLVu2TI6OjmYDIQ6Kxf8dO5WTkT59+mjy5Ml66aWXTEdBAipXrqzLly+rZcuWat26tYoXLy5Jyp49OzuVAQCA3Zk8eXKs1/fu3dOhQ4e0e/duvfPOOxo5cqShZEDS0KZNm2e6jzOVzXq4q+RpLBYLC7rt0N27d+Xg4GA6BoBnNGbMGK1du1aDBg3SiBEj9MEHH+jUqVNau3atPvjgA3Xt2tV0RMDuMXdJOs6dO6fs2bPH2rUMJGXsVE5GVq5cqQ8//JCish0LDg7Wvn37tHTpUjVo0ECurq62B00Wi8VwOsC+Xb58WU5OTravn+ThfQCA/2bYsGHxjs+cOVOnT59O5DRA0pM1a1bTEfAMHu4qgf2aMGFCvAuZ7ty5o06dOrEwA0hC1q1bp08//VR16tTRqFGj1LBhQ+XPn1+FCxdWQEAARWXgGTB3sW/37t3TuHHjtHDhQt28eVM///yz3N3dNWbMGLm5ual79+6mIwL/GjuVkxEnJycdPXpUzs7OpqPgGdy8eVN+fn5avny5du/erfLly6tVq1Zq3LixcuXKZToeYHeyZs2q8PBwOTs7286Rf5zVauXseABIBBEREapZs6ZOnjxpOkqKxJnKwIt3/Phx5c6dW+nTpzcdBZI8PT01YMAA9ezZ0zZ29+5ddejQQX/88YeCgoIMpgPwT7i4uGjv3r1yc3NT4cKF9fXXX8vLy0snTpxQtWrVWLgI/EvMXezHhAkT5O/vrzFjxuidd95RcHCw3N3dtX79es2YMUPbt283HRH419ipnMyw2zXpyJAhgzp06KAOHTro2LFjWrp0qaZNm6Zhw4bp4sWLpuMBdsff39+2A3nDhg2G0wBAyrZr1y5lzJjRdIwUizOVgedr3Lhx8vDwULt27WS1WtWsWTPt2LFDWbJk0Zo1a2xnFcKc1atXq0mTJsqaNaveeust3blzx1ZQ5rMBkLS4uroqKipKbm5uKlCggLZt2yYvLy/9+OOPFMOAZ8Tcxb6tWbNGs2fPVtWqVWO1vS5atKh+++03g8mA/46icjLzyiuvPPUedvDZn0KFCmncuHEaPXq0vvvuO9NxALtUtWpVSQ9ayISFhalhw4ZycXExnAoAkrfHz4O1Wq2Kjo7WwYMHNXToUEOpkFBbcgD/jq+vr7766itJ0pYtW/TLL79o69at8vX11dixY7Vx40bDCVGiRAktX75cbdq0Ubp06bR8+XKdOXNGGzZsoM08kMQ0atRIgYGBKl++vHr27Klu3bpp8eLFOnv2rPr162c6HpAkMHexbw8Xzjzu3r17un//voFEeNz333+vN954I95rn3zyiQYPHpzIiZIOisrJzGeffaaXX37ZdAz8S2nSpFHjxo1NxwDsWpo0aTR69Gi9/vrrpqMAQLL3+HEDqVKlUpEiRTR69GjVrl3bYDIAeH7Onz+v3LlzS3rwYLZ58+YqW7asnJycVLNmTbPhYFO5cmXNnz9fHTp0kKenpzZs2GDrZAQg6RgzZozt66ZNmyp37tzas2ePPDw8EnzADyA25i72zdPTU8HBwcqXL1+s8XXr1qlUqVKGUuFRPXr0kK+vrypVqhRr/OOPP9bs2bMpKj8BReVkpn79+pypDCDZK1eunEJDQ5U3b17TUQAgWZs7d67pCHgGy5Ytk5+fnyIjI3Xnzp1Y1w4cOGAoFZB0ZM2aVadPn1aePHm0fft2jR49WtKD3SQw5/FuGQ9ly5ZNmTJlUq9evWxjq1atSqxYAJ6z8uXL06oX+IeYu9i3oUOH6t1339Uff/yh+/fv65tvvtHRo0e1Zs0a+fr6mo4HSdOmTVPbtm21YcMGFS9e3DY2Z84crV271nA6+0ZRORnhPGUAKUXnzp01atQoRUZGysvLK865nl5eXmaCAUAykdCD/EelSZNGuXLlUq1atdSwYcNESIX4zJw5U9OnT1fXrl0VHBysbt266fjx4woODlbfvn1NxwOShMaNG6t79+7y8PDQ5cuXVadOHUnSoUOHlD9/fsPpUq6E2lrTKQNImnbt2vVM91WpUuUFJwGSPuYu9q1+/fr66quv9MknnyhVqlSaMmWKSpUqpVWrVrGT3E60bt1aly9f1ptvvqnvv/9eq1ev1pw5c7Ru3TqVKVPGdDy7Zrly5YrVdAg8H05OTjp69Cg7lQEke09qc2exWDg7HgD+o969ez/1npiYGJ07d07BwcHq37+/hg8fngjJ8LiyZctq9OjRatq0qVxdXRUUFCR3d3dNnTpVkZGRmjlzpumIgN27d++e5s6dq8jISLVr187WlnDOnDl66aWX1KlTJ8MJU7aYmBgdPXpUrq6uypw5s+k4AP6lh8eqWK0PHkU/+vVDfJ4Hng1zF/t19+5djR8/Xt27d6fDYhIwceJEzZ8/XxaLRevWrWOj0jOgqAwASHJOnTr1xOtM2gAg8WzatElDhw7VL7/8YjpKiuTi4qK9e/fKzc1NHh4eWrt2rUqWLKnjx4+rdu3aOnHihOmIAPCfWK1W5ciRQ3v27FGBAgVMxwHwLz1aLLZarSpVqpQ2bNgQ58zRhLoUAEBSkSdPnnjPVIZZs2fPjnd83rx5evXVV2Odd+3t7Z1YsZIc2l8DhuzatUsZM2ZU6dKlbWP79+/XjRs3aPUDPAVFYwCwH6+++ioP+Q3KkSOHLl68KDc3N7m5uenHH3+0FZU5Hgd4docPH9aiRYsUERGh2bNnK1euXNq4caPc3NxiPWBC4rNYLCpUqJAuXLjA7xsgCYuvWOzk5EQRGfiXmLvYr9q1a2vHjh3q2LGj6Sh4xBdffBHveKpUqbRnzx7t2bNH0oO5J0XlhFFUBgxp1KiRXnnlFdsPK0l699139dtvv9HqB3gGW7Zs0YIFC3TixAn5+fnJ1dVVS5YsUb58+VSjRg3T8QAgxciaNav8/f1Nx0ixqlevru+++05eXl7q2LGjRowYoXXr1ungwYNq1qyZ6XhAkrB9+3a1bdtWderU0Y4dO3Tr1i1JUkREhFasWKEVK1YYToixY8dq9OjRmjp1qkqUKMGiGQBAisbcxb7VqFFD48eP1+HDh+Xl5aWMGTPGut6kSRNDyVK2gwcPmo6QLND+GjAkKChIGTNmjHXw+759+3Tjxg1VrVrVYDLA/vn6+mrQoEHq2LGjvvrqK+3evVvu7u766quvtGHDBq1du9Z0RAAAEkVMTIxiYmKUJs2D9cJr167V7t275eHhoa5du8rBwcFwQsD+vfbaa2rbtq26d+8e62zy0NBQtWnTRmFhYaYjpniurq66deuW7eddunTpYl0/ffq0oWQA/q1Hf94C+GeYu9g3JyenBK9xdrx5d+/eVbFixbR+/XoVKVLEdJwkh53KgCHxFY4fLTADSNiMGTM0Y8YMvfnmm1q6dKltvFy5cvroo48MJgMAIHG4u7vr559/VrZs2ZQqVSp9+umn6tq1q1q0aKEWLVqYjgckKWFhYapbt26ccUdHR12+fNlAIjxu6tSppiMAAGA3mLvYN94D++bg4CAHBwc63/xLFJUBA2JiYiQ96NcvSdHR0dq8ebNeeeUVVapUyWQ0IEk4fvy4ypcvH2c8c+bM+vPPPw0kAgAgcV29etU2p5Sk6dOnq3nz5nJ0dDQXCkiiHB0ddfbsWeXLly/W+IEDB5Q7d25DqfCodu3amY4A4D+qXLlyrNc3b95Uq1at4nRVCQ4OTsxYQJLE3AX4b3r06KHp06fLx8fH1vULz4b/tQAD3nrrLb322mvq1auX/vrrL9WqVUvXr1/X9evXNWvWLLVt29Z0RMCu5cqVS7///rvy5s0ba3zXrl3Knz+/oVQAAJhjtXKqEfBvtWzZUqNHj9ZXX30li8Wie/fuKSgoSKNGjVL79u1Nx8NjoqOjdefOnVhjbm5uhtIAeFacIQo8P8xd7FufPn3k6empvn37xhqfPXu2wsPDNWvWLEPJ8FBwcLCCg4NVpEgRFSlSJM6516tWrTKUzP5RVAYMCA0N1dixYyVJGzZs0EsvvaQDBw7I19eXojLwDLp06aKhQ4dq5syZkqTIyEgFBwdrzJgxGjZsmOF0AAAASEpGjhyp3r17q0SJErJarapYsaKsVqtatmyp9957z3Q86EF3hqFDh+qbb76JU1CWxNmEQBLAZ3Xg+WHuYt+2bNmiHj16xBmvXr26Zs+ebSARHpctWzY1btzYdIwkiaIyYMBff/2ll19+WZIUEBCgRo0aycHBQdWrV9f7779vOB1g//r3769r166pefPmunXrlho3bqx06dLJ29tb77zzjul4AAAkioULFypTpkySpHv37mnp0qVycnKKdY+3t7eJaECS4uDgoPnz52vEiBE6ePCgYmJiVLJkSRUsWNB0NPxt1KhR+uWXX7R8+XJ17NhRs2fP1pkzZzRv3jxNnDjRdDwAABIVcxf7dvXqVWXOnDnOeKZMmThv2U74+PiYjpBkWa5cuUKfNCCRlStXTsOHD9cbb7yhkiVLatGiRapWrZoOHjyo5s2b6/fffzcdEUgSbty4ofDwcMXExKhw4cLxTtgAAEiOSpQoIYvF8sR7LBaLDhw4kEiJAODFKVq0qBYsWKDKlSvLzc1NgYGBKlCggNasWaNly5bpm2++MR0RAABA0oMz5Dt27KhevXrFGvfx8dHSpUsVEhJiKBnw37FTGTCgT58+evfdd5UpUya5ubmpSpUqkh708i9atKjhdEDSkTFjRpUuXdp0DAAAEt2hQ4dMRwCShZs3b2rGjBny9/fXyZMnZbFYlC9fPjVr1kze3t7KkCGD6YjQgx0/D89NzpIliy5duqQCBQqofPny6tevn+F0AAAkHuYu9s/b21uDBg3ShQsXVL16dUlSYGCg5s6dq2nTphlOh4eWLVsmPz8/RUZGxjlehcXZCaOoDBjQtWtXlS5dWqdPn1atWrWUKlUqSVL+/Pn1wQcfGE4H2L/bt29rwYIF2rlzpy5cuKCYmJhY17dv324oGQAAAJKKe/fuqUmTJjpw4IBee+011atXT1arVWFhYZo6daq2bt2qTZs2KU0aHp2Y5u7urhMnTsjNzU2vvPKK/Pz8VLZsWW3YsCFO238AAJIr5i5JQ7t27XT79m19/PHHmj59uiQpd+7cmjhxojp06GA4HSRp5syZmj59urp27arg4GB169ZNx48fV3BwsPr27Ws6nl3jpwuQyO7evas33nhD8+bNi3MYfL169QylApKWfv36afPmzWrQoIE8PT2f2v4TAAAAeNyiRYt0/PhxBQYGqkiRIrGu/frrr2rcuLEWLVqk7t27G0qIh9q1a6fDhw+rWrVqGjBggNq0aaP58+crJiZGkydPNh0PwD9w4cIFZc+e3XQMIEli7pJ0dO3aVV27dtWFCxdktVrl7OxsOhIesXjxYs2YMUNNmzbV/Pnz1aNHD7m7u2vq1Kk6ffq06Xh2jTOVAQM8PDz0/fffy8PDw3QUIEnKmzevVqxYoapVq5qOAgAAgCSqcePGql+/vnr37h3v9dmzZ2vz5s3asGFDIifD05w+fVr79+9XwYIFVaxYMdNxAPwDzs7Oql+/vjp27Kg6deqwSBz4B5i7JC379+9XRESE6tWrp0yZMun69etKly4dO8ntgIuLi/bu3Ss3Nzd5eHho7dq1KlmypI4fP67atWvrxIkTpiParVSmAwApUdu2bbV48WLTMYAky9nZWdmyZTMdAwAAAElYWFiY7Zy7+NSsWVNHjhxJxER4Vm5ubmrSpAkFZSAJ8vX1Vdq0adWpUycVK1ZMEyZMUEREhOlYQJLA3CVpOHfunF577TXVrl1b3bt31/nz5yVJH3zwAUdf2okcOXLo4sWLkh7MK3/88UdJ0vHjx1ns9BQsiQAMuHHjhlavXq2AgAB5eXkpY8aMsa5PnTrVUDIgaRg9erTGjRunuXPnytHR0XQcAAAAJEFXrlx5YgvW7Nmz6+rVq4mYCPGxWq1auXKl/P39dfLkSVksFuXLl0/NmjXTW2+9xYM/IImpVauWatWqpStXrmj16tVavny5pk+fripVqqhjx45q0qSJ0qdPbzomYJeYuyQNI0aMUI4cORQREaHixYvbxps1a6YhQ4YYTIaHqlevru+++05eXl7q2LGjRowYoXXr1ungwYNq1qyZ6Xh2jfbXgAGNGjVK8JrFYqFFCfAU165dU+fOnbVz507lzJkzTtuYAwcOGEoGAACApCJr1qw6evRogg9nz507J09PT126dCmRk+FRHTp00KZNm1S0aFF5enrKarUqLCxMR44cUaNGjbR06VLTEQH8R/Pnz9fIkSN1584dvfzyy+rSpYvee+89Zc6c2XQ0wK4wd0kaChUqpPXr16to0aJydXVVUFCQ3N3ddeLECVWuXFlnzpwxHTHFi4mJUUxMjO2Z8tq1a7V79255eHioa9eucnBwMJzQfrFTGTBg48aNpiMASVrPnj0VFhamXr16KUeOHKbjAABgVJ8+feTi4qKRI0faxsaPH6/o6GjNnj3bYDLAvlmtVvXo0UNp06aN9/qdO3cSOREe5+vrq4CAAK1du1a1atWKdW3btm3q1KmTVq9erVatWhlKCODfioqK0sqVK7V8+XKdPXtWLVq0UMeOHRUVFaXp06dr//79Wr9+vemYgF35v/buO77ne/////0dicQoGTVCIjFaI1SMogg1GkdJjESMNlSpwzGq1FGbHmpVanfgS+0VFVEtWnukrSpqBEUlaotYteL9/v3R38mn70MQkjyTuF0vF5eLPF8vze3dc3Ga5PF+Pl987ZI13Lp164H/G126dEnOzs4GivC/HBwc5ODwf08HbtmypVq2bGmwKOtgqAwYdOnSJZ04cUIVKlTgPyhAKmzatEmrVq1S1apVTacAAGDcli1bVLJkSbu1n376SSdPnjRUBGQNbdu2feQ9bdq0yYASpGTp0qV699137xsoS1KDBg3Us2dPLV26lKEykIWsWrVKCxYs0IYNG1S2bFl17dpVYWFhypcvX/I95cqVU0BAgMFKIHPia5esoWbNmlq4cKGGDh2avHbv3j1NnDhRdevWNViG//r999+1evXq5O+Zixcvrtdff12+vr5mw7IAjr8GDLh27Zp69OihVatWyWKxaPfu3fL19dV7772nggULasCAAaYTgUytWrVqmjlzpl566SXTKQAAAADSSZkyZbR48WL5+/s/8Povv/yitm3bKjY2NmPDADyxYsWKKSQkRB06dEjx7/bNmzc1adIkffDBBxkbBwBpIDY2Vk2aNFGFChW0fft2NWrUSLGxsbp69arWrl2r4sWLm058pk2ZMkUffvih7t27pwIFCshms+nixYvKkSOHhg8fru7du5tOzNQcHn0LgLQ2fPhwnT17Vps3b1auXLmS1xs1asTR2MBj+OijjzRs2DAdP37cdAoAAACAdJKQkKBChQqleL1QoUK6fPlyBhYBeFqxsbH65JNPUhwoS1KuXLkYKAPIssqUKaMdO3aoWrVqql+/vm7fvq3mzZtry5YtDJQNi4mJ0bBhw9SrVy8dO3ZMhw8f1pEjR/Tbb7+pR48eGjp0qGJiYkxnZmrsVAYMKFeunObPn6/KlSvLy8tL27Ztk6+vr06cOKGAgACdOnXKdCKQqXl5een27du6d++enJ2d5eho/zSH+Ph4Q2UAAKS/7du3P/a9tWrVSscSAEhfbm5uOnr0qJ5//vkHXj9//rzKlCmjhISEDC4DkBqpefOHm5tbOpYAAJ5l77zzjpycnDR9+vQHXu/WrZuSkpI0Y8aMDC7LOnimMmBAYmKi3N3d71u/du2a3QPiATzYuHHjTCcAAGBM06ZNZbFYZLP99f5gi8UiSfd9LIlBC4Asb8SIEXYnfP3dzZs3M7gGwJMoUaKE3dcnD2Kz2WSxWPjaBUCWdf36dd25c8fu5/6HDx/W5MmTdePGDTVt2lShoaEGC/HTTz9p6tSpKV5v166devbsmYFFWQ9DZcCASpUqac2aNfrXv/5ltz5nzhxVr17dUBWQdbRr1y7Fa9euXcvAEgAAMt6xY8eSf79r1y4NGTJEffv2VbVq1SRJP/74oyIiIjRixAhTiQCQJmrWrKkTJ0488h4AmVt0dLTpBABId3369FH+/Pk1fvx4SdKlS5fUuHFjOTg4qFChQurSpYtsNptatWpluPTZdf78efn6+qZ4vXjx4jp37lzGBWVBDJUBA4YOHaqQkBDFxsYqKSlJ06ZNU2xsrHbv3q2vv/7adB6QJe3cuVNz587VqlWr9Mcff5jOAQAg3fz9ne+jRo3SmDFjVK9eveQ1X19fFShQQEOHDlWjRo1MJAJAmuD7YyB7qF27tukEAEh3P/30kz755JPkjxcvXqycOXPqhx9+UP78+TVs2DDNmDGDobJBN2/elLOzc4rXc+bMqdu3b2dgUdbDUBkwoHr16lq7dq2mTJmi4sWLa8uWLapYsaLWrVsnPz8/03lAlnHhwgUtWrRI8+bNU1xcnOrUqaOxY8eazgIAIMMcPnxYRYoUuW/d09NTR48eNVAEAADwaGfOnNGFCxdktVrt1v39/c0EAcBTOnfunIoXL5788datWxUUFKT8+fNLktq2bav58+ebysP/b+3atcqXL98Dr125ciWDa7IehsqAIX5+fvrss89MZwBZjs1m0/r16/Xll1/qu+++U6VKlXT8+HF9//33fPMJAHjmlClTRmPHjtW0adOSnzl68+ZNjRs3TmXKlDFcBwAAYG/v3r365z//qSNHjshms9ld45nKALKyXLly6c8//0z+ePfu3WrZsmXyxy4uLrp586aJNPzNo56ZbLFYMqgka2KoDBgQHx//wHWLxSIXFxc9//zzGVwEZA0jR47UokWL5OzsrLCwMI0aNUq+vr56/vnn5eLiYjoPAIAMFxERodatW6ts2bLJJ94cPHhQOXLk0NKlSw3XAQAA2Ovdu7eKFi2qSZMmqXDhwvzwHkC2Ub58eS1YsEAjR47U1q1bdfHiRdWpUyf5+okTJ1S4cGGDhbh8+bLphCzPkpiYaHv0bQDSkpub20O/aH7uuef0xhtv6MMPP5SjI+/9AP7Lw8ND7733ngYMGKAcOXIkrz///PPatm0bO7IAAM+kP//8U0uXLk3e8VOmTBmFhoYqT548ptMAAADsFClSRFu2bFGpUqVMpwBAmtq2bZtatWolDw8PXbx4UaGhoZo6dWry9b59++rmzZuaPn26wUrg6TCtAgyYNWuWhg4dqrfffltVqlSRJP3888+aM2eOPvjgA125ckUff/yx8ubNq4EDBxquBTKPESNGaMGCBZo3b55atmypNm3aqGLFiqazAAAwKnfu3HrrrbdMZwAAADxSuXLldO7cOYbKALKd2rVra9OmTdqwYYMKFSqk5s2b212vUKGCKleubCYOSCPsVAYMaNKkif75z38qODjYbn3VqlX67LPPtGbNGi1fvlyjR4/Wzz//bKgSyLx+/PFHzZs3TytXrlTRokV19OhRffXVV3ZHygAAkF2tWrXqse/93683AQAAMtrfjxvdt2+f/vOf/2jw4MEqV66cnJyc7O51c3PL6DwAAPCYGCoDBhQuXFjbt29XyZIl7dZ/++03BQQE6MyZMzp58qRq1KihM2fOGKoEMr8bN24oMjJS8+bN065du1SxYkU1b95cvXv3Np0GAEC6edwftlosFiUkJKRzDQBkjKCgIHl7e9sdGdm1a1edPn06VW+2AZDx/vcxcDbbXz+O/t81vnYBACBz4/hrwABvb2/NmTNH//nPf+zWv/zyS3l5eUmSLl26xLszgUfIkyeP2rdvr/bt2+vQoUOaO3eupk2bxlAZAJCt/X23DwA8K6xWa/Ig6r9sNpusVquhIgCPKzo62nQCAABIA+xUBgxYu3at2rdvr+LFi6tSpUqyWCz65ZdfdOLECc2dO1eBgYGaOXOmjh8/ro8++sh0LpCl3L17977jswAAyI7u3r2rLl26aOjQoSpevLjpHAAAgEeKj4+Xl5eX3S5l6a83iZw6dUre3t6GygAAz5r/zmQaNWqkPHny6MaNG3J2dpajI/txU8JQGTDk1KlTmjVrlo4ePSqbzabSpUurY8eOfPEMAACAx+bj46PNmzfL19fXdAoAAMAjubu76/DhwypQoIDdekJCgkqVKsXx1wCAdHf+/Hm1bdtWu3fvlsVi0e7du+Xr66vevXvL2dlZY8eONZ2YaTmYDgCeVV5eXho2bJjmz5+vBQsWaOjQoQyUAQAAkCpBQUEcKQkg2/vqq6+0YcOG5I/Hjh2rcuXKqWXLljp79qzBMgCp9d9nJ/+v69evy8XFxUARAKSPX375RStWrNCNGzckSTdu3FBSUpLhKkjSwIEDVbBgQZ04cUK5c+dOXm/evLk2btxosCzzYw83YMiff/6pX3/9VRcuXLjvGVDBwcGGqgAAAJCVeHl5afz48dqxY4cqVapk9w2xJPXo0cNQGQCknTFjxmj06NGSpD179igiIkIDBw7Ud999p8GDB2vmzJmGCwE8yr///W9JksVi0YgRI5QrV67ka1arVT///LMqVKhgKg8A0syDdsHmyZNHgwYNYhdsJrF582ZFRUXJ1dXVbt3X11enTp0yE5VFMFQGDNi0aZM6der0wCN9LBYLR/0AAADgsSxcuFCurq46cOCADhw4YHfNYrEwVAaQLcTHx6tUqVKSpNWrV6tJkyZ69913Va9ePYWEhBiuA/A4Dh48KOmvncpHjhyRk5NT8rWcOXOqYsWK6tmzp6k8AEgzf98FW758+eT15s2bJ7/BBmbdunVLOXPmvG/90qVLcnZ2NlCUdTBUBgz44IMPFBgYqKFDh8rT09N0DpClJSYmymaz2a25ubkZqgEAIGPt27fPdAIApDtnZ2ddv35dkrRlyxa9+eabkqR8+fIlrwPI3FavXi1J+te//qUxY8YoX758hosAIH2wCzbzq1mzphYuXKihQ4cmr927d08TJ05U3bp1DZZlfgyVAQPi4uK0aNEiBsrAE4qLi1OfPn20detW3b17N3n9v89mYrc/AOBZdP36dVksFuXJk8d0CgCkqRo1amjw4MGqUaOGfvnlF3355ZeSpGPHjqlo0aKG6wCkxvTp000nAEC6Yhds5jdixAg1adJEu3fv1u3btzV48GDFxsbq6tWrWrt2rem8TI2hMmBA9erVdfToURUvXtx0CpAlde/eXVeuXNHUqVNVuHBhWSwW00kAABgzY8YMTZo0SadPn5YkFSlSRL1791bnzp0NlwFA2vj444/Vt29fRUVFKSIiIvkN2uvXr1f9+vUN1wFIrS1btigyMlKnTp3SnTt37K5FR0cbqgKAtMEu2MyvTJky2rFjh2bNmiVnZ2fdvn1bzZs3V+fOnVW4cGHTeZmaJTEx0fbo2wCkpVWrVmnUqFHq3r27ypUrJ0dH+/d3+Pv7mwkDsoiiRYtq/fr1KleunOkUAACMmjBhgj755BP16NFDr7zyiiRpx44dmj59uvr06aP33nvPcCEAPJ2kpCRt2LBBVapUkYeHh+kcAE9pwYIF6tOnj5o2barVq1fr9ddf12+//aaTJ0+qdevWGj9+vOlEAHgqsbGxatKkiSpUqKDt27erUaNGdrtg2WiGrIyhMmDAw573ytG9wKPVrFlT06dP5w0YAIBnXvny5TV8+HCFhobarS9dulQffvih9u/fb6gMANJOoUKF9OOPP8rHx8d0CoCn9Morr6hbt25q3769vLy8tG3bNvn6+qpfv37KkyePhg8fbjoRAJ7auXPnNGvWLO3du1dWq1UVK1ZkF2wm8+eff+rXX3/VhQsXZLVa7a4FBwcbqsr8OP4aMGDv3r2mE4AsbfTo0RoxYoQmTJigEiVKmM4BAMCYCxcuqHLlyvetV6lSRRcuXDBQBABpr3z58jpx4gRDZSAb+P3335OPf82ZM6euX78uSXrnnXfUtGlThsoAsoVChQpp4MCBpjOQgk2bNqlTp04P3NzHpr+HY6gMGFCsWDHTCUCW9sYbb+j27duqWrWqnJ2d7ztCPj4+3lAZAAAZq2TJklq2bJn69+9vt75s2TKVKlXKUBUApK0PPvhAgwYN0oABA+Tv7688efLYXX/YaWAAMhd3d/fkQbKnp6cOHTqk8uXLKyEhQbdu3TJcBwBpg12wmdsHH3ygwMBADR06VJ6enqZzshSGyoAh69ev18yZM/X7778rMjJSXl5emjt3rnx8fJLfsQngwcaNG2c6AQCATOGDDz5Qx44dtWPHDlWvXl0Wi0UxMTHavn275syZYzoPANJEWFiYJCk8PFwWiyV53WazsZsEyGJeeeUVbdiwQX5+fmrRooX69++vjRs3asuWLXr11VdN5wHAU2MXbOYXFxenRYsWMVB+AgyVAQOWLl2qPn36KDw8XJs3b1ZSUpIk6d69e5o0aRJDZeAR2rVrZzoBAIBMITg4WN9//72mTZumtWvXymazqUyZMvr+++9VsWJF03kAkCaio6NNJwBII+PHj0/ekdynTx85OjoqJiZGzZs31/vvv2+4DgCeHrtgM7/q1avr6NGjKl68uOmULMeSmJhoMx0BPGtq1aqlPn36KCQkRF5eXtq2bZt8fX3166+/qmXLljp69KjpRCDTuXz5cvKxdpcvX37ovRx/BwDI7rp166Y6deooICBAXl5epnMAAAAAAJKKFCmi7du3M7DMZPbs2ZP8+7i4OI0aNUrdu3dXuXLl7nu0or+/f8bGZSHsVAYMOH78uF5++eX71vPmzatr164ZKAIyv5IlS+rw4cMqUKCASpQoYXfs3X9x/B0A4Flx/PhxRUZGKikpST4+PqpTp47q1q2rgIAAFShQwHQeAKS5AwcOaM6cOTpx4oSmTp2qwoULa/Xq1fL29uZkBiCLOX/+vJYsWaITJ05o0KBB8vDwUExMjAoXLixfX1/TeQDwVNgFmznVq1dPFotFNtv/7bN9991377uPny0/HENlwIDChQvr2LFjKlasmN0672ACUrZq1arkHcgcfwcAeNatXbtWN2/e1M6dO7Vt2zZt3bpVCxcu1L179/Tiiy8qICBAAQEBCg4ONp0KAE9tw4YNatu2rRo2bKgtW7YkH5174sQJLVy4UAsXLjRcCOBx7dmzR8HBwfLx8VFsbKx69eolDw8Pbdy4UceOHdPMmTNNiOIDKQAANyxJREFUJwJAqv19F2zHjh01ZMgQnT17ll2wmcjevXtNJ2QLHH8NGDBp0iQtWLBAkydPVmhoqBYvXqy4uDgNGTJEH3zwgd555x3TiQAAAMhibty4oZ07d2rDhg2aP3++rl+/zjusAWQLDRo0UNu2bdW5c2e7R0jt2bNHbdq0UWxsrOlEAI+padOmqlmzpgYOHGj39/nHH3/U22+/rf3795tOBIBUc3Nzu28X7IOwC9as7t27a8yYMXruuedMp2RZ7FQGDHj33Xd19epVtWjRQrdu3VJQUJCcnZ3Vo0cPBspAKp07d0537tyxW/P29jZUAwBAxrNardqzZ4+2bt2qbdu2aefOncqbN69ee+0102kAkCZiY2Mf+P9prq6uunz5soEiAE9q7969mjp16n3rhQoV0oULFwwUAcDTYxds1rBo0SINHz6cofJTYKgMGDJkyBD17dtXhw8fltVqVenSpZU3b17TWUCWcOXKFfXv318rV668b6AsiXf8AQCyvb1792rr1q3aunVr8hC5Vq1aatKkiUaPHq1SpUqZTgSANOPq6qozZ87Ix8fHbn3v3r0qUqSIoSoAT8LFxUWJiYn3rR89elQFChTI+CAASAPFihVjF2wW8Kid5Hg0B9MBwLPo008/1cWLF5U7d25VqlRJVapUYaAMpMKQIUO0f/9+LViwQC4uLpo5c6Y+/PBDFSlSRLNnzzadBwBAunv11Vf1xRdfqEGDBtq0aZMOHjyoGTNm6K233mKgDCDbCQ0N1dChQ/XHH3/IYrEoKSlJ27Zt05AhQ9SmTRvTeQBS4fXXX9eYMWN0+/bt5LWTJ09q2LBhCgoKMlgGAE9n0aJFunXrlukMPILFYjGdkKXxTGXAgPLly+vcuXOqW7euWrdurSZNmih37tyms4Aso1y5cpo5c6Zq1qwpb29vbd68WSVKlNDy5cs1f/58rVy50nQiAADpqkePHtq+fbtOnz6tKlWqqHbt2goICFC1atXk7OxsOg8A0tTdu3f1r3/9S5GRkbLZbHJwcJDNZlNoaKg+/fRT5ciRw3QigMd09epVhYWF6cCBA7px44YKFSqk8+fPq3r16lq2bJny5MljOhEAnoibm5uOHDnCqQuZ2H+fff0onIKZMobKgAE2m01bt27V8uXLtWrVKiUlJen1119X69atVa9ePTk4cIgA8DBFixZVTEyMvL295efnpy+//FJVq1bVyZMn9corr+j06dOmEwEAyBCnTp1KPgZ727ZtOn/+vCpXrqzatWurdu3aqlOnjulEAEgzJ06c0L59+2S1WvXSSy+pZMmSppMAPKHNmzcn/32uWLGiXn31VdNJAPBU3NzcdPToUT3//POmU5ACNzc3TZo0Sfnz53/ofc2aNcugoqyHoTJg2J07d/Ttt99q+fLlWr9+vfLnz6/Y2FjTWUCmVqtWLY0ZM0YBAQFq0aKFypQpo48++kjTpk3Tp59+qgMHDphOBADAiJMnT2revHn64osvdOPGDV26dMl0EgAAAABke+yCzfzYTf70HE0HAM+6nDlzqlq1ajp58qRiY2N19OhR00lApteuXTsdOHBAAQEB6t27t9q0aaMZM2bIarVqzJgxpvMAAMhQf/zxh91u5bi4OOXKlUu1a9c2nQYAaSY6Olpbt27VxYsXZbVa7a7NmTPHTBSAVLHZbFq0aJFWrVqlkydPymKxyMfHR82bN1dYWBjPuQSQ5U2cOPGRu2BhDv+deXrsVAYMuXr1qlatWqVly5Zp+/btKl68uEJDQ9W6dWv5+vqazgOylPj4eP3yyy8qWbKk/Pz8TOcAAJDuli9fnjxI/v333+Xk5KQqVaqoTp06CggI0Msvv6ycOXOazgSANDFo0CB98cUXql69ugoWLHjfDwRnzZplqAxAarz55pv6+uuvVa5cOZUpU0Y2m02xsbE6dOiQmjZtqnnz5plOBIAnxi7YzI//jZ4eQ2XAgPbt22v9+vXKmzevWrRoodatW6tKlSqms4AsY9GiRWrZsqWcnZ3t1u/cuaPIyEi1bdvWUBkAABmjQIECqly5sgICAhQQEKDq1avLxcXFdBYApIsSJUpoypQpatKkiekUAE9o6dKleu+99zR//nzVq1fP7tr333+v9u3ba+LEiWrVqpWhQgB4Ou7u7jp8+DADS2RrDJUBAzp37qywsDA1aNBAOXLksLu2adMmvfrqq2bCgCwipS/SEhISVKpUKZ5NAgDI9m7cuKE8efKYzgCADFG+fHl99dVXeuGFF0ynAHhCoaGhqlatmv79738/8PqYMWP0888/a9myZRlcBgBpg12weBY4mA4AnkUzZ85UYGBg8kD59OnTGj9+vF566SW1bNnScB2Q+dlstgc+AyM+Pl758uUzUAQAQMZioAzgWdK7d29NmjRJSUlJplMAPKH9+/crMDAwxeuNGjXSr7/+moFFAJC2Ll++zEAZ2Z6j6QDgWXXv3j2tWbNGc+fO1caNG+Xn56dOnTqpWbNmptOATKtmzZqSJIvFoiZNmtjt9LdarYqPj9drr71mKg8AAABAOujQoYPWrl2rsmXLqlSpUnJ0tP9xVnR0tKEyAI8rISFBhQoVSvF6oUKFdPny5QwsAgAAqcVQGchgR48e1dy5c7V48WLlzp1brVq10saNG/X555+rTJkypvOATC04OFiSdOjQIQUGBtrt0sqZM6eKFSuWfA8AAACA7OG9997Tzp071aBBAxUsWNB0DoAncPfuXTk5OaV43dHRUXfv3s3AIgAAkFo8UxnIQI0bN9bBgwfVrFkzhYWFqXbt2pKk559/Xtu2bWOoDDymhQsXqmXLlnJxcTGdAgAAACCdeXl5ad68eapXr57pFABPyM3NTW+++aZy5cr1wOs3b97UggULlJCQkMFlAADgcbFTGchAP/74ozp37qwOHTqoXLlypnOALKtdu3aSpM2bN+vw4cOSpNKlS6tu3bomswAAyHB37tyR1Wq9741Wt27dkoODg3LmzGmoDADSjru7uzw9PU1nAHgKNWvW1IkTJx55DwAAyLzYqQxkoH379mnu3LlatmyZihUrpjZt2ig0NFR+fn7sVAZS4ffff1d4eLgOHjyY/MOlM2fOqFy5cpo3b558fX3NBgIAkEHatm2rWrVqqUePHnbr06dP17Zt27Rw4UJDZQCQdhYtWqRvvvlG06dPV968eU3nAAAAAM8khsqAAbdu3dLKlSs1b948/fDDD7JarRo+fLjat28vV1dX03lAphcUFKR79+7p888/l7e3tyQpPj5e3bp1k8ViUXR0tOFCAAAyRokSJbR69er7TsE5dOiQgoKC9NtvvxkqA4C0U7NmTcXFxclqtcrLy0uOjvYH7+3YscNQGQAAAPDs4PhrwAAXFxe1adNGbdq00fHjxzV37lxNnz5dI0eOVJ06dbR8+XLTiUCm9tNPP2n9+vXJA2VJ8vb21kcffaTAwECDZQAAZKybN2/eN1yRJAcHB12/ft1AEQCkveDgYNMJAAAAwDOPoTJgWIkSJTR8+HANGTJE3377rebPn286Ccj0vLy8dOvWrfvWb9++raJFixooAgDADD8/Py1fvlwDBw60W1+2bJnKli1rqAoA0s7du3f1559/qnPnzipWrJjpHAAAAOCZxfHXAIAs59tvv9W4ceM0duxYVa5cWZK0e/duDRgwQH379lXjxo0NFwIAkDHWrl2rN954Qy1atFBAQIAkacuWLVq5cqXmz5+vf/zjH4YLAeDpeXl5afv27fLx8TGdAgAAADyzGCoDALIcLy8v3b59W/fu3ZODg4MkyWq1KkeOHHJxcbG7Nz4+3kQiAAAZ5rvvvtPHH3+sffv2SZJeeukl9e3bV6+99prhMgBIG+Hh4QoMDFR4eLjpFAAAAOCZxfHXAIAsZ9y4caYTAADINBo2bKiGDRuazgCAdFO3bl395z//0YEDB+Tv76/cuXPbXeeZy0DWcv78eS1ZskQnTpzQoEGD5OHhoZiYGBUuXFi+vr6m8wAAQArYqQwAAAAAAIBMy83NLcVrFotFCQkJGVgD4Gns2bNHwcHB8vHxUWxsrH766Sf5+vpq9OjROnbsmGbOnGk6EQAApICdygCALO3cuXO6c+eO3Zq3t7ehGgAA0p+3t7f27NkjDw8PeXl5yWKxpHgvj4EAkB1cvnzZdAKANDJ48GB17dpVAwcOlJeXV/J6gwYNtGDBAoNlAADgURgqAwCynCtXrqh///5auXLlfQNlSexUAABka2PHjlXevHmTf/+woTIAAEBmsnfvXk2dOvW+9UKFCunChQsGigAAwONiqAwAyHKGDBmi/fv3a8GCBQoPD9fUqVN1+vRpffbZZxo1apTpPAAA0lW7du2Sf//GG28YLAGAjLN27VpNnDhRhw8flsViUenSpdW7d28FBgaaTgOQCi4uLkpMTLxv/ejRoypQoEDGBwEAgMfmYDoAAIDU+u677zRu3Dg1aNBAOXLkkL+/v3r06KHhw4dr9uzZpvMAAMgwFy9e1MWLF5M/PnDggEaOHKnly5cbrAKAtDV37ly9+eabKl68uIYPH65hw4bJx8dHb775pubNm2c6D0AqvP766xozZoxu376dvHby5EkNGzZMQUFBBssAAMCjWBITE22mIwAASI2iRYsqJiZG3t7e8vPz05dffqmqVavq5MmTeuWVV3T69GnTiQAAZIimTZuqdevWCg8P16VLl1S5cmV5enrq9OnT6tevn3r27Gk6EQCeWuXKldW1a1d16dLFbv3zzz/XF198oZ9//tlQGYDUunr1qsLCwnTgwAHduHFDhQoV0vnz51W9enUtW7ZMefLkMZ0IAABSwE5lAECW4+vrq99//12S9OKLLyoyMlI2m03R0dFyc3MzGwcAQAY6cOCAXn75ZUlSVFSUSpQooZiYGH366aeaM2eO2TgASCOnTp1Sw4YN71t/7bXXFB8fb6AIwJPKly+fvv32W82fP18jRoxQ165dFRkZqTVr1jBQBgAgk+OZygCALKddu3Y6cOCAAgIC1Lt3b7Vp00YzZsyQ1WrVmDFjTOcBAJBhbt26lfwD2E2bNqlx48aSpIoVK+qPP/4wmQYAacbLy0sbN25UiRIl7NY3bNggb29vQ1UAnkbdunVVt25d0xkAACAVGCoDALKc7t27J/++bt26+vHHH/XLL7+oZMmS8vPzM1gGAEDGKlGihKKjoxUcHKyNGzeqV69ekqQLFy4of/78husAIG307NlT//73v7V3715Vq1ZNFotFMTExWrJkicaNG2c6D0Aq7dq1S5s3b9aFCxdktVrtrvF3GgCAzItnKgMAAABAFrVq1Sp17txZSUlJqlu3rr766itJ0scff6wffvhBy5YtM1wIAGkjOjpa06ZN0+HDhyVJpUuXVs+ePdWkSRPDZQBSY8qUKRo6dKhKlCihwoULy2KxJF+zWCyKjo42WAcAAB6GoTIAIMtYv369+vTpo23btt23++rKlSuqXbu2Jk2apPr16xsqBAAg450/f15nzpxRhQoV5ODgIOmvHUD58uXTiy++aLgOAJ7M2LFj1bNnT+XOnVvx8fHy8vKyGz4ByJr8/Pz07rvvqkuXLqZTAABAKjFUBgBkGWFhYXrttdf0zjvvPPD6rFmztHbtWi1dujSDywAAyDyOHz+uIkWKyMXFxXQKADwxDw8PxcbGqkCBAnJ3d9fhw4dVoEAB01kAnlKxYsW0ZcsW+fr6mk4BAACp5GA6AACAx3XgwAG9+uqrKV6vU6eO9u/fn3FBAAAY9uGHH2rhwoWSJJvNpubNm6tKlSoqXbq0du3aZbgOAJ6cp6enoqKiFBcXJ5vNpj/++EPx8fEP/AUg6wgJCdF3331nOgMAADwBdioDALKMQoUKaceOHSpZsuQDr//222+qXbu2zp49m8FlAACYUb58ec2ePVsvv/yy1q1bp27dumnp0qVaunSpDhw4oNWrV5tOBIAnMmfOHPXr10/37t1L8R6bzSaLxaKEhIQMLAOQWlOnTk3+/a1bt/Tpp5+qfv368vPzk6Ojo929PXr0yOg8AADwmBwffQsAAJlDkSJFtH///hSHygcOHJCnp2cGVwEAYM6FCxdUpEgRSdL69evVokULValSRW5ubg893QMAMru33npLzZs3V1xcnOrWravIyEi5u7ubzgLwBL744gu7j/PkyaMffvhBP/zwg926xWJhqAwAQCbGUBkAkGUEBgbqo48+UmBgoHLlymV37c8//0y+BgDAs8Ld3V3x8fEqWrSoNmzYoKFDh0qSkpKSDJcBwNNzdXWVq6urpk2bplq1asnZ2dl0EoAnsG/fPtMJAAAgDfBMZQBAlvH+++/r6tWrqlKliiZOnKivv/5aX3/9tT755BNVrVpVV69eVd++fU1nAgCQYYKCgtS5c2c1b95cly9fVsOGDSVJv/76q4oXL264DgDSRmBgoK5du5b88YEDBzRy5EgtX77cYBWAJzF27Fj9+eef963fvHlTY8eONVAEAAAeF89UBgBkKXFxcerbt6++//572Wx//SfMYrGoQYMG+vjjj+Xj42O4EACAjJOUlKRPP/1Up06dUrt27VSxYkVJ0rRp0/Tcc8+pffv2hgsB4Ok1bdpUrVu3Vnh4uC5duqTKlSvL09NTp0+fVr9+/dSzZ0/TiQAek7u7uw4fPqwCBQrYrSckJKhUqVI8Ix0AgEyMoTIAIEtKTEzU8ePHZbPZVLJkSbm6uppOAgAAAJAOihcvrm+++UZlypTR//t//0/z5s3Txo0b9fXXX2vo0KH6+eefTScCeExubm46evSonn/+ebv1TZs2qVOnTjp27JihMgAA8Cg8UxkAkCW5urqqcuXKpjMAAMgUzpw5o1OnTunOnTt267Vq1TJUBABp59atW8qTJ4+kvwZPjRs3liRVrFhRf/zxh8k0AI/Jy8tLFotFFotF/v7+slgsydfu3bunW7du6e233zZYCAAAHoWhMgAAAABkUWfOnFGnTp20c+dOWSwW2Ww2ux/ScoQkgOygRIkSio6OVnBwsDZu3KhevXpJki5cuKD8+fMbrgPwOMaNGyebzaYePXpo8ODBypcvX/K1nDlzqlixYqpWrZrBQgAA8CgMlQEAAAAgixowYIAcHR31ww8/qH79+lq+fLnOnz+v0aNH66OPPjKdBwBpon///urcubMGDx6sunXrqmrVqpKk77//Xi+99JLhOgCPo127dpIkHx8f1ahRQ46O/FgaAICshmcqA0Aa69atm7Zt26Zff/3VdAoAAMjmXnjhBS1dulSVKlWSt7e3Nm7cqFKlSmnt2rUaP368vvvuO9OJAJAmzp8/rzNnzqhChQpycHCQJO3atUv58uXTiy++aLgOAAAAyP4cTAcAQFpZsGCBXF1d5erqqi1btjzwnvr168vV1VUvv/xyBtcBAACkvVu3bsnd3V2S5OrqqgsXLkiSSpcurQMHDphMA4A0VbBgQVWsWDF5oCxJVatWZaAMAAAAZBDOGQGQ7bi4uGjZsmWqU6eO3fqxY8e0e/duubi4pOvnnzx5sqxWa7p+DgAAAOmvncpHjx6Vj4+PKlSooNmzZ6to0aKaOXOmPD09TecBQJpZsWKFNm/erAsXLtz3/dbixYsNVQEAAADPDnYqA8h2AgMDFRUVpdu3b9utL1myRAULFlSlSpXS9fM7OTnJ2dk5XT8HAACAJHXt2lXnzp2TJP373//Whg0b5O/vr1mzZmno0KGG6wAgbQwZMkRdunRRXFyc8ufPL3d3d7tfAAAAANIfO5UBZDshISFavXq1vv32WzVr1ix5ffny5WrZsuV9zzq2Wq2aPHmy5s2bp/j4eHl4eKhp06YaPHiw8ufPL0nq16+f5s+fr6NHjypv3rx2f/5/r6X0TOXIyEhNnz5dBw8elJOTk1555RWNGDFCZcqUSad/EwAAILsLCwtL/r2/v7/27dunI0eOyNvbWx4eHgbLACDtLF68WLNmzbL7/g4AAABAxmKoDCDbKVKkiGrVqqVly5Yl/9Bh165dOn78uMLCwu4b9vbt21ezZ89W48aN1bVrVx06dEizZs3Szz//rLVr18rJyUktW7bUjBkztGbNGrsf3t67d09RUVEKDAy8b9j8dxMnTtTw4cMVFBSkNm3a6MaNG5o5c6YaNWqkzZs3y9fXN13+XQAAgOzr7t278vPzU1RUlMqWLStJyp07t/z9/c2GAUAas1qtqlChgukMAE+oe/fuj33vtGnT0rEEAAA8DYbKALKlVq1a6f3331diYqJcXV21ZMkSlSxZUpUrV7a77+DBg5o9e7bCwsL0xRdfJK+/8MILGjBggBYtWqT27durRo0a8vLyUmRkpN1QeevWrTp//rxatmyZYkt8fLxGjhyp/v37a8CAAcnrbdq0UbVq1fTxxx9r6tSpafjqAQDAs8DJyUlOTk6yWCymUwAgXb311ltasmSJ3fdTALKOixcv2n28c+dOWSwWlStXTpJ06NAhWa1W1axZ00QeAAB4TAyVAWRLzZo1U79+/RQVFaU33nhDK1euVKdOne67b+3atZKkXr162a2//fbbGj16tNauXav27dvLYrGoRYsW+vzzz5MH1ZK0YsUKPffcc2rUqFGKLdHR0UpKSlJISIguXbqUvO7k5KSqVatqy5YtafCKAQDAs6hLly6KiIjQ9OnT5ejIt3cAsqcrV65o2bJl2rRpk/z8/O77/7tx48YZKgPwOJYsWZL8+4iICOXKlUvTpk1Tnjx5JEk3btxQz549k4fMAAAgc+KnDgCypfz58yswMFBLly5VkSJFdOHCBbVq1eq+++Li4mSxWPTCCy/YrTs7O8vHx0dxcXHJayEhIZoyZYqio6MVHh6uu3fvKjo6Wo0bN5aLi0uKLceOHZMkVatW7YHXc+fO/SQvEQAAQDt27NCOHTtUtmxZlS1b9r6vKxYvXmyoDADSTmxsbPLx10eOHLG7xmkNQNby+eefKyoqKnmgLEl58uRRv3791KxZM73//vsG6wAAwMMwVAaQbbVq1UodOnSQJFWpUkUlS5ZM1Z+32Wx2P6Dw9/dXqVKltGLFCoWHh2vDhg26fPmyQkJCHvrPsVqtkqTly5c/cAeRg4NDqroAAAD+y8PDQ0FBQaYzACBdrV692nQCgDRy48YNnT17VmXKlLFbP3funG7evGmoCgAAPA6GygCyrUaNGilfvnzavn27xowZ88B7ihUrJpvNpqNHj6p8+fLJ63fu3FFcXJwCAgLs7m/RooUiIiJ08eJFRUZGys3NTfXr139oR/HixSVJXl5e933TBAAA8DSmT59uOgEAAOCxBQUFqXv37vrwww9VtWpVSdKuXbs0bNgwNW3a1HAdAAB4GLbHAci2nJ2dNWHCBPXv31+hoaEPvCcwMFCSNG3aNLv12bNn6+rVq/c9Kzk0NFT37t3TkiVL9M033ygoKEhOTk4P7QgODpajo6NGjx6dvGv57y5evJialwUAAAAAz5wtW7bo3XffVUhIiIKCgux+Acg6IiIi9I9//EP/+te/VKlSJVWqVEndunVTo0aNNGHCBNN5AADgIdipDCBbS2mY/F9+fn7q2LFj8hC5Xr16OnTokGbPnq3KlSurbdu2dveXLl1afn5+GjNmjK5du/bIo68lydfXVyNGjNCgQYPUsGFDBQUFyc3NTfHx8Vq3bp2qVq2qTz755KleJwAAeDbVrFnzodd37NiRQSUAkH4WLFigPn36qGnTptq2bZtef/11/fbbbzp58qRat25tOg9AKuTKlUsTJkzQhx9+qBMnTshms6lEiRJ2z1gGAACZE0NlAM+8CRMmyMfHR3PnztW6devk4eGhTp06afDgwQ/chRwaGqoRI0aoYMGCql279mN9ju7du6tUqVKaMmWKIiIilJSUJE9PT9WoUUPh4eFp/ZIAAMAzIjg42O7jpKQk/frrr4qJidE777xjqAoA0tbUqVM1fvx4tW/fXl5eXho2bJh8fX3Vr18/BlFAFpUnTx67x5ABAIDMz5KYmGgzHQEAAAAASDuTJ09WfHy8xo8fbzoFAJ6ap6enYmJi5OPjoxIlSmjVqlUqX768jhw5oqZNm+rIkSOmEwE8plu3bumzzz7T5s2bdeHChfseE8YpKwAAZF7sVAYAAACAbCYoKEivvvoqQ2UA2YK7u7uuX78u6a8B86FDh1S+fHklJCTo1q1bhusApEbfvn21evVqNW/eXNWqVZPFYjGdBAAAHhNDZQAAAADIZrZv367cuXObzgCANPHKK69ow4YN8vPzU4sWLdS/f39t3LhRW7Zs0auvvmo6D0AqfP311/ryyy/5uwsAQBbEUBkAAAAAsqg2bdrYfWyz2XTu3Dnt27dP/fv3N1QFAGlr/PjxyTuS+/TpI0dHR8XExKh58+Z6//33DdcBSI3cuXOraNGipjMAAMAT4JnKAAAAAJBFdevWze7YSAcHBz3//POqU6eO6tevb7AMANJGUlKS5syZoyZNmsjT09N0DoCn9Nlnnyk2NlYRERFycHAwnQMAAFKBoTIAAAAAAAAyrSJFiigmJkbFihUznQLgKbVu3Vo7d+5Uvnz5VKZMGTk62h+kuXjxYkNlAADgUTj+GgAAAACymP899vpBHB0dVbhwYdWrV09NmjTJgCoASB9Vq1bVnj17GCoD2YCHh4eaNm1qOgMAADwBhsoAAAAAkMW4u7s/8h6r1arjx49r/vz5evfddzVgwIAMKAOAtNehQwcNGTJEp06dkr+/v3Lnzm133d/f30wYgFSbPn266QQAAPCEOP4aAAAAALKxr7/+Wv3799f+/ftNpwBAqnTv3l2jR4+Wj49PivdYLBYlJCRkYBUAAADwbGKoDAAAAADZWEJCgt566y2tWrXKdAoApIq7u7sOHz6smzdvPvQ+jsUGspb58+crMjJSp06d0p07d+yu7d2711AVAAB4FI6/BgAAAIBszN3dnYEygCzJZvtrHwRDYyD7mDx5siIiItSxY0ft2LFDnTp10vHjx7Vjxw717NnTdB4AAHgIB9MBAAAAAAAAwINYLBbTCQDS0JdffqlJkyZp2LBhcnJyUpcuXbR48WL16NFD8fHxpvMAAMBDsFMZAAAAAAAAmdKLL774yHt4pjKQdZw+fVqVK1eWJLm4uOjq1auSpNDQUNWvX1+TJ082mQcAAB6CoTIAAAAAAAAypYkTJyp//vymMwCkkYIFC+rSpUvy9vaWt7e3fvrpJ7300ks6fvw4JxMAAJDJMVQGAAAAAABAptS4cWMVKFDAdAaANFKnTh1988038vf3V3h4uAYOHKivvvpK+/btU/PmzU3nAQCAh7AkJibaTEcAAAAAAAAAf+fu7q7Dhw8zVAayEavVKqvVKkfHv/Y6rVixQjExMSpVqpQ6duwoJycnw4UAACAlDJUBAAAAAACQ6bi5uenIkSMMlQEAAIBMgKEyAAAAAAAAAAAAACBFDqYDAAAAAAAAAAAAAACZF0NlAAAAAAAAAAAAAECKGCoDAAAAAJBJdevWTRUqVDCdAQBAmvjzzz9ltVpNZwAAgCfAUBkAAAAAgP+xYMECubq6ytXVVVu2bHngPfXr15erq6tefvnlDK4DACDruXfvnooVK6YjR46YTgEAAE+AoTIAAAAAAClwcXHRsmXL7ls/duyYdu/eLRcXl3T9/JMnT9auXbvS9XMAAJARcuTIIW9vb925c8d0CgAAeAIMlQEAAAAASEFgYKCioqJ0+/Ztu/UlS5aoYMGCqlSpUrp+ficnJzk7O6fr5wAAIKP069dPI0aM0KVLl0ynAACAVGKoDAAAAABACkJCQnT9+nV9++23duvLly9Xy5Yt5eBg/2211WrVxIkTVaVKFRUsWFBly5ZVv379dOXKleR7+vXrJ09PT12/fv2+z/e/11J6pnJkZKQaNGggT09PFStWTK1bt1ZsbGxavGQAANLN1KlTFRMTo7Jly8rf3181a9a0+wUAADIvR9MBAAAAAABkVkWKFFGtWrW0bNkyNWvWTJK0a9cuHT9+XGFhYfr111/t7u/bt69mz56txo0bq2vXrjp06JBmzZqln3/+WWvXrpWTk5NatmypGTNmaM2aNQoLC0v+s/fu3VNUVJQCAwOVN2/eFJsmTpyo4cOHKygoSG3atNGNGzc0c+ZMNWrUSJs3b5avr2+6/LsAAOBpBQcHm04AAABPiKEyAAAAAAAP0apVK73//vtKTEyUq6urlixZopIlS6py5cp29x08eFCzZ89WWFiYvvjii+T1F154QQMGDNCiRYvUvn171ahRQ15eXoqMjLQbKm/dulXnz59Xy5YtU2yJj4/XyJEj1b9/fw0YMCB5vU2bNqpWrZo+/vhjTZ06NQ1fPQAAaeeDDz4wnQAAAJ4Qx18DAAAAAPAQzZo1k8ViUVRUlJKSkrRy5Uq1atXqvvvWrl0rSerVq5fd+ttvv618+fIlX7dYLGrRooU2btyoxMTE5PtWrFih5557To0aNUqxJTo6WklJSQoJCdGlS5eSfzk5Oalq1arasmVLGrxiAADSz61btxQVFaWJEycm/3fwxIkTunz5stkwAADwUOxUBgAAAADgIfLnz6/AwEAtXbpURYoU0YULFx44VI6Li5PFYtELL7xgt+7s7CwfHx/FxcUlr4WEhGjKlCmKjo5WeHi47t69q+joaDVu3FguLi4pthw7dkySVK1atQdez50795O8RAAAMsTx48fVrFkz3bhxQ1euXFHz5s3l6uqqWbNm6cqVK5oyZYrpRAAAkAKGygAAAAAAPEKrVq3UoUMHSVKVKlVUsmTJVP15m80mi8WS/LG/v79KlSqlFStWKDw8XBs2bNDly5cVEhLy0H+O1WqVJC1fvlyOjvd/S+/gwIFkAIDMa8CAAapfv74iIiLk4+OTvN64cWN1797dYBkAAHgUhsoAAAAAADxCo0aNlC9fPm3fvl1jxox54D3FihWTzWbT0aNHVb58+eT1O3fuKC4uTgEBAXb3t2jRQhEREbp48aIiIyPl5uam+vXrP7SjePHikiQvLy+VKVPmKV8VAAAZ64cfftB3332nHDly2K17eXnp7NmzhqoAAMDj4C3MAAAAAAA8grOzsyZMmKD+/fsrNDT0gfcEBgZKkqZNm2a3Pnv2bF29evW+ZyWHhobq3r17WrJkib755hsFBQXJycnpoR3BwcFydHTU6NGjk3ct/93FixdT87IAAMhwd+/evW/t1KlTypcvn4EaAADwuNipDAAAAADAY0hpmPxffn5+6tixY/IQuV69ejp06JBmz56typUrq23btnb3ly5dWn5+fhozZoyuXbv2yKOvJcnX11cjRozQoEGD1LBhQwUFBcnNzU3x8fFat26dqlatqk8++eSpXicAAOmlfv36mjZtmqZOnZq8dvXqVY0ePTr5zVkAACBzYqgMAAAAAEAamTBhgnx8fDR37lytW7dOHh4e6tSpkwYPHvzAXcihoaEaMWKEChYsqNq1az/W5+jevbtKlSqlKVOmKCIiQklJSfL09FSNGjUUHh6e1i8JAIA0M2rUKAUFBalq1aq6deuW3n77bR0/flwFCxbUnDlzTOcBAICHsCQmJtpMRwAAAAAAAAAAsr+bN29q+fLl2rdvn6xWqypWrKhWrVopV65cptMAAMBDMFQGAAAAAAAAAKS77du3q3r16nJ0tD9AMykpST/88INq1aplqAwAADwKQ2UAAAAAAAAAQLpzd3fX4cOHVaBAAbv1hIQElSpVSgkJCYbKAADAoziYDgAAAAAAAAAAZH82m00Wi+W+9YSEBOXJk8dAEQAAeFyOj74FAAAAAAAAAIAn06ZNG0mSxWJRly5dlDNnzuRrVqtVBw8eVLVq1UzlAQCAx8BQGQAAAAAAAACQbtzd3SX9tVPZ1dVVLi4uyddy5sypGjVqqEOHDqbyAADAY2CoDAAAAAAAAABIN9OnT5ckFStWTL169VLu3LkNFwEAgNTimcoAAAAAAAAAgHS3fft23blz5771q1evKigoyEARAAB4XAyVAQAAAAAAAADpbvv27bp79+5967dv39bOnTsNFAEAgMfF8dcAAAAAAAAAgHSzZ88eSX89U/nAgQNydXVNvma1WvX999/L09PTTBwAAHgslsTERJvpCAAAAAAAAABA9uTm5iaLxSLpr8Hy/8qVK5fGjh2r8PDwjE4DAACPiaEyAAAAAAAAACDdxMXFyWazyd/fXxs2bJCHh0fytZw5c6pAgQLKkSOHwUIAAPAoDJUBAAAAAAAAAAAAACnimcoAAAAAAAAAgAyxf/9+TZkyRYcPH5bFYlHp0qXVs2dP+fn5mU4DAAAP4WA6AAAAAAAAAACQ/a1Zs0Z169bVH3/8oYYNG6pBgwY6deqU6tatq2+++cZ0HgAAeAiOvwYAAAAAAAAApLuaNWuqadOmGjhwoN36qFGjtGbNGm3fvt1QGQAAeBSGygAAAAAAAACAdFeoUCHt3LlTJUqUsFs/duyYatasqXPnzhkqAwAAj8Lx1wAAAAAAAACAdFegQAHt2bPnvvU9e/aoQIECGR8EAAAem6PpAAAAAAAAAABA9te+fXv17t1bx48fV7Vq1WSxWBQTE6MpU6aoV69epvMAAMBDcPw1AAAAAAAAACDd2Ww2TZ8+XdOmTdOZM2ckSZ6enurZs6e6du0qi8ViuBAAAKSEoTIAAAAAAAAAIN3dvn1bSUlJypMnj65duyZJeu655wxXAQCAx8EzlQEAAAAAAAAA6ebSpUsKCwtT0aJF5e3trcDAQF26dImBMgAAWQg7lQEAAAAAAAAA6aZXr1769ttv9c9//lPOzs6aPXu2vL29tXLlStNpAADgMTFUBgAAAAAAAACkm/LlyysiIkKBgYGSpCNHjuiVV17R2bNn5eTkZLgOAAA8Do6/BgAAAAAAAACkmzNnzuill15K/vjFF19Uzpw5debMGYNVAAAgNRgqAwAAAAAAAADSjc1mk6Ojo92ao6OjrFaroSIAAJBaHH8NAAAAAAAAAEg3bm5uevHFF5UjR47ktcOHD6tEiRJ2x1/v2LHDRB4AAHgMjo++BQAAAAAAAACAJ9O/f3/TCQAA4CmxUxkAAAAAAAAAAAAAkCKeqQwAAAAAAAAAAAAASBFDZQAAAAAAAAAAAABAihgqAwAAAAAAAAAAAABSxFAZAAAAAAAAAAAAAJAihsoAAAAAAAAAgHR38eJF0wkAAOAJMVQGAAAAAAAAAKS7smXLqn379lq/fr1sNpvpHAAAkAoMlQEAAAAAAAAA6W7p0qXKmTOn2rdvLz8/P40cOVInTpwwnQUAAB6DJTExkbeEAQAAAAAAAAAyRGJiopYtW6YFCxZo3759qlWrlsLDwxUcHCwXFxfTeQAA4AEYKgMAAAAAAAAAjJgxY4YGDx6sO3fuKH/+/Hrrrbf0/vvvK2/evKbTAADA3zBUBgAAAAAAAABkmLNnz2rRokVasGCBzpw5o+DgYIWHh+vs2bOKiIiQh4eHoqKiTGcCAIC/cTQdAAAAAAAAAADI/latWqUFCxZow4YNKlu2rLp27aqwsDDly5cv+Z5y5copICDAYCUAAHgQhsoAAAAAAAAAgHTXo0cPhYaGav369fL393/gPT4+Purbt2/GhgEAgEfi+GsAAAAAAAAAQLpKSkrSzJkz1axZM3l6eprOAQAAqcRQGQAAAAAAAACQ7ooUKaKYmBgVK1bMdAoAAEglB9MBAAAAAAAAAIDsr2rVqtqzZ4/pDAAA8AR4pjIAAAAAAAAAIN116NBBQ4YM0alTp+Tv76/cuXPbXU/pOcsAAMA8jr8GAAAAAAAAAKQ7Nze3FK9ZLBYlJCRkYA0AAEgNdioDAAAAAAAAANLd3r17TScAAIAnxE5lAAAAAAAAAEC6unv3rvz8/BQVFaWyZcuazgEAAKnkYDoAAAAAAAAAAJC9OTk5ycnJSRaLxXQKAAB4AgyVAQAAAAAAAADprkuXLoqIiFBSUpLpFAAAkEo8UxkAAAAAAAAAkO527NihHTt2qGzZsipbtqxy585td33x4sWGygAAwKMwVAYAAAAAAAAApDsPDw8FBQWZzgAAAE/AkpiYaDMdAQAAAAAAAAAAAADInHimMgAAAAAAAAAAAAAgRRx/DQAAAAAAAADIEPPnz1dkZKROnTqlO3fu2F3bu3evoSoAAPAo7FQGAAAAAAAAAKS7yZMna/DgwfL391dcXJyaNGmismXL6vLly3rzzTdN5wEAgIfgmcoAAAAAAAAAgHRXpUoVDR06VM2aNZOXl5e2bdsmX19fjRs3TqdOndLkyZNNJwIAgBSwUxkAAAAAAAAAkO5Onz6typUrS5JcXFx09epVSVJoaKhWrVplMg0AADwCQ2UAAAAAAAAAQLorWLCgLl26JEny9vbWTz/9JEk6fvy4LBaLyTQAAPAIDJUBAAAAAAAAAOmuTp06+uabbyRJ4eHhGjRokJo2baq3335bQUFBhusAAMDD8ExlAAAAAAAAAEC6s1qtslqtcnR0lCStWLFCMTExKlWqlDp27CgnJyfDhQAAICUMlQEAAAAAAAAAAAAAKXI0HQAAAAAAAAAAyL7i4+Mf6z5vb+90LgEAAE+KncoAAAAAAAAAgHTj5uYmi8WS4nWbzSaLxaKEhIQMrAIAAKnBTmUAAAAAAAAAQLrZuHFj8u9tNpuaNGmiGTNmqGjRogarAABAajBUBgAAAAAAAACkG39/f7uPHRwc5OfnJ19fXyM9AAAg9RxMBwAAAAAAAAAAAAAAMi+GygAAAAAAAAAAAACAFDFUBgAAAAAAAAAAAACkiGcqAwAAAAAAAADSTZs2bew+vnXrlt59913lypXLbn3x4sUZmQUAAFKBoTIAAAAAAAAAIN24u7vbfRwWFmaoBAAAPClLYmKizXQEAAAAAAAAAAAAACBz4pnKAAAAAAAAAAAAAIAUMVQGAAAAAAAAAAAAAKSIoTIAAAAAAAAAAAAAIEUMlQEAAAAAAAAAALK5bt26qUKFCqYzAGRRDJUBAAAAAAAAAADSyYIFC+Tq6ipXV1dt2bLlgffUr19frq6uevnllzO4DgAeD0NlAAAAAAAAAACAdObi4qJly5bdt37s2DHt3r1bLi4u6fr5J0+erF27dqXr5wCQfTFUBgAAAAAAAAAASGeBgYGKiorS7du37daXLFmiggULqlKlSun6+Z2cnOTs7JyunwNA9sVQGQAAAAAAAAAAIJ2FhITo+vXr+vbbb+3Wly9frpYtW8rBwX5kY7VaNXHiRFWpUkUFCxZU2bJl1a9fP125ciX5nn79+snT01PXr1+/7/P977WUnqkcGRmpBg0ayNPTU8WKFVPr1q0VGxubFi8ZQDbCUBkAAAAAAAAAACCdFSlSRLVq1bI7AnvXrl06fvy4wsLC7ru/b9++Gj58uF588UWNGjVKjRs31qxZs9SiRQvdvXtXktSyZUvdvHlTa9assfuz9+7dU1RUlAIDA5U3b94UmyZOnKhOnTqpSJEi+vDDD9WnTx8dOHBAjRo10u+//542LxxAtsBQGQAAAAAAAAAAIAO0atVK69atU2JioqS/jr4uWbKkKleubHffwYMHNXv2bIWFhWnRokV65513FBERoVGjRmn37t1atGiRJKlGjRry8vJSZGSk3Z/funWrzp8/r5YtW6bYEh8fr5EjR6p///6aN2+e3nnnHfXu3VvfffedbDabPv7447R98QCyNIbKAAAAAAAAAAAAGaBZs2ayWCyKiopSUlKSVq5cqVatWt1339q1ayVJvXr1slt/++23lS9fvuTrFotFLVq00MaNG5MH1ZK0YsUKPffcc2rUqFGKLdHR0UpKSlJISIguXbqU/MvJyUlVq1bVli1b0uAVA8guHE0HAAAAAAAAAAAAPAvy58+vwMBALV26VEWKFNGFCxceOFSOi4uTxWLRCy+8YLfu7OwsHx8fxcXFJa+FhIRoypQpio6OVnh4uO7evavo6Gg1btxYLi4uKbYcO3ZMklStWrUHXs+dO/eTvEQA2RRDZQAAAAAAAAAAgAzSqlUrdejQQZJUpUoVlSxZMlV/3mazyWKxJH/s7++vUqVKacWKFQoPD9eGDRt0+fJlhYSEPPSfY7VaJUnLly+Xo+P94yIHBw67BfB/GCoDAAAAAAAAAABkkEaNGilfvnzavn27xowZ88B7ihUrJpvNpqNHj6p8+fLJ63fu3FFcXJwCAgLs7m/RooUiIiJ08eJFRUZGys3NTfXr139oR/HixSVJXl5eKlOmzFO+KgDZHW8zAQAAAAAAAAAAyCDOzs6aMGGC+vfvr9DQ0AfeExgYKEmaNm2a3frs2bN19erV+56VHBoaqnv37mnJkiX65ptvFBQUJCcnp4d2BAcHy9HRUaNHj07etfx3Fy9eTM3LApDNsVMZAAAAAAAAAAAgA6U0TP4vPz8/dezYMXmIXK9ePR06dEizZ89W5cqV1bZtW7v7S5cuLT8/P40ZM0bXrl175NHXkuTr66sRI0Zo0KBBatiwoYKCguTm5qb4+HitW7dOVatW1SeffPJUrxNA9sFQGQAAAAAAAAAAIJOZMGGCfHx8NHfuXK1bt04eHh7q1KmTBg8e/MBdyKGhoRoxYoQKFiyo2rVrP9bn6N69u0qVKqUpU6YoIiJCSUlJ8vT0VI0aNRQeHp7WLwlAFmZJTEy0mY4AAAAAAAAAAAAAAGROPFMZAAAAAAAAAAAAAJAihsoAAAAAAAAAAAAAgBQxVAYAAAAAAAAAAAAApIihMgAAAAAAAAAAAAAgRQyVAQAAAAAAAAAAAAApYqgMAAAAAAAAAAAAAEgRQ2UAAAAAAAAAAAAAQIoYKgMAAAAAAAAAAAAAUsRQGQAAAAAAAAAAAACQIobKAAAAAAAAAAAAAIAU/X/M9v1VJ6/i5wAAAABJRU5ErkJggg==\n",
=======
      "image/png": "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\n",
>>>>>>> 0a162eaf96ebe7e6f3951266d3748f20647f3a5c
      "text/plain": [
       "<Figure size 2160x720 with 3 Axes>"
      ]
     },
     "metadata": {},
     "output_type": "display_data"
    }
   ],
   "source": [
    "#Create a bar chart of the top 5 most profitable movies in the top 3 most profitable months\n",
    "\n",
    "fig, (ax1, ax2, ax3) = plt.subplots(nrows = 1, ncols = 3, figsize = (30,10))\n",
    "\n",
    "\n",
    "high_profit = budgets[(budgets['month'] == 'May') | (budgets['month'] == 'June') | (budgets['month'] == 'July')]\n",
    "\n",
    "since2010 = high_profit[high_profit['year'] > 2010].sort_values('profit', ascending = False)\n",
    "\n",
    "may = since2010[since2010['month'] == 'May'].sort_values('profit', ascending = False)\n",
    "june = since2010[since2010['month'] == 'June'].sort_values('profit', ascending = False)\n",
    "july = since2010[since2010['month'] == 'July'].sort_values('profit', ascending = False)\n",
    "\n",
    "#May\n",
    "\n",
    "x1 = may['movie'][0:5]\n",
    "y1 = may['profit'][0:5]\n",
    "\n",
    "ax1.bar(x1,y1)\n",
    "\n",
    "ax1.set_title('Top 5 Most Profitable Movies Released in May')\n",
    "ax1.set_xlabel('Movie')\n",
    "ax1.set_ylabel('Profit in Billions')\n",
    "ax1.tick_params(axis='x', labelrotation = 90)\n",
    "\n",
    "\n",
    "#June\n",
    "\n",
    "x2 = june['movie'][0:5]\n",
    "y2 = june['profit'][0:5]\n",
    "\n",
    "ax2.bar(x2,y2)\n",
    "\n",
    "ax2.set_title('Top 5 Most Profitable Movies Released in June')\n",
    "ax2.set_xlabel('Movie')\n",
    "ax2.set_ylabel('Profit in Billions')\n",
    "ax2.tick_params(axis='x', labelrotation = 90)\n",
    "\n",
    "#July\n",
    "\n",
    "x3 = july['movie'][0:5]\n",
    "y3 = july['profit'][0:5]\n",
    "\n",
    "ax3.bar(x3,y3)\n",
    "\n",
    "ax3.set_title('Top 5 Most Profitable Movies Released in July')\n",
    "ax3.set_xlabel('Movie')\n",
    "ax3.set_ylabel('Profit in Billions')\n",
    "ax3.tick_params(axis='x', labelrotation = 90);"
   ]
  },
  {
   "cell_type": "markdown",
   "metadata": {},
   "source": [
    "#### Do you need to spend more money to make more money on your first film?"
   ]
  },
  {
   "cell_type": "code",
<<<<<<< HEAD
   "execution_count": 219,
   "metadata": {
    "scrolled": true
   },
=======
   "execution_count": 55,
   "metadata": {},
>>>>>>> 0a162eaf96ebe7e6f3951266d3748f20647f3a5c
   "outputs": [
    {
     "data": {
      "text/plain": [
       "Text(0, 0.5, 'Worldwide Revenue in Billions')"
      ]
     },
<<<<<<< HEAD
     "execution_count": 219,
=======
     "execution_count": 55,
>>>>>>> 0a162eaf96ebe7e6f3951266d3748f20647f3a5c
     "metadata": {},
     "output_type": "execute_result"
    },
    {
     "data": {
<<<<<<< HEAD
      "image/png": "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\n",
=======
      "image/png": "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\n",
>>>>>>> 0a162eaf96ebe7e6f3951266d3748f20647f3a5c
      "text/plain": [
       "<Figure size 1440x720 with 2 Axes>"
      ]
     },
     "metadata": {},
     "output_type": "display_data"
    }
   ],
   "source": [
    "#Create two chart, one that shows budget vs profit and the other that shows budget vs worldwide revenue\n",
    "\n",
    "fig, (ax1, ax2) = plt.subplots(nrows = 1, ncols = 2, figsize= (20,10))\n",
    "\n",
    "#Budget vs Profit\n",
    "After2010 = budgets[budgets['year'] > 2010]\n",
    "\n",
    "y1 = After2010['profit']\n",
    "x1 = After2010['production_budget']\n",
    "\n",
    "ax1.scatter(x1,y1)\n",
    "\n",
    "ax1.set_title('Budget vs Profit - Movies Since 2010')\n",
    "ax1.set_xlabel('Budget in Billions')\n",
    "ax1.set_ylabel('Profit in Billions')\n",
    "\n",
    "#Budget vs Revenue\n",
    "\n",
    "y2 = After2010['worldwide_gross']\n",
    "x2 = After2010['production_budget']\n",
    "\n",
    "\n",
    "ax2.scatter(x2,y2)\n",
    "\n",
    "ax2.set_title('Budget vs Worldwide Revenue - Movies Since 2010')\n",
    "ax2.set_xlabel('Budget in Billions')\n",
    "ax2.set_ylabel('Worldwide Revenue in Billions');"
   ]
  },
  {
   "cell_type": "markdown",
   "metadata": {},
   "source": [
    "#### How much money can you expect to spend on a top Movie?"
   ]
  },
  {
   "cell_type": "code",
<<<<<<< HEAD
   "execution_count": 208,
=======
   "execution_count": 56,
>>>>>>> 0a162eaf96ebe7e6f3951266d3748f20647f3a5c
   "metadata": {},
   "outputs": [
    {
     "data": {
      "text/html": [
       "<div>\n",
       "<style scoped>\n",
       "    .dataframe tbody tr th:only-of-type {\n",
       "        vertical-align: middle;\n",
       "    }\n",
       "\n",
       "    .dataframe tbody tr th {\n",
       "        vertical-align: top;\n",
       "    }\n",
       "\n",
       "    .dataframe thead th {\n",
       "        text-align: right;\n",
       "    }\n",
       "</style>\n",
       "<table border=\"1\" class=\"dataframe\">\n",
       "  <thead>\n",
       "    <tr style=\"text-align: right;\">\n",
       "      <th></th>\n",
       "      <th>index</th>\n",
       "      <th>movie</th>\n",
       "      <th>production_budget</th>\n",
       "    </tr>\n",
       "  </thead>\n",
       "  <tbody>\n",
       "    <tr>\n",
       "      <th>0</th>\n",
       "      <td>3</td>\n",
       "      <td>Avengers: Age of Ultron</td>\n",
       "      <td>330600000.0</td>\n",
       "    </tr>\n",
       "    <tr>\n",
       "      <th>1</th>\n",
       "      <td>16</td>\n",
       "      <td>Captain America: Civil War</td>\n",
       "      <td>250000000.0</td>\n",
       "    </tr>\n",
       "    <tr>\n",
       "      <th>2</th>\n",
       "      <td>26</td>\n",
       "      <td>The Avengers</td>\n",
       "      <td>225000000.0</td>\n",
       "    </tr>\n",
       "    <tr>\n",
       "      <th>3</th>\n",
       "      <td>47</td>\n",
       "      <td>Iron Man 3</td>\n",
       "      <td>200000000.0</td>\n",
       "    </tr>\n",
       "    <tr>\n",
       "      <th>4</th>\n",
       "      <td>314</td>\n",
       "      <td>Deadpool 2</td>\n",
       "      <td>110000000.0</td>\n",
       "    </tr>\n",
       "    <tr>\n",
       "      <th>5</th>\n",
       "      <td>Average Budget</td>\n",
       "      <td>NaN</td>\n",
       "      <td>223120000.0</td>\n",
       "    </tr>\n",
       "  </tbody>\n",
       "</table>\n",
       "</div>"
      ],
      "text/plain": [
       "            index                       movie  production_budget\n",
       "0               3     Avengers: Age of Ultron        330600000.0\n",
       "1              16  Captain America: Civil War        250000000.0\n",
       "2              26                The Avengers        225000000.0\n",
       "3              47                  Iron Man 3        200000000.0\n",
       "4             314                  Deadpool 2        110000000.0\n",
       "5  Average Budget                         NaN        223120000.0"
      ]
     },
     "execution_count": 208,
     "metadata": {},
     "output_type": "execute_result"
    }
   ],
   "source": [
    "#Create a chart of the budgets of the top 5 most profitable movies released in May. Then create an average budget number.\n",
    "\n",
    "#Isolate the movies releases after 2010\n",
    "budgets2010 = budgets[budgets['year'] > 2010].sort_values('production_budget', ascending = False)\n",
    "\n",
    "# Createa a table that shows the top 5 most profitable movies released in May and the respective budgets\n",
    "titles = ['The Avengers', 'Avengers: Age of Ultron', 'Iron Man 3', 'Captain America: Civil War', 'Deadpool 2']\n",
    "MayTopBudgets = budgets2010[budgets2010['movie'].isin(titles)]\n",
    "\n",
    "New = MayTopBudgets[['movie', 'production_budget']]\n",
    "\n",
    "#Create an Average Budget row\n",
    "New.loc['Average Budget'] = New.mean()\n",
    "New.reset_index()"
   ]
  },
  {
   "cell_type": "markdown",
   "metadata": {},
   "source": [
    "#### Which studio should you work with if you are looking to maximize revenue?"
   ]
  },
  {
   "cell_type": "code",
<<<<<<< HEAD
   "execution_count": 209,
   "metadata": {
    "scrolled": true
   },
=======
   "execution_count": 57,
   "metadata": {},
>>>>>>> 0a162eaf96ebe7e6f3951266d3748f20647f3a5c
   "outputs": [
    {
     "data": {
      "text/plain": [
       "<BarContainer object of 10 artists>"
      ]
     },
<<<<<<< HEAD
     "execution_count": 209,
=======
     "execution_count": 57,
>>>>>>> 0a162eaf96ebe7e6f3951266d3748f20647f3a5c
     "metadata": {},
     "output_type": "execute_result"
    },
    {
     "data": {
<<<<<<< HEAD
      "image/png": "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\n",
=======
      "image/png": "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\n",
>>>>>>> 0a162eaf96ebe7e6f3951266d3748f20647f3a5c
      "text/plain": [
       "<Figure size 1440x360 with 2 Axes>"
      ]
     },
     "metadata": {},
     "output_type": "display_data"
    }
   ],
   "source": [
    "#Barchart for the mean total gross of the studios that made more than 100 titles\n",
    "\n",
    "fig1, (ax1, ax2) = plt.subplots(nrows = 1, ncols = 2, figsize= (20,5))\n",
    "\n",
    "#Filtering the studios by the ones that made more than 100 titles / moives\n",
    "main_st_df= gross_df[gross_df[\"studio\"].map(gross_df['studio'].value_counts()) > 100]\n",
    "main_st_df\n",
    "\n",
    "x1= main_st_df.groupby('studio')['Total Gross Revenue'].mean().sort_values(ascending=False)[:10].index\n",
    "y1= main_st_df.groupby('studio')['Total Gross Revenue'].mean().sort_values(ascending=False)[:10].values\n",
    "ax1.bar(x1,y1)\n",
    "ax1.tick_params(axis='x', labelrotation=80)\n",
    "ax1.set_xlabel(\"Studios\")\n",
    "ax1.set_ylabel(\"Average Total Gross Revenue\")\n",
    "ax1.set_title('Top Ten studios per Average Total Gross Revenue')\n",
    "\n",
    "# Top studios by total revenue\n",
    "x2= gross_df.groupby('studio')['Total Gross Revenue'].sum().sort_values(ascending=False)[:10].index\n",
    "y2= gross_df.groupby('studio')['Total Gross Revenue'].sum().sort_values(ascending=False)[:10].values\n",
    "ax2.tick_params(axis='x', labelrotation=80)\n",
    "ax2.set_xlabel(\"Studios\")\n",
    "ax2.set_ylabel(\"Total Gross Revenue\")\n",
    "ax2.set_title('Top ten studios per Total Gross Revenue')\n",
    "ax2.bar(x2,y2);"
   ]
  },
  {
   "cell_type": "markdown",
   "metadata": {},
   "source": [
    "The below chart shows the top 10 grossing films by total gross revenue"
   ]
  },
  {
   "cell_type": "code",
<<<<<<< HEAD
   "execution_count": 210,
=======
   "execution_count": 58,
>>>>>>> 0a162eaf96ebe7e6f3951266d3748f20647f3a5c
   "metadata": {},
   "outputs": [
    {
     "data": {
      "text/html": [
       "<div>\n",
       "<style scoped>\n",
       "    .dataframe tbody tr th:only-of-type {\n",
       "        vertical-align: middle;\n",
       "    }\n",
       "\n",
       "    .dataframe tbody tr th {\n",
       "        vertical-align: top;\n",
       "    }\n",
       "\n",
       "    .dataframe thead th {\n",
       "        text-align: right;\n",
       "    }\n",
       "</style>\n",
       "<table border=\"1\" class=\"dataframe\">\n",
       "  <thead>\n",
       "    <tr style=\"text-align: right;\">\n",
       "      <th></th>\n",
       "      <th>title</th>\n",
       "      <th>studio</th>\n",
       "      <th>domestic_gross</th>\n",
       "      <th>foreign_gross</th>\n",
       "      <th>year</th>\n",
       "      <th>Total Gross Revenue</th>\n",
       "    </tr>\n",
       "  </thead>\n",
       "  <tbody>\n",
       "    <tr>\n",
       "      <th>727</th>\n",
       "      <td>Marvel's The Avengers</td>\n",
       "      <td>Walt Disney Studios (BV)</td>\n",
       "      <td>623400000.0</td>\n",
       "      <td>895500000.0</td>\n",
       "      <td>2012</td>\n",
       "      <td>1.518900e+09</td>\n",
       "    </tr>\n",
       "    <tr>\n",
       "      <th>1875</th>\n",
       "      <td>Avengers: Age of Ultron</td>\n",
       "      <td>Walt Disney Studios (BV)</td>\n",
       "      <td>459000000.0</td>\n",
       "      <td>946400000.0</td>\n",
       "      <td>2015</td>\n",
       "      <td>1.405400e+09</td>\n",
       "    </tr>\n",
       "    <tr>\n",
       "      <th>3080</th>\n",
       "      <td>Black Panther</td>\n",
       "      <td>Walt Disney Studios (BV)</td>\n",
       "      <td>700100000.0</td>\n",
       "      <td>646900000.0</td>\n",
       "      <td>2018</td>\n",
       "      <td>1.347000e+09</td>\n",
       "    </tr>\n",
       "    <tr>\n",
       "      <th>328</th>\n",
       "      <td>Harry Potter and the Deathly Hallows Part 2</td>\n",
       "      <td>Warner Bros.</td>\n",
       "      <td>381000000.0</td>\n",
       "      <td>960500000.0</td>\n",
       "      <td>2011</td>\n",
       "      <td>1.341500e+09</td>\n",
       "    </tr>\n",
       "    <tr>\n",
       "      <th>2758</th>\n",
       "      <td>Star Wars: The Last Jedi</td>\n",
       "      <td>Walt Disney Studios (BV)</td>\n",
       "      <td>620200000.0</td>\n",
       "      <td>712400000.0</td>\n",
       "      <td>2017</td>\n",
       "      <td>1.332600e+09</td>\n",
       "    </tr>\n",
       "    <tr>\n",
       "      <th>3081</th>\n",
       "      <td>Jurassic World: Fallen Kingdom</td>\n",
       "      <td>Universal Studios</td>\n",
       "      <td>417700000.0</td>\n",
       "      <td>891800000.0</td>\n",
       "      <td>2018</td>\n",
       "      <td>1.309500e+09</td>\n",
       "    </tr>\n",
       "    <tr>\n",
       "      <th>1127</th>\n",
       "      <td>Frozen</td>\n",
       "      <td>Walt Disney Studios (BV)</td>\n",
       "      <td>400700000.0</td>\n",
       "      <td>875700000.0</td>\n",
       "      <td>2013</td>\n",
       "      <td>1.276400e+09</td>\n",
       "    </tr>\n",
       "    <tr>\n",
       "      <th>2759</th>\n",
       "      <td>Beauty and the Beast (2017)</td>\n",
       "      <td>Walt Disney Studios (BV)</td>\n",
       "      <td>504000000.0</td>\n",
       "      <td>759500000.0</td>\n",
       "      <td>2017</td>\n",
       "      <td>1.263500e+09</td>\n",
       "    </tr>\n",
       "    <tr>\n",
       "      <th>3082</th>\n",
       "      <td>Incredibles 2</td>\n",
       "      <td>Walt Disney Studios (BV)</td>\n",
       "      <td>608600000.0</td>\n",
       "      <td>634200000.0</td>\n",
       "      <td>2018</td>\n",
       "      <td>1.242800e+09</td>\n",
       "    </tr>\n",
       "    <tr>\n",
       "      <th>1128</th>\n",
       "      <td>Iron Man 3</td>\n",
       "      <td>Walt Disney Studios (BV)</td>\n",
       "      <td>409000000.0</td>\n",
       "      <td>805800000.0</td>\n",
       "      <td>2013</td>\n",
       "      <td>1.214800e+09</td>\n",
       "    </tr>\n",
       "  </tbody>\n",
       "</table>\n",
       "</div>"
      ],
      "text/plain": [
       "                                            title                    studio  \\\n",
       "727                         Marvel's The Avengers  Walt Disney Studios (BV)   \n",
       "1875                      Avengers: Age of Ultron  Walt Disney Studios (BV)   \n",
       "3080                                Black Panther  Walt Disney Studios (BV)   \n",
       "328   Harry Potter and the Deathly Hallows Part 2              Warner Bros.   \n",
       "2758                     Star Wars: The Last Jedi  Walt Disney Studios (BV)   \n",
       "3081               Jurassic World: Fallen Kingdom         Universal Studios   \n",
       "1127                                       Frozen  Walt Disney Studios (BV)   \n",
       "2759                  Beauty and the Beast (2017)  Walt Disney Studios (BV)   \n",
       "3082                                Incredibles 2  Walt Disney Studios (BV)   \n",
       "1128                                   Iron Man 3  Walt Disney Studios (BV)   \n",
       "\n",
       "      domestic_gross  foreign_gross  year  Total Gross Revenue  \n",
       "727      623400000.0    895500000.0  2012         1.518900e+09  \n",
       "1875     459000000.0    946400000.0  2015         1.405400e+09  \n",
       "3080     700100000.0    646900000.0  2018         1.347000e+09  \n",
       "328      381000000.0    960500000.0  2011         1.341500e+09  \n",
       "2758     620200000.0    712400000.0  2017         1.332600e+09  \n",
       "3081     417700000.0    891800000.0  2018         1.309500e+09  \n",
       "1127     400700000.0    875700000.0  2013         1.276400e+09  \n",
       "2759     504000000.0    759500000.0  2017         1.263500e+09  \n",
       "3082     608600000.0    634200000.0  2018         1.242800e+09  \n",
       "1128     409000000.0    805800000.0  2013         1.214800e+09  "
      ]
     },
<<<<<<< HEAD
     "execution_count": 210,
=======
     "execution_count": 58,
>>>>>>> 0a162eaf96ebe7e6f3951266d3748f20647f3a5c
     "metadata": {},
     "output_type": "execute_result"
    }
   ],
   "source": [
    "# Top 10 movies by Total Gross Revenue\n",
    "\n",
    "top_gross_dom_df= gross_df.sort_values('Total Gross Revenue', ascending=False)\n",
    "top_gross_dom_df[:10]"
   ]
  },
  {
   "cell_type": "markdown",
   "metadata": {},
   "source": [
    "#### Which genres should you consider when making the best movie by rating?"
   ]
  },
  {
   "cell_type": "code",
<<<<<<< HEAD
   "execution_count": 222,
=======
   "execution_count": 65,
   "metadata": {},
   "outputs": [
    {
     "data": {
      "text/html": [
       "<div>\n",
       "<style scoped>\n",
       "    .dataframe tbody tr th:only-of-type {\n",
       "        vertical-align: middle;\n",
       "    }\n",
       "\n",
       "    .dataframe tbody tr th {\n",
       "        vertical-align: top;\n",
       "    }\n",
       "\n",
       "    .dataframe thead th {\n",
       "        text-align: right;\n",
       "    }\n",
       "</style>\n",
       "<table border=\"1\" class=\"dataframe\">\n",
       "  <thead>\n",
       "    <tr style=\"text-align: right;\">\n",
       "      <th></th>\n",
       "      <th>tconst</th>\n",
       "      <th>ordering_x</th>\n",
       "      <th>title</th>\n",
       "      <th>region</th>\n",
       "      <th>language</th>\n",
       "      <th>types</th>\n",
       "      <th>attributes</th>\n",
       "      <th>is_original_title</th>\n",
       "      <th>primary_title</th>\n",
       "      <th>original_title</th>\n",
       "      <th>...</th>\n",
       "      <th>birth_year</th>\n",
       "      <th>death_year</th>\n",
       "      <th>primary_profession</th>\n",
       "      <th>known_for_titles</th>\n",
       "      <th>ordering_y</th>\n",
       "      <th>category</th>\n",
       "      <th>job</th>\n",
       "      <th>characters</th>\n",
       "      <th>averagerating</th>\n",
       "      <th>numvotes</th>\n",
       "    </tr>\n",
       "  </thead>\n",
       "  <tbody>\n",
       "    <tr>\n",
       "      <th>0</th>\n",
       "      <td>tt0369610</td>\n",
       "      <td>10</td>\n",
       "      <td>Джурасик свят</td>\n",
       "      <td>BG</td>\n",
       "      <td>bg</td>\n",
       "      <td>NaN</td>\n",
       "      <td>NaN</td>\n",
       "      <td>0.0</td>\n",
       "      <td>Jurassic World</td>\n",
       "      <td>Jurassic World</td>\n",
       "      <td>...</td>\n",
       "      <td>1975.0</td>\n",
       "      <td>NaN</td>\n",
       "      <td>actress,producer,soundtrack</td>\n",
       "      <td>tt0369610,tt0337563,tt0478970,tt0988595</td>\n",
       "      <td>4</td>\n",
       "      <td>actress</td>\n",
       "      <td>NaN</td>\n",
       "      <td>[\"Karen\"]</td>\n",
       "      <td>7.0</td>\n",
       "      <td>539338</td>\n",
       "    </tr>\n",
       "    <tr>\n",
       "      <th>1</th>\n",
       "      <td>tt0369610</td>\n",
       "      <td>10</td>\n",
       "      <td>Джурасик свят</td>\n",
       "      <td>BG</td>\n",
       "      <td>bg</td>\n",
       "      <td>NaN</td>\n",
       "      <td>NaN</td>\n",
       "      <td>0.0</td>\n",
       "      <td>Jurassic World</td>\n",
       "      <td>Jurassic World</td>\n",
       "      <td>...</td>\n",
       "      <td>1979.0</td>\n",
       "      <td>NaN</td>\n",
       "      <td>actor,soundtrack,producer</td>\n",
       "      <td>tt1490017,tt0369610,tt1266020,tt2015381</td>\n",
       "      <td>1</td>\n",
       "      <td>actor</td>\n",
       "      <td>NaN</td>\n",
       "      <td>[\"Owen\"]</td>\n",
       "      <td>7.0</td>\n",
       "      <td>539338</td>\n",
       "    </tr>\n",
       "    <tr>\n",
       "      <th>2</th>\n",
       "      <td>tt0369610</td>\n",
       "      <td>10</td>\n",
       "      <td>Джурасик свят</td>\n",
       "      <td>BG</td>\n",
       "      <td>bg</td>\n",
       "      <td>NaN</td>\n",
       "      <td>NaN</td>\n",
       "      <td>0.0</td>\n",
       "      <td>Jurassic World</td>\n",
       "      <td>Jurassic World</td>\n",
       "      <td>...</td>\n",
       "      <td>1981.0</td>\n",
       "      <td>NaN</td>\n",
       "      <td>actress,director,writer</td>\n",
       "      <td>tt1454029,tt0369610,tt1800302</td>\n",
       "      <td>2</td>\n",
       "      <td>actress</td>\n",
       "      <td>NaN</td>\n",
       "      <td>[\"Claire\"]</td>\n",
       "      <td>7.0</td>\n",
       "      <td>539338</td>\n",
       "    </tr>\n",
       "    <tr>\n",
       "      <th>3</th>\n",
       "      <td>tt0369610</td>\n",
       "      <td>10</td>\n",
       "      <td>Джурасик свят</td>\n",
       "      <td>BG</td>\n",
       "      <td>bg</td>\n",
       "      <td>NaN</td>\n",
       "      <td>NaN</td>\n",
       "      <td>0.0</td>\n",
       "      <td>Jurassic World</td>\n",
       "      <td>Jurassic World</td>\n",
       "      <td>...</td>\n",
       "      <td>1963.0</td>\n",
       "      <td>NaN</td>\n",
       "      <td>writer,producer,actress</td>\n",
       "      <td>tt2103281,tt1318514,tt0369610,tt3450958</td>\n",
       "      <td>7</td>\n",
       "      <td>writer</td>\n",
       "      <td>screenplay by</td>\n",
       "      <td>NaN</td>\n",
       "      <td>7.0</td>\n",
       "      <td>539338</td>\n",
       "    </tr>\n",
       "    <tr>\n",
       "      <th>4</th>\n",
       "      <td>tt0369610</td>\n",
       "      <td>10</td>\n",
       "      <td>Джурасик свят</td>\n",
       "      <td>BG</td>\n",
       "      <td>bg</td>\n",
       "      <td>NaN</td>\n",
       "      <td>NaN</td>\n",
       "      <td>0.0</td>\n",
       "      <td>Jurassic World</td>\n",
       "      <td>Jurassic World</td>\n",
       "      <td>...</td>\n",
       "      <td>1976.0</td>\n",
       "      <td>NaN</td>\n",
       "      <td>writer,producer,director</td>\n",
       "      <td>tt0369610,tt4881806,tt4572792,tt1862079</td>\n",
       "      <td>5</td>\n",
       "      <td>director</td>\n",
       "      <td>NaN</td>\n",
       "      <td>NaN</td>\n",
       "      <td>7.0</td>\n",
       "      <td>539338</td>\n",
       "    </tr>\n",
       "  </tbody>\n",
       "</table>\n",
       "<p>5 rows × 27 columns</p>\n",
       "</div>"
      ],
      "text/plain": [
       "      tconst  ordering_x          title region language types attributes  \\\n",
       "0  tt0369610          10  Джурасик свят     BG       bg   NaN        NaN   \n",
       "1  tt0369610          10  Джурасик свят     BG       bg   NaN        NaN   \n",
       "2  tt0369610          10  Джурасик свят     BG       bg   NaN        NaN   \n",
       "3  tt0369610          10  Джурасик свят     BG       bg   NaN        NaN   \n",
       "4  tt0369610          10  Джурасик свят     BG       bg   NaN        NaN   \n",
       "\n",
       "   is_original_title   primary_title  original_title  ...  birth_year  \\\n",
       "0                0.0  Jurassic World  Jurassic World  ...      1975.0   \n",
       "1                0.0  Jurassic World  Jurassic World  ...      1979.0   \n",
       "2                0.0  Jurassic World  Jurassic World  ...      1981.0   \n",
       "3                0.0  Jurassic World  Jurassic World  ...      1963.0   \n",
       "4                0.0  Jurassic World  Jurassic World  ...      1976.0   \n",
       "\n",
       "   death_year           primary_profession  \\\n",
       "0         NaN  actress,producer,soundtrack   \n",
       "1         NaN    actor,soundtrack,producer   \n",
       "2         NaN      actress,director,writer   \n",
       "3         NaN      writer,producer,actress   \n",
       "4         NaN     writer,producer,director   \n",
       "\n",
       "                          known_for_titles ordering_y  category  \\\n",
       "0  tt0369610,tt0337563,tt0478970,tt0988595          4   actress   \n",
       "1  tt1490017,tt0369610,tt1266020,tt2015381          1     actor   \n",
       "2            tt1454029,tt0369610,tt1800302          2   actress   \n",
       "3  tt2103281,tt1318514,tt0369610,tt3450958          7    writer   \n",
       "4  tt0369610,tt4881806,tt4572792,tt1862079          5  director   \n",
       "\n",
       "             job  characters  averagerating numvotes  \n",
       "0            NaN   [\"Karen\"]            7.0   539338  \n",
       "1            NaN    [\"Owen\"]            7.0   539338  \n",
       "2            NaN  [\"Claire\"]            7.0   539338  \n",
       "3  screenplay by         NaN            7.0   539338  \n",
       "4            NaN         NaN            7.0   539338  \n",
       "\n",
       "[5 rows x 27 columns]"
      ]
     },
     "execution_count": 65,
     "metadata": {},
     "output_type": "execute_result"
    }
   ],
   "source": [
    "final_merge.head()"
   ]
  },
  {
   "cell_type": "code",
   "execution_count": 68,
>>>>>>> 0a162eaf96ebe7e6f3951266d3748f20647f3a5c
   "metadata": {},
   "outputs": [
    {
     "data": {
      "text/html": [
       "<div>\n",
       "<style scoped>\n",
       "    .dataframe tbody tr th:only-of-type {\n",
       "        vertical-align: middle;\n",
       "    }\n",
       "\n",
       "    .dataframe tbody tr th {\n",
       "        vertical-align: top;\n",
       "    }\n",
       "\n",
       "    .dataframe thead th {\n",
       "        text-align: right;\n",
       "    }\n",
       "</style>\n",
       "<table border=\"1\" class=\"dataframe\">\n",
       "  <thead>\n",
       "    <tr style=\"text-align: right;\">\n",
       "      <th></th>\n",
       "      <th>genres</th>\n",
       "      <th>averagerating</th>\n",
       "    </tr>\n",
       "  </thead>\n",
       "  <tbody>\n",
       "    <tr>\n",
       "      <th>0</th>\n",
       "      <td>Biography,Comedy,Drama</td>\n",
<<<<<<< HEAD
       "      <td>6.951899</td>\n",
       "    </tr>\n",
       "    <tr>\n",
       "      <th>1</th>\n",
       "      <td>Biography,Drama,History</td>\n",
       "      <td>6.768675</td>\n",
       "    </tr>\n",
       "    <tr>\n",
       "      <th>2</th>\n",
       "      <td>Biography,Drama</td>\n",
       "      <td>6.607407</td>\n",
       "    </tr>\n",
       "    <tr>\n",
       "      <th>3</th>\n",
       "      <td>Action,Adventure,Animation</td>\n",
       "      <td>6.523750</td>\n",
=======
       "      <td>7.078694</td>\n",
       "    </tr>\n",
       "    <tr>\n",
       "      <th>1</th>\n",
       "      <td>Action,Adventure,Animation</td>\n",
       "      <td>6.921284</td>\n",
       "    </tr>\n",
       "    <tr>\n",
       "      <th>2</th>\n",
       "      <td>Biography,Drama,History</td>\n",
       "      <td>6.902828</td>\n",
       "    </tr>\n",
       "    <tr>\n",
       "      <th>3</th>\n",
       "      <td>Biography,Drama</td>\n",
       "      <td>6.802180</td>\n",
>>>>>>> 0a162eaf96ebe7e6f3951266d3748f20647f3a5c
       "    </tr>\n",
       "    <tr>\n",
       "      <th>4</th>\n",
       "      <td>Adventure,Comedy,Drama</td>\n",
<<<<<<< HEAD
       "      <td>6.480137</td>\n",
       "    </tr>\n",
       "    <tr>\n",
       "      <th>5</th>\n",
       "      <td>Drama</td>\n",
       "      <td>6.467085</td>\n",
       "    </tr>\n",
       "    <tr>\n",
       "      <th>6</th>\n",
       "      <td>Crime,Drama</td>\n",
       "      <td>6.376409</td>\n",
       "    </tr>\n",
       "    <tr>\n",
       "      <th>7</th>\n",
       "      <td>Comedy,Drama</td>\n",
       "      <td>6.338154</td>\n",
=======
       "      <td>6.596671</td>\n",
       "    </tr>\n",
       "    <tr>\n",
       "      <th>5</th>\n",
       "      <td>Crime,Drama</td>\n",
       "      <td>6.586345</td>\n",
       "    </tr>\n",
       "    <tr>\n",
       "      <th>6</th>\n",
       "      <td>Drama</td>\n",
       "      <td>6.497722</td>\n",
       "    </tr>\n",
       "    <tr>\n",
       "      <th>7</th>\n",
       "      <td>Action,Adventure,Sci-Fi</td>\n",
       "      <td>6.482549</td>\n",
>>>>>>> 0a162eaf96ebe7e6f3951266d3748f20647f3a5c
       "    </tr>\n",
       "    <tr>\n",
       "      <th>8</th>\n",
       "      <td>Drama,Romance</td>\n",
<<<<<<< HEAD
       "      <td>6.269805</td>\n",
       "    </tr>\n",
       "    <tr>\n",
       "      <th>9</th>\n",
       "      <td>Comedy,Drama,Romance</td>\n",
       "      <td>6.267208</td>\n",
=======
       "      <td>6.462546</td>\n",
       "    </tr>\n",
       "    <tr>\n",
       "      <th>9</th>\n",
       "      <td>Comedy,Drama</td>\n",
       "      <td>6.414097</td>\n",
>>>>>>> 0a162eaf96ebe7e6f3951266d3748f20647f3a5c
       "    </tr>\n",
       "  </tbody>\n",
       "</table>\n",
       "</div>"
      ],
      "text/plain": [
       "                       genres  averagerating\n",
<<<<<<< HEAD
       "0      Biography,Comedy,Drama       6.951899\n",
       "1     Biography,Drama,History       6.768675\n",
       "2             Biography,Drama       6.607407\n",
       "3  Action,Adventure,Animation       6.523750\n",
       "4      Adventure,Comedy,Drama       6.480137\n",
       "5                       Drama       6.467085\n",
       "6                 Crime,Drama       6.376409\n",
       "7                Comedy,Drama       6.338154\n",
       "8               Drama,Romance       6.269805\n",
       "9        Comedy,Drama,Romance       6.267208"
      ]
     },
     "execution_count": 222,
=======
       "0      Biography,Comedy,Drama       7.078694\n",
       "1  Action,Adventure,Animation       6.921284\n",
       "2     Biography,Drama,History       6.902828\n",
       "3             Biography,Drama       6.802180\n",
       "4      Adventure,Comedy,Drama       6.596671\n",
       "5                 Crime,Drama       6.586345\n",
       "6                       Drama       6.497722\n",
       "7     Action,Adventure,Sci-Fi       6.482549\n",
       "8               Drama,Romance       6.462546\n",
       "9                Comedy,Drama       6.414097"
      ]
     },
     "execution_count": 68,
>>>>>>> 0a162eaf96ebe7e6f3951266d3748f20647f3a5c
     "metadata": {},
     "output_type": "execute_result"
    }
   ],
   "source": [
<<<<<<< HEAD
    "# Filtering genres by value counts\n",
    "list_of_genres = final_merge['genres'].value_counts()[:50]\n",
    "#all genres appearing in original title movies with a total number of votes greater than 33000\n",
    "all_genres_us = final_merge[(final_merge['genres'].isin(list_of_genres.index)) &\\\n",
    "                         (final_merge['numvotes'] >= 33000)&\\\n",
    "                         (final_merge['start_year'] >= 2010)&\\\n",
    "                         (final_merge['region'] == 'US')]\n",
    "#Filtering genre value counts based on above filter\n",
    "all_genres_us = all_genres_us['genres'].value_counts()\n",
    "#Filtering genres based on total value counts greater than 100\n",
    "all_genres_us_greater_100 = all_genres_us.values >= 100\n",
    "#Filtering genres with a count over 100 against the all_genres filter\n",
    "the_genres_us_name = all_genres_us[all_genres_us_greater_100]\n",
    "#Filtering the_genres_name against the complete dataset\n",
    "filter_with_full_table_us = final_merge[(final_merge['genres'].isin(the_genres_us_name.index))]\n",
    "#Dropping duplicate tconst values\n",
    "genre_drop_duplicates_us = filter_with_full_table_us.drop_duplicates(subset = 'tconst')\n",
    "#Creating a table of top 10 genres excluding the top 6 which are documentaries or biographies\n",
    "top_10_genres_us = pd.DataFrame(genre_drop_duplicates_us.groupby('genres')['averagerating'].mean().sort_values(ascending = False))[:10]\n",
    "#Resetting the index\n",
    "top_10_genres_us = top_10_genres_us.reset_index()\n",
    "top_10_genres_us"
=======
    "# Grouping the top 50 genres by count\n",
    "list_of_genres = final_merge['genres'].value_counts()[:50]\n",
    "#all genres appearing in original title movies with a total number of votes greater than 33000 (the mean votes) and release date post 2010\n",
    "all_genres = final_merge[(final_merge['genres'].isin(list_of_genres.index)) &\\\n",
    "                         (final_merge['is_original_title'] == 1)&\\\n",
    "                         (final_merge['numvotes'] >= 33000)&\\\n",
    "                         (final_merge['start_year'] > 2010)]\n",
    "#total genres values counts based on filtered above data\n",
    "all_genres = all_genres['genres'].value_counts()\n",
    "#filtering genres that appear more than 100 times\n",
    "all_genres_greater_2 = all_genres.values >= 100\n",
    "#filtered genres list vs greater than 100 list\n",
    "the_genres_name = all_genres[all_genres_greater_2]\n",
    "\n",
    "filtering_genre_data_set = final_merge[(final_merge['genres'].isin(the_genres_name.index))]\n",
    "filtering_genre_data_set.drop(['region'], 1, inplace = True)\n",
    "top_10_genres = x.groupby('genres')['averagerating'].mean().sort_values(ascending = False)[:10]\n",
    "pd.DataFrame(top_10_genres).reset_index()"
>>>>>>> 0a162eaf96ebe7e6f3951266d3748f20647f3a5c
   ]
  },
  {
   "cell_type": "markdown",
   "metadata": {},
   "source": [
    "#### Which directors should you consider when making the best movie by rating?"
   ]
  },
  {
   "cell_type": "code",
<<<<<<< HEAD
   "execution_count": 212,
=======
   "execution_count": 60,
>>>>>>> 0a162eaf96ebe7e6f3951266d3748f20647f3a5c
   "metadata": {},
   "outputs": [
    {
     "data": {
      "text/html": [
       "<div>\n",
       "<style scoped>\n",
       "    .dataframe tbody tr th:only-of-type {\n",
       "        vertical-align: middle;\n",
       "    }\n",
       "\n",
       "    .dataframe tbody tr th {\n",
       "        vertical-align: top;\n",
       "    }\n",
       "\n",
       "    .dataframe thead th {\n",
       "        text-align: right;\n",
       "    }\n",
       "</style>\n",
       "<table border=\"1\" class=\"dataframe\">\n",
       "  <thead>\n",
       "    <tr style=\"text-align: right;\">\n",
       "      <th></th>\n",
       "      <th>primary_name</th>\n",
       "      <th>averagerating</th>\n",
       "    </tr>\n",
       "  </thead>\n",
       "  <tbody>\n",
       "    <tr>\n",
       "      <th>0</th>\n",
       "      <td>Anthony Russo</td>\n",
       "      <td>8.225000</td>\n",
       "    </tr>\n",
       "    <tr>\n",
       "      <th>1</th>\n",
       "      <td>Joe Russo</td>\n",
       "      <td>8.225000</td>\n",
       "    </tr>\n",
       "    <tr>\n",
       "      <th>2</th>\n",
       "      <td>Christopher Nolan</td>\n",
       "      <td>8.016667</td>\n",
       "    </tr>\n",
       "    <tr>\n",
       "      <th>3</th>\n",
       "      <td>Nuri Bilge Ceylan</td>\n",
       "      <td>7.950000</td>\n",
       "    </tr>\n",
       "    <tr>\n",
       "      <th>4</th>\n",
       "      <td>Quentin Tarantino</td>\n",
       "      <td>7.912500</td>\n",
       "    </tr>\n",
       "    <tr>\n",
       "      <th>5</th>\n",
       "      <td>S.S. Rajamouli</td>\n",
       "      <td>7.900000</td>\n",
       "    </tr>\n",
       "    <tr>\n",
       "      <th>6</th>\n",
       "      <td>Alejandro G. Iñárritu</td>\n",
       "      <td>7.875000</td>\n",
       "    </tr>\n",
       "    <tr>\n",
       "      <th>7</th>\n",
       "      <td>Toshiyuki Kubooka</td>\n",
       "      <td>7.833333</td>\n",
       "    </tr>\n",
       "    <tr>\n",
       "      <th>8</th>\n",
       "      <td>Denis Villeneuve</td>\n",
       "      <td>7.800000</td>\n",
       "    </tr>\n",
       "    <tr>\n",
       "      <th>9</th>\n",
       "      <td>David Fincher</td>\n",
       "      <td>7.750000</td>\n",
       "    </tr>\n",
       "  </tbody>\n",
       "</table>\n",
       "</div>"
      ],
      "text/plain": [
       "            primary_name  averagerating\n",
       "0          Anthony Russo       8.225000\n",
       "1              Joe Russo       8.225000\n",
       "2      Christopher Nolan       8.016667\n",
       "3      Nuri Bilge Ceylan       7.950000\n",
       "4      Quentin Tarantino       7.912500\n",
       "5         S.S. Rajamouli       7.900000\n",
       "6  Alejandro G. Iñárritu       7.875000\n",
       "7      Toshiyuki Kubooka       7.833333\n",
       "8       Denis Villeneuve       7.800000\n",
       "9          David Fincher       7.750000"
      ]
     },
<<<<<<< HEAD
     "execution_count": 212,
=======
     "execution_count": 60,
>>>>>>> 0a162eaf96ebe7e6f3951266d3748f20647f3a5c
     "metadata": {},
     "output_type": "execute_result"
    }
   ],
   "source": [
    "#all directors appearing in original title movies with a total number of votes greater than 5000\n",
    "all_directors = final_merge[(final_merge['category'] == 'director') &\\\n",
    "                            (final_merge['is_original_title'] == 1)&\\\n",
    "                            (final_merge['numvotes'] >= 5000)&\\\n",
    "                            (final_merge['start_year'] > 2010)]\n",
    "#total movies directors have appeared in \n",
    "all_directors_name = all_directors['primary_name'].value_counts()\n",
    "#filtering director names that appear more than 3 times\n",
    "all_directors_name_greater_2 = all_directors_name.values >= 3\n",
    "#filtered names list vs geart than 3 list\n",
    "the_directors_name = all_directors_name[all_directors_name_greater_2]\n",
    "\n",
    "\n",
    "x = final_merge[(final_merge['primary_name'].isin(the_directors_name.index)) & (final_merge['is_original_title'] == 1)]\n",
    "x.drop(['region'], 1, inplace = True)\n",
    "y = x.groupby('primary_name')['averagerating'].mean().sort_values(ascending = False)\n",
    "\n",
    "top_10_directors = y[:10]\n",
    "pd.DataFrame(top_10_directors).reset_index()"
   ]
  },
  {
   "cell_type": "markdown",
   "metadata": {},
   "source": [
    "#### Which writers should you consider when making the best movie by rating?"
   ]
  },
  {
   "cell_type": "code",
<<<<<<< HEAD
   "execution_count": 213,
=======
   "execution_count": 61,
>>>>>>> 0a162eaf96ebe7e6f3951266d3748f20647f3a5c
   "metadata": {},
   "outputs": [
    {
     "data": {
      "text/html": [
       "<div>\n",
       "<style scoped>\n",
       "    .dataframe tbody tr th:only-of-type {\n",
       "        vertical-align: middle;\n",
       "    }\n",
       "\n",
       "    .dataframe tbody tr th {\n",
       "        vertical-align: top;\n",
       "    }\n",
       "\n",
       "    .dataframe thead th {\n",
       "        text-align: right;\n",
       "    }\n",
       "</style>\n",
       "<table border=\"1\" class=\"dataframe\">\n",
       "  <thead>\n",
       "    <tr style=\"text-align: right;\">\n",
       "      <th></th>\n",
       "      <th>primary_name</th>\n",
       "      <th>averagerating</th>\n",
       "    </tr>\n",
       "  </thead>\n",
       "  <tbody>\n",
       "    <tr>\n",
       "      <th>0</th>\n",
       "      <td>Vijay Deverakonda</td>\n",
       "      <td>7.940000</td>\n",
       "    </tr>\n",
       "    <tr>\n",
       "      <th>1</th>\n",
       "      <td>Kevin T. Collins</td>\n",
       "      <td>7.833333</td>\n",
       "    </tr>\n",
       "    <tr>\n",
       "      <th>2</th>\n",
       "      <td>Vicky Kaushal</td>\n",
       "      <td>7.685714</td>\n",
       "    </tr>\n",
       "    <tr>\n",
       "      <th>3</th>\n",
       "      <td>Craig Ferguson</td>\n",
       "      <td>7.600000</td>\n",
       "    </tr>\n",
       "    <tr>\n",
       "      <th>4</th>\n",
       "      <td>Jin Zhang</td>\n",
       "      <td>7.600000</td>\n",
       "    </tr>\n",
       "    <tr>\n",
       "      <th>5</th>\n",
       "      <td>Çetin Tekindor</td>\n",
       "      <td>7.575000</td>\n",
       "    </tr>\n",
       "    <tr>\n",
       "      <th>6</th>\n",
       "      <td>Robert Downey Jr.</td>\n",
       "      <td>7.530769</td>\n",
       "    </tr>\n",
       "    <tr>\n",
       "      <th>7</th>\n",
       "      <td>Ian McKellen</td>\n",
       "      <td>7.500000</td>\n",
       "    </tr>\n",
       "    <tr>\n",
       "      <th>8</th>\n",
       "      <td>Ryô Horikawa</td>\n",
       "      <td>7.500000</td>\n",
       "    </tr>\n",
       "    <tr>\n",
       "      <th>9</th>\n",
       "      <td>Andrew Garfield</td>\n",
       "      <td>7.472727</td>\n",
       "    </tr>\n",
       "  </tbody>\n",
       "</table>\n",
       "</div>"
      ],
      "text/plain": [
       "        primary_name  averagerating\n",
       "0  Vijay Deverakonda       7.940000\n",
       "1   Kevin T. Collins       7.833333\n",
       "2      Vicky Kaushal       7.685714\n",
       "3     Craig Ferguson       7.600000\n",
       "4          Jin Zhang       7.600000\n",
       "5     Çetin Tekindor       7.575000\n",
       "6  Robert Downey Jr.       7.530769\n",
       "7       Ian McKellen       7.500000\n",
       "8       Ryô Horikawa       7.500000\n",
       "9    Andrew Garfield       7.472727"
      ]
     },
<<<<<<< HEAD
     "execution_count": 213,
=======
     "execution_count": 61,
>>>>>>> 0a162eaf96ebe7e6f3951266d3748f20647f3a5c
     "metadata": {},
     "output_type": "execute_result"
    }
   ],
   "source": [
    "#all writers appearing in original title movies with a total number of votes greater than 5000\n",
    "all_writers = final_merge[(final_merge['category'] == 'actor') &\\\n",
    "                            (final_merge['is_original_title'] == 1)&\\\n",
    "                           (final_merge['numvotes'] >= 5000)]\n",
    "#total movies writers have appeared in \n",
    "all_writers_name = all_writers['primary_name'].value_counts()\n",
    "#filtering writers names that appear more than 3 times\n",
    "all_writers_name_greater_2 = all_writers_name.values >= 3\n",
    "#filtered names list vs geart than 3 list\n",
    "the_writers_name = all_writers_name[all_writers_name_greater_2]\n",
    "\n",
    "x = final_merge[(final_merge['primary_name'].isin(the_writers_name.index)) & (final_merge['is_original_title'] == 1)]\n",
    "x.drop(['region'], 1, inplace = True)\n",
    "y = x.groupby('primary_name')['averagerating'].mean().sort_values(ascending = False)\n",
    "\n",
    "top_10_writers = y[:10]\n",
    "pd.DataFrame(top_10_writers).reset_index()"
   ]
  },
  {
   "cell_type": "markdown",
   "metadata": {},
   "source": [
    "#### Which actors should you consider when making the best movie by rating?"
   ]
  },
  {
   "cell_type": "code",
<<<<<<< HEAD
   "execution_count": 214,
=======
   "execution_count": 62,
>>>>>>> 0a162eaf96ebe7e6f3951266d3748f20647f3a5c
   "metadata": {},
   "outputs": [
    {
     "data": {
      "text/html": [
       "<div>\n",
       "<style scoped>\n",
       "    .dataframe tbody tr th:only-of-type {\n",
       "        vertical-align: middle;\n",
       "    }\n",
       "\n",
       "    .dataframe tbody tr th {\n",
       "        vertical-align: top;\n",
       "    }\n",
       "\n",
       "    .dataframe thead th {\n",
       "        text-align: right;\n",
       "    }\n",
       "</style>\n",
       "<table border=\"1\" class=\"dataframe\">\n",
       "  <thead>\n",
       "    <tr style=\"text-align: right;\">\n",
       "      <th></th>\n",
       "      <th>primary_name</th>\n",
       "      <th>averagerating</th>\n",
       "    </tr>\n",
       "  </thead>\n",
       "  <tbody>\n",
       "    <tr>\n",
       "      <th>0</th>\n",
       "      <td>Vijay Deverakonda</td>\n",
       "      <td>7.940000</td>\n",
       "    </tr>\n",
       "    <tr>\n",
       "      <th>1</th>\n",
       "      <td>Kevin T. Collins</td>\n",
       "      <td>7.833333</td>\n",
       "    </tr>\n",
       "    <tr>\n",
       "      <th>2</th>\n",
       "      <td>Vicky Kaushal</td>\n",
       "      <td>7.685714</td>\n",
       "    </tr>\n",
       "    <tr>\n",
       "      <th>3</th>\n",
       "      <td>Craig Ferguson</td>\n",
       "      <td>7.600000</td>\n",
       "    </tr>\n",
       "    <tr>\n",
       "      <th>4</th>\n",
       "      <td>Jin Zhang</td>\n",
       "      <td>7.600000</td>\n",
       "    </tr>\n",
       "    <tr>\n",
       "      <th>5</th>\n",
       "      <td>Çetin Tekindor</td>\n",
       "      <td>7.575000</td>\n",
       "    </tr>\n",
       "    <tr>\n",
       "      <th>6</th>\n",
       "      <td>Robert Downey Jr.</td>\n",
       "      <td>7.530769</td>\n",
       "    </tr>\n",
       "    <tr>\n",
       "      <th>7</th>\n",
       "      <td>Ian McKellen</td>\n",
       "      <td>7.500000</td>\n",
       "    </tr>\n",
       "    <tr>\n",
       "      <th>8</th>\n",
       "      <td>Ryô Horikawa</td>\n",
       "      <td>7.500000</td>\n",
       "    </tr>\n",
       "    <tr>\n",
       "      <th>9</th>\n",
       "      <td>Andrew Garfield</td>\n",
       "      <td>7.472727</td>\n",
       "    </tr>\n",
       "  </tbody>\n",
       "</table>\n",
       "</div>"
      ],
      "text/plain": [
       "        primary_name  averagerating\n",
       "0  Vijay Deverakonda       7.940000\n",
       "1   Kevin T. Collins       7.833333\n",
       "2      Vicky Kaushal       7.685714\n",
       "3     Craig Ferguson       7.600000\n",
       "4          Jin Zhang       7.600000\n",
       "5     Çetin Tekindor       7.575000\n",
       "6  Robert Downey Jr.       7.530769\n",
       "7       Ian McKellen       7.500000\n",
       "8       Ryô Horikawa       7.500000\n",
       "9    Andrew Garfield       7.472727"
      ]
     },
<<<<<<< HEAD
     "execution_count": 214,
=======
     "execution_count": 62,
>>>>>>> 0a162eaf96ebe7e6f3951266d3748f20647f3a5c
     "metadata": {},
     "output_type": "execute_result"
    }
   ],
   "source": [
    "\n",
    "#all actors appearing in original title movies with a total number of votes greater than 5000\n",
    "all_actors = final_merge[(final_merge['category'] == 'actor') &\\\n",
    "                            (final_merge['is_original_title'] == 1)&\\\n",
    "                           (final_merge['numvotes'] >= 5000)]\n",
    "#total movies actors have appeared in \n",
    "all_actors_name = all_actors['primary_name'].value_counts()\n",
    "#filtering actors names that appear more than 3 times\n",
    "all_actors_name_greater_2 = all_actors_name.values >= 3\n",
    "#filtered names list vs geart than 3 list\n",
    "the_actors_name = all_actors_name[all_actors_name_greater_2]\n",
    "\n",
    "x = final_merge[(final_merge['primary_name'].isin(the_actors_name.index)) & (final_merge['is_original_title'] == 1)]\n",
    "x.drop(['region'], 1, inplace = True)\n",
    "y = x.groupby('primary_name')['averagerating'].mean().sort_values(ascending = False)\n",
    "\n",
    "top_10_actors = y[:10]\n",
    "pd.DataFrame(top_10_actors).reset_index()"
   ]
  },
  {
   "cell_type": "markdown",
   "metadata": {},
   "source": [
    "#### Which actresses should you consider when making the best movie by rating?"
   ]
  },
  {
   "cell_type": "code",
<<<<<<< HEAD
   "execution_count": 215,
=======
   "execution_count": 63,
>>>>>>> 0a162eaf96ebe7e6f3951266d3748f20647f3a5c
   "metadata": {},
   "outputs": [
    {
     "data": {
      "text/html": [
       "<div>\n",
       "<style scoped>\n",
       "    .dataframe tbody tr th:only-of-type {\n",
       "        vertical-align: middle;\n",
       "    }\n",
       "\n",
       "    .dataframe tbody tr th {\n",
       "        vertical-align: top;\n",
       "    }\n",
       "\n",
       "    .dataframe thead th {\n",
       "        text-align: right;\n",
       "    }\n",
       "</style>\n",
       "<table border=\"1\" class=\"dataframe\">\n",
       "  <thead>\n",
       "    <tr style=\"text-align: right;\">\n",
       "      <th></th>\n",
       "      <th>primary_name</th>\n",
       "      <th>averagerating</th>\n",
       "    </tr>\n",
       "  </thead>\n",
       "  <tbody>\n",
       "    <tr>\n",
       "      <th>0</th>\n",
       "      <td>Carrie Keranen</td>\n",
       "      <td>7.833333</td>\n",
       "    </tr>\n",
       "    <tr>\n",
       "      <th>1</th>\n",
       "      <td>Farah Zeynep Abdullah</td>\n",
       "      <td>7.640000</td>\n",
       "    </tr>\n",
       "    <tr>\n",
       "      <th>2</th>\n",
       "      <td>Aoi Yûki</td>\n",
       "      <td>7.500000</td>\n",
       "    </tr>\n",
       "    <tr>\n",
       "      <th>3</th>\n",
       "      <td>Masako Nozawa</td>\n",
       "      <td>7.500000</td>\n",
       "    </tr>\n",
       "    <tr>\n",
       "      <th>4</th>\n",
       "      <td>Carey Mulligan</td>\n",
       "      <td>7.272727</td>\n",
       "    </tr>\n",
       "    <tr>\n",
       "      <th>5</th>\n",
       "      <td>Mackenzie Foy</td>\n",
       "      <td>7.214286</td>\n",
       "    </tr>\n",
       "    <tr>\n",
       "      <th>6</th>\n",
       "      <td>Bhumi Pednekar</td>\n",
       "      <td>7.160000</td>\n",
       "    </tr>\n",
       "    <tr>\n",
       "      <th>7</th>\n",
       "      <td>Seher Devrim Yakut</td>\n",
       "      <td>7.150000</td>\n",
       "    </tr>\n",
       "    <tr>\n",
       "      <th>8</th>\n",
       "      <td>Emmy Rossum</td>\n",
       "      <td>7.133333</td>\n",
       "    </tr>\n",
       "    <tr>\n",
       "      <th>9</th>\n",
       "      <td>Sally Hawkins</td>\n",
       "      <td>7.100000</td>\n",
       "    </tr>\n",
       "  </tbody>\n",
       "</table>\n",
       "</div>"
      ],
      "text/plain": [
       "            primary_name  averagerating\n",
       "0         Carrie Keranen       7.833333\n",
       "1  Farah Zeynep Abdullah       7.640000\n",
       "2               Aoi Yûki       7.500000\n",
       "3          Masako Nozawa       7.500000\n",
       "4         Carey Mulligan       7.272727\n",
       "5          Mackenzie Foy       7.214286\n",
       "6         Bhumi Pednekar       7.160000\n",
       "7     Seher Devrim Yakut       7.150000\n",
       "8            Emmy Rossum       7.133333\n",
       "9          Sally Hawkins       7.100000"
      ]
     },
<<<<<<< HEAD
     "execution_count": 215,
=======
     "execution_count": 63,
>>>>>>> 0a162eaf96ebe7e6f3951266d3748f20647f3a5c
     "metadata": {},
     "output_type": "execute_result"
    }
   ],
   "source": [
    "\n",
    "#all actresses appearing in original title movies with a total number of votes greater than 5000\n",
    "all_actress = final_merge[(final_merge['category'] == 'actress') &\\\n",
    "                            (final_merge['is_original_title'] == 1)&\\\n",
    "                           (final_merge['numvotes'] >= 5000)]\n",
    "#total movies actresses have appeared in \n",
    "all_actress_name = all_actress['primary_name'].value_counts()\n",
    "#filtering actresses names that appear more than 3 times\n",
    "all_actress_name_greater_2 = all_actress_name.values >= 3\n",
    "#filtered names list vs geart than 3 list\n",
    "the_actress_name = all_actress_name[all_actress_name_greater_2]\n",
    "\n",
    "\n",
    "x = final_merge[(final_merge['primary_name'].isin(the_actress_name.index)) & (final_merge['is_original_title'] == 1)]\n",
    "x.drop(['region'], 1, inplace = True)\n",
    "y = x.groupby('primary_name')['averagerating'].mean().sort_values(ascending = False)\n",
    "\n",
    "top_10_actress = y[:10]\n",
    "pd.DataFrame(top_10_actress).reset_index()"
   ]
  },
  {
   "cell_type": "markdown",
   "metadata": {},
   "source": [
    "#### How long should your first movie be?"
   ]
  },
  {
   "cell_type": "code",
<<<<<<< HEAD
   "execution_count": 232,
=======
   "execution_count": 64,
>>>>>>> 0a162eaf96ebe7e6f3951266d3748f20647f3a5c
   "metadata": {
    "scrolled": true
   },
   "outputs": [
    {
     "data": {
<<<<<<< HEAD
      "image/png": "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\n",
=======
      "image/png": "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\n",
>>>>>>> 0a162eaf96ebe7e6f3951266d3748f20647f3a5c
      "text/plain": [
       "<Figure size 432x288 with 1 Axes>"
      ]
     },
     "metadata": {},
     "output_type": "display_data"
    }
   ],
   "source": [
    "#Create scatter of relationship between runtime minutes and ratings.\n",
    "\n",
    "total_mean_votes = final_merge[final_merge['numvotes'] >= 30000]\n",
    "\n",
    "avg_rating = total_mean_votes.groupby('runtime_minutes').mean()\n",
    "avg_rating.drop(['ordering_x', 'start_year', 'birth_year'], 1, inplace=True)\n",
    "avg_rating.reset_index(inplace=True)\n",
    "plt.scatter(avg_rating['runtime_minutes'], avg_rating['averagerating'])\n",
    "\n",
    "plt.title('Average Rating vs Runtime Minutes')\n",
    "plt.xlabel('Minutes')\n",
    "plt.ylabel('Rating')\n",
    "\n",
    "plt.xlim(0, 300);"
   ]
  },
  {
   "cell_type": "markdown",
   "metadata": {},
   "source": [
    "# Conclusions"
   ]
  },
  {
   "cell_type": "markdown",
   "metadata": {},
   "source": [
    "This analysis leads to the following recommendations for creating a movie.\n",
    "\n",
    "**1. Engage with the top 3 studios (Walt Disney, Warner Bros, and Fox) who generate the most revenue per movie.** \n",
    "\n",
    "These 3 studios have the highest average grossing revenue for those studios who have made over 100 movies. During May, which is the most profitable month of the year, Walt Disney distributed the top 5 highest profitable movies.\n",
    "\n",
    "**2. Engage with the top 3 directors (Anthony Russo, John Russo, Christopher Nolan)**\n",
    "\n",
    "These top 3 directors have the highest everage rating for movies with more than 5,000 votes in IMDB. They also all specialize in directing movies in one of the top 3 genres by average rating (Adventure/Drama/Sci-Fi). In addtion, two of our recommended directors (Anthony Russo and John Russo) directed one of the top budget films (Captain America: Civil War).\n",
    "\n",
    "**3. Consider releasing during May, June, or July which are months that generate the most profit.**\n",
    "\n",
    "The average total revenue is over $1.2 billion for movies relaesed in these months over the last 10 years. It makes sense to release your film during May with Walt Disney. The top 5 most profitable movies in May over the last 10 years were distriubted by Walt Disney.\n",
    "\n",
    "**4. Spend more money to make more money (scatter of budget to profit and revenue).**\n",
    "\n",
    "There is a positive corrrelation with how much money is budgeted for a film and how much revenue and profit the film will make. Spending more money on the film usually generates more revenue and profit. If you look at the top 5 most profitable movies realesed in May since 2010, they had an average budget of around $223 million. These were all movies in one of our recommended genres (Adventure, Drama, Sci-Fi) and with our top recommended studio, Walt Disney. \n",
    "\n",
    "**5. Consider making your movie around 150 minutes.**\n",
    "\n",
    "The average ratings of movies tend to increase as the length of the movie increases. Our analysis show the most positive incerease in ratings happens to movies up until 150 minutes."
   ]
  },
  {
   "cell_type": "markdown",
   "metadata": {},
   "source": [
    "# Next Steps"
   ]
<<<<<<< HEAD
  },
  {
   "cell_type": "markdown",
   "metadata": {},
   "source": [
    "Further analyses could provide even more insight into how you will create and distribute Microsoft's first movie:\n",
    "\n",
    "**Better idea of budgets and profits for movies in each genre.** You could get an idea of ROI for each movie and by each studio and not just total numbers like we shared in this analysis. Also, if we could find breaksowns of how the budget was spent to show Microsoft how much they should advertise, pay their actors, etc.)\n",
    "\n",
    "**Better Idea of what resources will crossover well into different genres.** You could take a look at the highest rated actors/writers/directors and see if they have crossed over into making a film out of their typical genre and see if it was succesful (i.e. research our top rated actor, Vijay Deverakonda, and see if he has made an Adventure move before)\n",
    "\n",
    "**Better qualitative analysis on why studios, writers, directors, actors/actresses, would want to work with Mcirsoft.** Maybe there are certain things they look for from the company producing the film (other than money). This could be done by surveys to indiviual people. \n",
    "\n"
   ]
  },
  {
   "cell_type": "code",
   "execution_count": null,
   "metadata": {},
   "outputs": [],
   "source": []
=======
>>>>>>> 0a162eaf96ebe7e6f3951266d3748f20647f3a5c
  }
 ],
 "metadata": {
  "kernelspec": {
   "display_name": "Python 3",
   "language": "python",
   "name": "python3"
  },
  "language_info": {
   "codemirror_mode": {
    "name": "ipython",
    "version": 3
   },
   "file_extension": ".py",
   "mimetype": "text/x-python",
   "name": "python",
   "nbconvert_exporter": "python",
   "pygments_lexer": "ipython3",
   "version": "3.8.5"
  }
 },
 "nbformat": 4,
 "nbformat_minor": 4
}
